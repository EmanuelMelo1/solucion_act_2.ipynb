{
  "nbformat": 4,
  "nbformat_minor": 0,
  "metadata": {
    "colab": {
      "provenance": []
    },
    "kernelspec": {
      "name": "python3",
      "display_name": "Python 3"
    },
    "language_info": {
      "name": "python"
    }
  },
  "cells": [
    {
      "cell_type": "code",
      "source": [
        "pip install wooldridge"
      ],
      "metadata": {
        "colab": {
          "base_uri": "https://localhost:8080/"
        },
        "id": "_rq3hBN4Fwc_",
        "outputId": "4f95e79b-625e-4f31-92e3-2471b0613a55"
      },
      "execution_count": 63,
      "outputs": [
        {
          "output_type": "stream",
          "name": "stdout",
          "text": [
            "Requirement already satisfied: wooldridge in /usr/local/lib/python3.10/dist-packages (0.4.4)\n",
            "Requirement already satisfied: pandas in /usr/local/lib/python3.10/dist-packages (from wooldridge) (1.5.3)\n",
            "Requirement already satisfied: python-dateutil>=2.8.1 in /usr/local/lib/python3.10/dist-packages (from pandas->wooldridge) (2.8.2)\n",
            "Requirement already satisfied: pytz>=2020.1 in /usr/local/lib/python3.10/dist-packages (from pandas->wooldridge) (2023.4)\n",
            "Requirement already satisfied: numpy>=1.21.0 in /usr/local/lib/python3.10/dist-packages (from pandas->wooldridge) (1.25.2)\n",
            "Requirement already satisfied: six>=1.5 in /usr/local/lib/python3.10/dist-packages (from python-dateutil>=2.8.1->pandas->wooldridge) (1.16.0)\n"
          ]
        }
      ]
    },
    {
      "cell_type": "code",
      "source": [
        "import pandas as pd\n",
        "import wooldridge as wd\n",
        "import numpy as np\n",
        "import matplotlib.pyplot as plt\n",
        "import seaborn as sns"
      ],
      "metadata": {
        "id": "YNcVmWbLUBqU"
      },
      "execution_count": 97,
      "outputs": []
    },
    {
      "cell_type": "code",
      "source": [
        "basedatos= pd.read_csv('/content/activity_2_ml.csv')"
      ],
      "metadata": {
        "id": "nolOfkrLVceU"
      },
      "execution_count": 144,
      "outputs": []
    },
    {
      "cell_type": "code",
      "source": [
        "pd.read_csv"
      ],
      "metadata": {
        "colab": {
          "base_uri": "https://localhost:8080/",
          "height": 482
        },
        "id": "IuGaEv7yGgXU",
        "outputId": "26191209-9149-4a35-bf63-cb20c30a0443"
      },
      "execution_count": 145,
      "outputs": [
        {
          "output_type": "execute_result",
          "data": {
            "text/plain": [
              "<function pandas.io.parsers.readers.read_csv(filepath_or_buffer: 'FilePath | ReadCsvBuffer[bytes] | ReadCsvBuffer[str]', *, sep: 'str | None | lib.NoDefault' = <no_default>, delimiter: 'str | None | lib.NoDefault' = None, header: \"int | Sequence[int] | None | Literal['infer']\" = 'infer', names: 'Sequence[Hashable] | None | lib.NoDefault' = <no_default>, index_col: 'IndexLabel | Literal[False] | None' = None, usecols=None, squeeze: 'bool | None' = None, prefix: 'str | lib.NoDefault' = <no_default>, mangle_dupe_cols: 'bool' = True, dtype: 'DtypeArg | None' = None, engine: 'CSVEngine | None' = None, converters=None, true_values=None, false_values=None, skipinitialspace: 'bool' = False, skiprows=None, skipfooter: 'int' = 0, nrows: 'int | None' = None, na_values=None, keep_default_na: 'bool' = True, na_filter: 'bool' = True, verbose: 'bool' = False, skip_blank_lines: 'bool' = True, parse_dates=None, infer_datetime_format: 'bool' = False, keep_date_col: 'bool' = False, date_parser=None, dayfirst: 'bool' = False, cache_dates: 'bool' = True, iterator: 'bool' = False, chunksize: 'int | None' = None, compression: 'CompressionOptions' = 'infer', thousands: 'str | None' = None, decimal: 'str' = '.', lineterminator: 'str | None' = None, quotechar: 'str' = '\"', quoting: 'int' = 0, doublequote: 'bool' = True, escapechar: 'str | None' = None, comment: 'str | None' = None, encoding: 'str | None' = None, encoding_errors: 'str | None' = 'strict', dialect: 'str | csv.Dialect | None' = None, error_bad_lines: 'bool | None' = None, warn_bad_lines: 'bool | None' = None, on_bad_lines=None, delim_whitespace: 'bool' = False, low_memory=True, memory_map: 'bool' = False, float_precision: \"Literal['high', 'legacy'] | None\" = None, storage_options: 'StorageOptions' = None) -> 'DataFrame | TextFileReader'>"
            ],
            "text/html": [
              "<div style=\"max-width:800px; border: 1px solid var(--colab-border-color);\"><style>\n",
              "      pre.function-repr-contents {\n",
              "        overflow-x: auto;\n",
              "        padding: 8px 12px;\n",
              "        max-height: 500px;\n",
              "      }\n",
              "\n",
              "      pre.function-repr-contents.function-repr-contents-collapsed {\n",
              "        cursor: pointer;\n",
              "        max-height: 100px;\n",
              "      }\n",
              "    </style>\n",
              "    <pre style=\"white-space: initial; background:\n",
              "         var(--colab-secondary-surface-color); padding: 8px 12px;\n",
              "         border-bottom: 1px solid var(--colab-border-color);\"><b>pandas.io.parsers.readers.read_csv</b><br/>def read_csv(filepath_or_buffer: FilePath | ReadCsvBuffer[bytes] | ReadCsvBuffer[str], sep: str | None | lib.NoDefault=lib.no_default, delimiter: str | None | lib.NoDefault=None, header: int | Sequence[int] | None | Literal[&#x27;infer&#x27;]=&#x27;infer&#x27;, names: Sequence[Hashable] | None | lib.NoDefault=lib.no_default, index_col: IndexLabel | Literal[False] | None=None, usecols=None, squeeze: bool | None=None, prefix: str | lib.NoDefault=lib.no_default, mangle_dupe_cols: bool=True, dtype: DtypeArg | None=None, engine: CSVEngine | None=None, converters=None, true_values=None, false_values=None, skipinitialspace: bool=False, skiprows=None, skipfooter: int=0, nrows: int | None=None, na_values=None, keep_default_na: bool=True, na_filter: bool=True, verbose: bool=False, skip_blank_lines: bool=True, parse_dates=None, infer_datetime_format: bool=False, keep_date_col: bool=False, date_parser=None, dayfirst: bool=False, cache_dates: bool=True, iterator: bool=False, chunksize: int | None=None, compression: CompressionOptions=&#x27;infer&#x27;, thousands: str | None=None, decimal: str=&#x27;.&#x27;, lineterminator: str | None=None, quotechar: str=&#x27;&quot;&#x27;, quoting: int=csv.QUOTE_MINIMAL, doublequote: bool=True, escapechar: str | None=None, comment: str | None=None, encoding: str | None=None, encoding_errors: str | None=&#x27;strict&#x27;, dialect: str | csv.Dialect | None=None, error_bad_lines: bool | None=None, warn_bad_lines: bool | None=None, on_bad_lines=None, delim_whitespace: bool=False, low_memory=_c_parser_defaults[&#x27;low_memory&#x27;], memory_map: bool=False, float_precision: Literal[&#x27;high&#x27;, &#x27;legacy&#x27;] | None=None, storage_options: StorageOptions=None) -&gt; DataFrame | TextFileReader</pre><pre class=\"function-repr-contents function-repr-contents-collapsed\" style=\"\"><a class=\"filepath\" style=\"display:none\" href=\"#\">/usr/local/lib/python3.10/dist-packages/pandas/io/parsers/readers.py</a>Read a comma-separated values (csv) file into DataFrame.\n",
              "\n",
              "Also supports optionally iterating or breaking of the file\n",
              "into chunks.\n",
              "\n",
              "Additional help can be found in the online docs for\n",
              "`IO Tools &lt;https://pandas.pydata.org/pandas-docs/stable/user_guide/io.html&gt;`_.\n",
              "\n",
              "Parameters\n",
              "----------\n",
              "filepath_or_buffer : str, path object or file-like object\n",
              "    Any valid string path is acceptable. The string could be a URL. Valid\n",
              "    URL schemes include http, ftp, s3, gs, and file. For file URLs, a host is\n",
              "    expected. A local file could be: file://localhost/path/to/table.csv.\n",
              "\n",
              "    If you want to pass in a path object, pandas accepts any ``os.PathLike``.\n",
              "\n",
              "    By file-like object, we refer to objects with a ``read()`` method, such as\n",
              "    a file handle (e.g. via builtin ``open`` function) or ``StringIO``.\n",
              "sep : str, default &#x27;,&#x27;\n",
              "    Delimiter to use. If sep is None, the C engine cannot automatically detect\n",
              "    the separator, but the Python parsing engine can, meaning the latter will\n",
              "    be used and automatically detect the separator by Python&#x27;s builtin sniffer\n",
              "    tool, ``csv.Sniffer``. In addition, separators longer than 1 character and\n",
              "    different from ``&#x27;\\s+&#x27;`` will be interpreted as regular expressions and\n",
              "    will also force the use of the Python parsing engine. Note that regex\n",
              "    delimiters are prone to ignoring quoted data. Regex example: ``&#x27;\\r\\t&#x27;``.\n",
              "delimiter : str, default ``None``\n",
              "    Alias for sep.\n",
              "header : int, list of int, None, default &#x27;infer&#x27;\n",
              "    Row number(s) to use as the column names, and the start of the\n",
              "    data.  Default behavior is to infer the column names: if no names\n",
              "    are passed the behavior is identical to ``header=0`` and column\n",
              "    names are inferred from the first line of the file, if column\n",
              "    names are passed explicitly then the behavior is identical to\n",
              "    ``header=None``. Explicitly pass ``header=0`` to be able to\n",
              "    replace existing names. The header can be a list of integers that\n",
              "    specify row locations for a multi-index on the columns\n",
              "    e.g. [0,1,3]. Intervening rows that are not specified will be\n",
              "    skipped (e.g. 2 in this example is skipped). Note that this\n",
              "    parameter ignores commented lines and empty lines if\n",
              "    ``skip_blank_lines=True``, so ``header=0`` denotes the first line of\n",
              "    data rather than the first line of the file.\n",
              "names : array-like, optional\n",
              "    List of column names to use. If the file contains a header row,\n",
              "    then you should explicitly pass ``header=0`` to override the column names.\n",
              "    Duplicates in this list are not allowed.\n",
              "index_col : int, str, sequence of int / str, or False, optional, default ``None``\n",
              "  Column(s) to use as the row labels of the ``DataFrame``, either given as\n",
              "  string name or column index. If a sequence of int / str is given, a\n",
              "  MultiIndex is used.\n",
              "\n",
              "  Note: ``index_col=False`` can be used to force pandas to *not* use the first\n",
              "  column as the index, e.g. when you have a malformed file with delimiters at\n",
              "  the end of each line.\n",
              "usecols : list-like or callable, optional\n",
              "    Return a subset of the columns. If list-like, all elements must either\n",
              "    be positional (i.e. integer indices into the document columns) or strings\n",
              "    that correspond to column names provided either by the user in `names` or\n",
              "    inferred from the document header row(s). If ``names`` are given, the document\n",
              "    header row(s) are not taken into account. For example, a valid list-like\n",
              "    `usecols` parameter would be ``[0, 1, 2]`` or ``[&#x27;foo&#x27;, &#x27;bar&#x27;, &#x27;baz&#x27;]``.\n",
              "    Element order is ignored, so ``usecols=[0, 1]`` is the same as ``[1, 0]``.\n",
              "    To instantiate a DataFrame from ``data`` with element order preserved use\n",
              "    ``pd.read_csv(data, usecols=[&#x27;foo&#x27;, &#x27;bar&#x27;])[[&#x27;foo&#x27;, &#x27;bar&#x27;]]`` for columns\n",
              "    in ``[&#x27;foo&#x27;, &#x27;bar&#x27;]`` order or\n",
              "    ``pd.read_csv(data, usecols=[&#x27;foo&#x27;, &#x27;bar&#x27;])[[&#x27;bar&#x27;, &#x27;foo&#x27;]]``\n",
              "    for ``[&#x27;bar&#x27;, &#x27;foo&#x27;]`` order.\n",
              "\n",
              "    If callable, the callable function will be evaluated against the column\n",
              "    names, returning names where the callable function evaluates to True. An\n",
              "    example of a valid callable argument would be ``lambda x: x.upper() in\n",
              "    [&#x27;AAA&#x27;, &#x27;BBB&#x27;, &#x27;DDD&#x27;]``. Using this parameter results in much faster\n",
              "    parsing time and lower memory usage.\n",
              "squeeze : bool, default False\n",
              "    If the parsed data only contains one column then return a Series.\n",
              "\n",
              "    .. deprecated:: 1.4.0\n",
              "        Append ``.squeeze(&quot;columns&quot;)`` to the call to ``read_csv`` to squeeze\n",
              "        the data.\n",
              "prefix : str, optional\n",
              "    Prefix to add to column numbers when no header, e.g. &#x27;X&#x27; for X0, X1, ...\n",
              "\n",
              "    .. deprecated:: 1.4.0\n",
              "       Use a list comprehension on the DataFrame&#x27;s columns after calling ``read_csv``.\n",
              "mangle_dupe_cols : bool, default True\n",
              "    Duplicate columns will be specified as &#x27;X&#x27;, &#x27;X.1&#x27;, ...&#x27;X.N&#x27;, rather than\n",
              "    &#x27;X&#x27;...&#x27;X&#x27;. Passing in False will cause data to be overwritten if there\n",
              "    are duplicate names in the columns.\n",
              "\n",
              "    .. deprecated:: 1.5.0\n",
              "        Not implemented, and a new argument to specify the pattern for the\n",
              "        names of duplicated columns will be added instead\n",
              "dtype : Type name or dict of column -&gt; type, optional\n",
              "    Data type for data or columns. E.g. {&#x27;a&#x27;: np.float64, &#x27;b&#x27;: np.int32,\n",
              "    &#x27;c&#x27;: &#x27;Int64&#x27;}\n",
              "    Use `str` or `object` together with suitable `na_values` settings\n",
              "    to preserve and not interpret dtype.\n",
              "    If converters are specified, they will be applied INSTEAD\n",
              "    of dtype conversion.\n",
              "\n",
              "    .. versionadded:: 1.5.0\n",
              "\n",
              "        Support for defaultdict was added. Specify a defaultdict as input where\n",
              "        the default determines the dtype of the columns which are not explicitly\n",
              "        listed.\n",
              "engine : {&#x27;c&#x27;, &#x27;python&#x27;, &#x27;pyarrow&#x27;}, optional\n",
              "    Parser engine to use. The C and pyarrow engines are faster, while the python engine\n",
              "    is currently more feature-complete. Multithreading is currently only supported by\n",
              "    the pyarrow engine.\n",
              "\n",
              "    .. versionadded:: 1.4.0\n",
              "\n",
              "        The &quot;pyarrow&quot; engine was added as an *experimental* engine, and some features\n",
              "        are unsupported, or may not work correctly, with this engine.\n",
              "converters : dict, optional\n",
              "    Dict of functions for converting values in certain columns. Keys can either\n",
              "    be integers or column labels.\n",
              "true_values : list, optional\n",
              "    Values to consider as True.\n",
              "false_values : list, optional\n",
              "    Values to consider as False.\n",
              "skipinitialspace : bool, default False\n",
              "    Skip spaces after delimiter.\n",
              "skiprows : list-like, int or callable, optional\n",
              "    Line numbers to skip (0-indexed) or number of lines to skip (int)\n",
              "    at the start of the file.\n",
              "\n",
              "    If callable, the callable function will be evaluated against the row\n",
              "    indices, returning True if the row should be skipped and False otherwise.\n",
              "    An example of a valid callable argument would be ``lambda x: x in [0, 2]``.\n",
              "skipfooter : int, default 0\n",
              "    Number of lines at bottom of file to skip (Unsupported with engine=&#x27;c&#x27;).\n",
              "nrows : int, optional\n",
              "    Number of rows of file to read. Useful for reading pieces of large files.\n",
              "na_values : scalar, str, list-like, or dict, optional\n",
              "    Additional strings to recognize as NA/NaN. If dict passed, specific\n",
              "    per-column NA values.  By default the following values are interpreted as\n",
              "    NaN: &#x27;&#x27;, &#x27;#N/A&#x27;, &#x27;#N/A N/A&#x27;, &#x27;#NA&#x27;, &#x27;-1.#IND&#x27;, &#x27;-1.#QNAN&#x27;, &#x27;-NaN&#x27;, &#x27;-nan&#x27;,\n",
              "    &#x27;1.#IND&#x27;, &#x27;1.#QNAN&#x27;, &#x27;&lt;NA&gt;&#x27;, &#x27;N/A&#x27;, &#x27;NA&#x27;, &#x27;NULL&#x27;, &#x27;NaN&#x27;, &#x27;n/a&#x27;,\n",
              "    &#x27;nan&#x27;, &#x27;null&#x27;.\n",
              "keep_default_na : bool, default True\n",
              "    Whether or not to include the default NaN values when parsing the data.\n",
              "    Depending on whether `na_values` is passed in, the behavior is as follows:\n",
              "\n",
              "    * If `keep_default_na` is True, and `na_values` are specified, `na_values`\n",
              "      is appended to the default NaN values used for parsing.\n",
              "    * If `keep_default_na` is True, and `na_values` are not specified, only\n",
              "      the default NaN values are used for parsing.\n",
              "    * If `keep_default_na` is False, and `na_values` are specified, only\n",
              "      the NaN values specified `na_values` are used for parsing.\n",
              "    * If `keep_default_na` is False, and `na_values` are not specified, no\n",
              "      strings will be parsed as NaN.\n",
              "\n",
              "    Note that if `na_filter` is passed in as False, the `keep_default_na` and\n",
              "    `na_values` parameters will be ignored.\n",
              "na_filter : bool, default True\n",
              "    Detect missing value markers (empty strings and the value of na_values). In\n",
              "    data without any NAs, passing na_filter=False can improve the performance\n",
              "    of reading a large file.\n",
              "verbose : bool, default False\n",
              "    Indicate number of NA values placed in non-numeric columns.\n",
              "skip_blank_lines : bool, default True\n",
              "    If True, skip over blank lines rather than interpreting as NaN values.\n",
              "parse_dates : bool or list of int or names or list of lists or dict, default False\n",
              "    The behavior is as follows:\n",
              "\n",
              "    * boolean. If True -&gt; try parsing the index.\n",
              "    * list of int or names. e.g. If [1, 2, 3] -&gt; try parsing columns 1, 2, 3\n",
              "      each as a separate date column.\n",
              "    * list of lists. e.g.  If [[1, 3]] -&gt; combine columns 1 and 3 and parse as\n",
              "      a single date column.\n",
              "    * dict, e.g. {&#x27;foo&#x27; : [1, 3]} -&gt; parse columns 1, 3 as date and call\n",
              "      result &#x27;foo&#x27;\n",
              "\n",
              "    If a column or index cannot be represented as an array of datetimes,\n",
              "    say because of an unparsable value or a mixture of timezones, the column\n",
              "    or index will be returned unaltered as an object data type. For\n",
              "    non-standard datetime parsing, use ``pd.to_datetime`` after\n",
              "    ``pd.read_csv``. To parse an index or column with a mixture of timezones,\n",
              "    specify ``date_parser`` to be a partially-applied\n",
              "    :func:`pandas.to_datetime` with ``utc=True``. See\n",
              "    :ref:`io.csv.mixed_timezones` for more.\n",
              "\n",
              "    Note: A fast-path exists for iso8601-formatted dates.\n",
              "infer_datetime_format : bool, default False\n",
              "    If True and `parse_dates` is enabled, pandas will attempt to infer the\n",
              "    format of the datetime strings in the columns, and if it can be inferred,\n",
              "    switch to a faster method of parsing them. In some cases this can increase\n",
              "    the parsing speed by 5-10x.\n",
              "keep_date_col : bool, default False\n",
              "    If True and `parse_dates` specifies combining multiple columns then\n",
              "    keep the original columns.\n",
              "date_parser : function, optional\n",
              "    Function to use for converting a sequence of string columns to an array of\n",
              "    datetime instances. The default uses ``dateutil.parser.parser`` to do the\n",
              "    conversion. Pandas will try to call `date_parser` in three different ways,\n",
              "    advancing to the next if an exception occurs: 1) Pass one or more arrays\n",
              "    (as defined by `parse_dates`) as arguments; 2) concatenate (row-wise) the\n",
              "    string values from the columns defined by `parse_dates` into a single array\n",
              "    and pass that; and 3) call `date_parser` once for each row using one or\n",
              "    more strings (corresponding to the columns defined by `parse_dates`) as\n",
              "    arguments.\n",
              "dayfirst : bool, default False\n",
              "    DD/MM format dates, international and European format.\n",
              "cache_dates : bool, default True\n",
              "    If True, use a cache of unique, converted dates to apply the datetime\n",
              "    conversion. May produce significant speed-up when parsing duplicate\n",
              "    date strings, especially ones with timezone offsets.\n",
              "\n",
              "    .. versionadded:: 0.25.0\n",
              "iterator : bool, default False\n",
              "    Return TextFileReader object for iteration or getting chunks with\n",
              "    ``get_chunk()``.\n",
              "\n",
              "    .. versionchanged:: 1.2\n",
              "\n",
              "       ``TextFileReader`` is a context manager.\n",
              "chunksize : int, optional\n",
              "    Return TextFileReader object for iteration.\n",
              "    See the `IO Tools docs\n",
              "    &lt;https://pandas.pydata.org/pandas-docs/stable/io.html#io-chunking&gt;`_\n",
              "    for more information on ``iterator`` and ``chunksize``.\n",
              "\n",
              "    .. versionchanged:: 1.2\n",
              "\n",
              "       ``TextFileReader`` is a context manager.\n",
              "compression : str or dict, default &#x27;infer&#x27;\n",
              "    For on-the-fly decompression of on-disk data. If &#x27;infer&#x27; and &#x27;filepath_or_buffer&#x27; is\n",
              "    path-like, then detect compression from the following extensions: &#x27;.gz&#x27;,\n",
              "    &#x27;.bz2&#x27;, &#x27;.zip&#x27;, &#x27;.xz&#x27;, &#x27;.zst&#x27;, &#x27;.tar&#x27;, &#x27;.tar.gz&#x27;, &#x27;.tar.xz&#x27; or &#x27;.tar.bz2&#x27;\n",
              "    (otherwise no compression).\n",
              "    If using &#x27;zip&#x27; or &#x27;tar&#x27;, the ZIP file must contain only one data file to be read in.\n",
              "    Set to ``None`` for no decompression.\n",
              "    Can also be a dict with key ``&#x27;method&#x27;`` set\n",
              "    to one of {``&#x27;zip&#x27;``, ``&#x27;gzip&#x27;``, ``&#x27;bz2&#x27;``, ``&#x27;zstd&#x27;``, ``&#x27;tar&#x27;``} and other\n",
              "    key-value pairs are forwarded to\n",
              "    ``zipfile.ZipFile``, ``gzip.GzipFile``,\n",
              "    ``bz2.BZ2File``, ``zstandard.ZstdDecompressor`` or\n",
              "    ``tarfile.TarFile``, respectively.\n",
              "    As an example, the following could be passed for Zstandard decompression using a\n",
              "    custom compression dictionary:\n",
              "    ``compression={&#x27;method&#x27;: &#x27;zstd&#x27;, &#x27;dict_data&#x27;: my_compression_dict}``.\n",
              "\n",
              "        .. versionadded:: 1.5.0\n",
              "            Added support for `.tar` files.\n",
              "\n",
              "    .. versionchanged:: 1.4.0 Zstandard support.\n",
              "\n",
              "thousands : str, optional\n",
              "    Thousands separator.\n",
              "decimal : str, default &#x27;.&#x27;\n",
              "    Character to recognize as decimal point (e.g. use &#x27;,&#x27; for European data).\n",
              "lineterminator : str (length 1), optional\n",
              "    Character to break file into lines. Only valid with C parser.\n",
              "quotechar : str (length 1), optional\n",
              "    The character used to denote the start and end of a quoted item. Quoted\n",
              "    items can include the delimiter and it will be ignored.\n",
              "quoting : int or csv.QUOTE_* instance, default 0\n",
              "    Control field quoting behavior per ``csv.QUOTE_*`` constants. Use one of\n",
              "    QUOTE_MINIMAL (0), QUOTE_ALL (1), QUOTE_NONNUMERIC (2) or QUOTE_NONE (3).\n",
              "doublequote : bool, default ``True``\n",
              "   When quotechar is specified and quoting is not ``QUOTE_NONE``, indicate\n",
              "   whether or not to interpret two consecutive quotechar elements INSIDE a\n",
              "   field as a single ``quotechar`` element.\n",
              "escapechar : str (length 1), optional\n",
              "    One-character string used to escape other characters.\n",
              "comment : str, optional\n",
              "    Indicates remainder of line should not be parsed. If found at the beginning\n",
              "    of a line, the line will be ignored altogether. This parameter must be a\n",
              "    single character. Like empty lines (as long as ``skip_blank_lines=True``),\n",
              "    fully commented lines are ignored by the parameter `header` but not by\n",
              "    `skiprows`. For example, if ``comment=&#x27;#&#x27;``, parsing\n",
              "    ``#empty\\na,b,c\\n1,2,3`` with ``header=0`` will result in &#x27;a,b,c&#x27; being\n",
              "    treated as the header.\n",
              "encoding : str, optional\n",
              "    Encoding to use for UTF when reading/writing (ex. &#x27;utf-8&#x27;). `List of Python\n",
              "    standard encodings\n",
              "    &lt;https://docs.python.org/3/library/codecs.html#standard-encodings&gt;`_ .\n",
              "\n",
              "    .. versionchanged:: 1.2\n",
              "\n",
              "       When ``encoding`` is ``None``, ``errors=&quot;replace&quot;`` is passed to\n",
              "       ``open()``. Otherwise, ``errors=&quot;strict&quot;`` is passed to ``open()``.\n",
              "       This behavior was previously only the case for ``engine=&quot;python&quot;``.\n",
              "\n",
              "    .. versionchanged:: 1.3.0\n",
              "\n",
              "       ``encoding_errors`` is a new argument. ``encoding`` has no longer an\n",
              "       influence on how encoding errors are handled.\n",
              "\n",
              "encoding_errors : str, optional, default &quot;strict&quot;\n",
              "    How encoding errors are treated. `List of possible values\n",
              "    &lt;https://docs.python.org/3/library/codecs.html#error-handlers&gt;`_ .\n",
              "\n",
              "    .. versionadded:: 1.3.0\n",
              "\n",
              "dialect : str or csv.Dialect, optional\n",
              "    If provided, this parameter will override values (default or not) for the\n",
              "    following parameters: `delimiter`, `doublequote`, `escapechar`,\n",
              "    `skipinitialspace`, `quotechar`, and `quoting`. If it is necessary to\n",
              "    override values, a ParserWarning will be issued. See csv.Dialect\n",
              "    documentation for more details.\n",
              "error_bad_lines : bool, optional, default ``None``\n",
              "    Lines with too many fields (e.g. a csv line with too many commas) will by\n",
              "    default cause an exception to be raised, and no DataFrame will be returned.\n",
              "    If False, then these &quot;bad lines&quot; will be dropped from the DataFrame that is\n",
              "    returned.\n",
              "\n",
              "    .. deprecated:: 1.3.0\n",
              "       The ``on_bad_lines`` parameter should be used instead to specify behavior upon\n",
              "       encountering a bad line instead.\n",
              "warn_bad_lines : bool, optional, default ``None``\n",
              "    If error_bad_lines is False, and warn_bad_lines is True, a warning for each\n",
              "    &quot;bad line&quot; will be output.\n",
              "\n",
              "    .. deprecated:: 1.3.0\n",
              "       The ``on_bad_lines`` parameter should be used instead to specify behavior upon\n",
              "       encountering a bad line instead.\n",
              "on_bad_lines : {&#x27;error&#x27;, &#x27;warn&#x27;, &#x27;skip&#x27;} or callable, default &#x27;error&#x27;\n",
              "    Specifies what to do upon encountering a bad line (a line with too many fields).\n",
              "    Allowed values are :\n",
              "\n",
              "        - &#x27;error&#x27;, raise an Exception when a bad line is encountered.\n",
              "        - &#x27;warn&#x27;, raise a warning when a bad line is encountered and skip that line.\n",
              "        - &#x27;skip&#x27;, skip bad lines without raising or warning when they are encountered.\n",
              "\n",
              "    .. versionadded:: 1.3.0\n",
              "\n",
              "    .. versionadded:: 1.4.0\n",
              "\n",
              "        - callable, function with signature\n",
              "          ``(bad_line: list[str]) -&gt; list[str] | None`` that will process a single\n",
              "          bad line. ``bad_line`` is a list of strings split by the ``sep``.\n",
              "          If the function returns ``None``, the bad line will be ignored.\n",
              "          If the function returns a new list of strings with more elements than\n",
              "          expected, a ``ParserWarning`` will be emitted while dropping extra elements.\n",
              "          Only supported when ``engine=&quot;python&quot;``\n",
              "\n",
              "delim_whitespace : bool, default False\n",
              "    Specifies whether or not whitespace (e.g. ``&#x27; &#x27;`` or ``&#x27;    &#x27;``) will be\n",
              "    used as the sep. Equivalent to setting ``sep=&#x27;\\s+&#x27;``. If this option\n",
              "    is set to True, nothing should be passed in for the ``delimiter``\n",
              "    parameter.\n",
              "low_memory : bool, default True\n",
              "    Internally process the file in chunks, resulting in lower memory use\n",
              "    while parsing, but possibly mixed type inference.  To ensure no mixed\n",
              "    types either set False, or specify the type with the `dtype` parameter.\n",
              "    Note that the entire file is read into a single DataFrame regardless,\n",
              "    use the `chunksize` or `iterator` parameter to return the data in chunks.\n",
              "    (Only valid with C parser).\n",
              "memory_map : bool, default False\n",
              "    If a filepath is provided for `filepath_or_buffer`, map the file object\n",
              "    directly onto memory and access the data directly from there. Using this\n",
              "    option can improve performance because there is no longer any I/O overhead.\n",
              "float_precision : str, optional\n",
              "    Specifies which converter the C engine should use for floating-point\n",
              "    values. The options are ``None`` or &#x27;high&#x27; for the ordinary converter,\n",
              "    &#x27;legacy&#x27; for the original lower precision pandas converter, and\n",
              "    &#x27;round_trip&#x27; for the round-trip converter.\n",
              "\n",
              "    .. versionchanged:: 1.2\n",
              "\n",
              "storage_options : dict, optional\n",
              "    Extra options that make sense for a particular storage connection, e.g.\n",
              "    host, port, username, password, etc. For HTTP(S) URLs the key-value pairs\n",
              "    are forwarded to ``urllib.request.Request`` as header options. For other\n",
              "    URLs (e.g. starting with &quot;s3://&quot;, and &quot;gcs://&quot;) the key-value pairs are\n",
              "    forwarded to ``fsspec.open``. Please see ``fsspec`` and ``urllib`` for more\n",
              "    details, and for more examples on storage options refer `here\n",
              "    &lt;https://pandas.pydata.org/docs/user_guide/io.html?\n",
              "    highlight=storage_options#reading-writing-remote-files&gt;`_.\n",
              "\n",
              "    .. versionadded:: 1.2\n",
              "\n",
              "Returns\n",
              "-------\n",
              "DataFrame or TextParser\n",
              "    A comma-separated values (csv) file is returned as two-dimensional\n",
              "    data structure with labeled axes.\n",
              "\n",
              "See Also\n",
              "--------\n",
              "DataFrame.to_csv : Write DataFrame to a comma-separated values (csv) file.\n",
              "read_csv : Read a comma-separated values (csv) file into DataFrame.\n",
              "read_fwf : Read a table of fixed-width formatted lines into DataFrame.\n",
              "\n",
              "Examples\n",
              "--------\n",
              "&gt;&gt;&gt; pd.read_csv(&#x27;data.csv&#x27;)  # doctest: +SKIP</pre>\n",
              "      <script>\n",
              "      if (google.colab.kernel.accessAllowed && google.colab.files && google.colab.files.view) {\n",
              "        for (const element of document.querySelectorAll('.filepath')) {\n",
              "          element.style.display = 'block'\n",
              "          element.onclick = (event) => {\n",
              "            event.preventDefault();\n",
              "            event.stopPropagation();\n",
              "            google.colab.files.view(element.textContent, 854);\n",
              "          };\n",
              "        }\n",
              "      }\n",
              "      for (const element of document.querySelectorAll('.function-repr-contents')) {\n",
              "        element.onclick = (event) => {\n",
              "          event.preventDefault();\n",
              "          event.stopPropagation();\n",
              "          element.classList.toggle('function-repr-contents-collapsed');\n",
              "        };\n",
              "      }\n",
              "      </script>\n",
              "      </div>"
            ]
          },
          "metadata": {},
          "execution_count": 145
        }
      ]
    },
    {
      "cell_type": "code",
      "source": [
        "basedatos.head()"
      ],
      "metadata": {
        "colab": {
          "base_uri": "https://localhost:8080/",
          "height": 206
        },
        "id": "cvtzE3j-Zax1",
        "outputId": "33214c69-74b4-4e7a-ca2f-39a11edbad52"
      },
      "execution_count": 146,
      "outputs": [
        {
          "output_type": "execute_result",
          "data": {
            "text/plain": [
              "   YEAR  AGE  DISTANCE_BUS  DISTANCE_INTERSTATE     PRICE  ROOMS  AREA  \\\n",
              "0  1978    1       30000.0              30000.0   75900.0      7  1836   \n",
              "1  1981    7       22000.0              22000.0  140000.0      6  1800   \n",
              "2  1981   31        3000.0               2000.0   68000.0      6  3304   \n",
              "3    81    2       15000.0              17000.0       NaN      7  2744   \n",
              "4  1981    0       10000.0              13000.0  216000.0      7  2548   \n",
              "\n",
              "      LAND  BATHS  \n",
              "0  45738.0      2  \n",
              "1  44867.0      3  \n",
              "2  18731.0      2  \n",
              "3  77101.0      3  \n",
              "4  46174.0      3  "
            ],
            "text/html": [
              "\n",
              "  <div id=\"df-08cabbd1-7103-434b-ba86-749ce64b1e77\" class=\"colab-df-container\">\n",
              "    <div>\n",
              "<style scoped>\n",
              "    .dataframe tbody tr th:only-of-type {\n",
              "        vertical-align: middle;\n",
              "    }\n",
              "\n",
              "    .dataframe tbody tr th {\n",
              "        vertical-align: top;\n",
              "    }\n",
              "\n",
              "    .dataframe thead th {\n",
              "        text-align: right;\n",
              "    }\n",
              "</style>\n",
              "<table border=\"1\" class=\"dataframe\">\n",
              "  <thead>\n",
              "    <tr style=\"text-align: right;\">\n",
              "      <th></th>\n",
              "      <th>YEAR</th>\n",
              "      <th>AGE</th>\n",
              "      <th>DISTANCE_BUS</th>\n",
              "      <th>DISTANCE_INTERSTATE</th>\n",
              "      <th>PRICE</th>\n",
              "      <th>ROOMS</th>\n",
              "      <th>AREA</th>\n",
              "      <th>LAND</th>\n",
              "      <th>BATHS</th>\n",
              "    </tr>\n",
              "  </thead>\n",
              "  <tbody>\n",
              "    <tr>\n",
              "      <th>0</th>\n",
              "      <td>1978</td>\n",
              "      <td>1</td>\n",
              "      <td>30000.0</td>\n",
              "      <td>30000.0</td>\n",
              "      <td>75900.0</td>\n",
              "      <td>7</td>\n",
              "      <td>1836</td>\n",
              "      <td>45738.0</td>\n",
              "      <td>2</td>\n",
              "    </tr>\n",
              "    <tr>\n",
              "      <th>1</th>\n",
              "      <td>1981</td>\n",
              "      <td>7</td>\n",
              "      <td>22000.0</td>\n",
              "      <td>22000.0</td>\n",
              "      <td>140000.0</td>\n",
              "      <td>6</td>\n",
              "      <td>1800</td>\n",
              "      <td>44867.0</td>\n",
              "      <td>3</td>\n",
              "    </tr>\n",
              "    <tr>\n",
              "      <th>2</th>\n",
              "      <td>1981</td>\n",
              "      <td>31</td>\n",
              "      <td>3000.0</td>\n",
              "      <td>2000.0</td>\n",
              "      <td>68000.0</td>\n",
              "      <td>6</td>\n",
              "      <td>3304</td>\n",
              "      <td>18731.0</td>\n",
              "      <td>2</td>\n",
              "    </tr>\n",
              "    <tr>\n",
              "      <th>3</th>\n",
              "      <td>81</td>\n",
              "      <td>2</td>\n",
              "      <td>15000.0</td>\n",
              "      <td>17000.0</td>\n",
              "      <td>NaN</td>\n",
              "      <td>7</td>\n",
              "      <td>2744</td>\n",
              "      <td>77101.0</td>\n",
              "      <td>3</td>\n",
              "    </tr>\n",
              "    <tr>\n",
              "      <th>4</th>\n",
              "      <td>1981</td>\n",
              "      <td>0</td>\n",
              "      <td>10000.0</td>\n",
              "      <td>13000.0</td>\n",
              "      <td>216000.0</td>\n",
              "      <td>7</td>\n",
              "      <td>2548</td>\n",
              "      <td>46174.0</td>\n",
              "      <td>3</td>\n",
              "    </tr>\n",
              "  </tbody>\n",
              "</table>\n",
              "</div>\n",
              "    <div class=\"colab-df-buttons\">\n",
              "\n",
              "  <div class=\"colab-df-container\">\n",
              "    <button class=\"colab-df-convert\" onclick=\"convertToInteractive('df-08cabbd1-7103-434b-ba86-749ce64b1e77')\"\n",
              "            title=\"Convert this dataframe to an interactive table.\"\n",
              "            style=\"display:none;\">\n",
              "\n",
              "  <svg xmlns=\"http://www.w3.org/2000/svg\" height=\"24px\" viewBox=\"0 -960 960 960\">\n",
              "    <path d=\"M120-120v-720h720v720H120Zm60-500h600v-160H180v160Zm220 220h160v-160H400v160Zm0 220h160v-160H400v160ZM180-400h160v-160H180v160Zm440 0h160v-160H620v160ZM180-180h160v-160H180v160Zm440 0h160v-160H620v160Z\"/>\n",
              "  </svg>\n",
              "    </button>\n",
              "\n",
              "  <style>\n",
              "    .colab-df-container {\n",
              "      display:flex;\n",
              "      gap: 12px;\n",
              "    }\n",
              "\n",
              "    .colab-df-convert {\n",
              "      background-color: #E8F0FE;\n",
              "      border: none;\n",
              "      border-radius: 50%;\n",
              "      cursor: pointer;\n",
              "      display: none;\n",
              "      fill: #1967D2;\n",
              "      height: 32px;\n",
              "      padding: 0 0 0 0;\n",
              "      width: 32px;\n",
              "    }\n",
              "\n",
              "    .colab-df-convert:hover {\n",
              "      background-color: #E2EBFA;\n",
              "      box-shadow: 0px 1px 2px rgba(60, 64, 67, 0.3), 0px 1px 3px 1px rgba(60, 64, 67, 0.15);\n",
              "      fill: #174EA6;\n",
              "    }\n",
              "\n",
              "    .colab-df-buttons div {\n",
              "      margin-bottom: 4px;\n",
              "    }\n",
              "\n",
              "    [theme=dark] .colab-df-convert {\n",
              "      background-color: #3B4455;\n",
              "      fill: #D2E3FC;\n",
              "    }\n",
              "\n",
              "    [theme=dark] .colab-df-convert:hover {\n",
              "      background-color: #434B5C;\n",
              "      box-shadow: 0px 1px 3px 1px rgba(0, 0, 0, 0.15);\n",
              "      filter: drop-shadow(0px 1px 2px rgba(0, 0, 0, 0.3));\n",
              "      fill: #FFFFFF;\n",
              "    }\n",
              "  </style>\n",
              "\n",
              "    <script>\n",
              "      const buttonEl =\n",
              "        document.querySelector('#df-08cabbd1-7103-434b-ba86-749ce64b1e77 button.colab-df-convert');\n",
              "      buttonEl.style.display =\n",
              "        google.colab.kernel.accessAllowed ? 'block' : 'none';\n",
              "\n",
              "      async function convertToInteractive(key) {\n",
              "        const element = document.querySelector('#df-08cabbd1-7103-434b-ba86-749ce64b1e77');\n",
              "        const dataTable =\n",
              "          await google.colab.kernel.invokeFunction('convertToInteractive',\n",
              "                                                    [key], {});\n",
              "        if (!dataTable) return;\n",
              "\n",
              "        const docLinkHtml = 'Like what you see? Visit the ' +\n",
              "          '<a target=\"_blank\" href=https://colab.research.google.com/notebooks/data_table.ipynb>data table notebook</a>'\n",
              "          + ' to learn more about interactive tables.';\n",
              "        element.innerHTML = '';\n",
              "        dataTable['output_type'] = 'display_data';\n",
              "        await google.colab.output.renderOutput(dataTable, element);\n",
              "        const docLink = document.createElement('div');\n",
              "        docLink.innerHTML = docLinkHtml;\n",
              "        element.appendChild(docLink);\n",
              "      }\n",
              "    </script>\n",
              "  </div>\n",
              "\n",
              "\n",
              "<div id=\"df-6d5a1541-067b-42ec-a03b-fde7690dd316\">\n",
              "  <button class=\"colab-df-quickchart\" onclick=\"quickchart('df-6d5a1541-067b-42ec-a03b-fde7690dd316')\"\n",
              "            title=\"Suggest charts\"\n",
              "            style=\"display:none;\">\n",
              "\n",
              "<svg xmlns=\"http://www.w3.org/2000/svg\" height=\"24px\"viewBox=\"0 0 24 24\"\n",
              "     width=\"24px\">\n",
              "    <g>\n",
              "        <path d=\"M19 3H5c-1.1 0-2 .9-2 2v14c0 1.1.9 2 2 2h14c1.1 0 2-.9 2-2V5c0-1.1-.9-2-2-2zM9 17H7v-7h2v7zm4 0h-2V7h2v10zm4 0h-2v-4h2v4z\"/>\n",
              "    </g>\n",
              "</svg>\n",
              "  </button>\n",
              "\n",
              "<style>\n",
              "  .colab-df-quickchart {\n",
              "      --bg-color: #E8F0FE;\n",
              "      --fill-color: #1967D2;\n",
              "      --hover-bg-color: #E2EBFA;\n",
              "      --hover-fill-color: #174EA6;\n",
              "      --disabled-fill-color: #AAA;\n",
              "      --disabled-bg-color: #DDD;\n",
              "  }\n",
              "\n",
              "  [theme=dark] .colab-df-quickchart {\n",
              "      --bg-color: #3B4455;\n",
              "      --fill-color: #D2E3FC;\n",
              "      --hover-bg-color: #434B5C;\n",
              "      --hover-fill-color: #FFFFFF;\n",
              "      --disabled-bg-color: #3B4455;\n",
              "      --disabled-fill-color: #666;\n",
              "  }\n",
              "\n",
              "  .colab-df-quickchart {\n",
              "    background-color: var(--bg-color);\n",
              "    border: none;\n",
              "    border-radius: 50%;\n",
              "    cursor: pointer;\n",
              "    display: none;\n",
              "    fill: var(--fill-color);\n",
              "    height: 32px;\n",
              "    padding: 0;\n",
              "    width: 32px;\n",
              "  }\n",
              "\n",
              "  .colab-df-quickchart:hover {\n",
              "    background-color: var(--hover-bg-color);\n",
              "    box-shadow: 0 1px 2px rgba(60, 64, 67, 0.3), 0 1px 3px 1px rgba(60, 64, 67, 0.15);\n",
              "    fill: var(--button-hover-fill-color);\n",
              "  }\n",
              "\n",
              "  .colab-df-quickchart-complete:disabled,\n",
              "  .colab-df-quickchart-complete:disabled:hover {\n",
              "    background-color: var(--disabled-bg-color);\n",
              "    fill: var(--disabled-fill-color);\n",
              "    box-shadow: none;\n",
              "  }\n",
              "\n",
              "  .colab-df-spinner {\n",
              "    border: 2px solid var(--fill-color);\n",
              "    border-color: transparent;\n",
              "    border-bottom-color: var(--fill-color);\n",
              "    animation:\n",
              "      spin 1s steps(1) infinite;\n",
              "  }\n",
              "\n",
              "  @keyframes spin {\n",
              "    0% {\n",
              "      border-color: transparent;\n",
              "      border-bottom-color: var(--fill-color);\n",
              "      border-left-color: var(--fill-color);\n",
              "    }\n",
              "    20% {\n",
              "      border-color: transparent;\n",
              "      border-left-color: var(--fill-color);\n",
              "      border-top-color: var(--fill-color);\n",
              "    }\n",
              "    30% {\n",
              "      border-color: transparent;\n",
              "      border-left-color: var(--fill-color);\n",
              "      border-top-color: var(--fill-color);\n",
              "      border-right-color: var(--fill-color);\n",
              "    }\n",
              "    40% {\n",
              "      border-color: transparent;\n",
              "      border-right-color: var(--fill-color);\n",
              "      border-top-color: var(--fill-color);\n",
              "    }\n",
              "    60% {\n",
              "      border-color: transparent;\n",
              "      border-right-color: var(--fill-color);\n",
              "    }\n",
              "    80% {\n",
              "      border-color: transparent;\n",
              "      border-right-color: var(--fill-color);\n",
              "      border-bottom-color: var(--fill-color);\n",
              "    }\n",
              "    90% {\n",
              "      border-color: transparent;\n",
              "      border-bottom-color: var(--fill-color);\n",
              "    }\n",
              "  }\n",
              "</style>\n",
              "\n",
              "  <script>\n",
              "    async function quickchart(key) {\n",
              "      const quickchartButtonEl =\n",
              "        document.querySelector('#' + key + ' button');\n",
              "      quickchartButtonEl.disabled = true;  // To prevent multiple clicks.\n",
              "      quickchartButtonEl.classList.add('colab-df-spinner');\n",
              "      try {\n",
              "        const charts = await google.colab.kernel.invokeFunction(\n",
              "            'suggestCharts', [key], {});\n",
              "      } catch (error) {\n",
              "        console.error('Error during call to suggestCharts:', error);\n",
              "      }\n",
              "      quickchartButtonEl.classList.remove('colab-df-spinner');\n",
              "      quickchartButtonEl.classList.add('colab-df-quickchart-complete');\n",
              "    }\n",
              "    (() => {\n",
              "      let quickchartButtonEl =\n",
              "        document.querySelector('#df-6d5a1541-067b-42ec-a03b-fde7690dd316 button');\n",
              "      quickchartButtonEl.style.display =\n",
              "        google.colab.kernel.accessAllowed ? 'block' : 'none';\n",
              "    })();\n",
              "  </script>\n",
              "</div>\n",
              "\n",
              "    </div>\n",
              "  </div>\n"
            ],
            "application/vnd.google.colaboratory.intrinsic+json": {
              "type": "dataframe",
              "variable_name": "basedatos",
              "summary": "{\n  \"name\": \"basedatos\",\n  \"rows\": 353,\n  \"fields\": [\n    {\n      \"column\": \"YEAR\",\n      \"properties\": {\n        \"dtype\": \"number\",\n        \"std\": 792,\n        \"min\": 78,\n        \"max\": 1981,\n        \"num_unique_values\": 4,\n        \"samples\": [\n          1981,\n          78,\n          1978\n        ],\n        \"semantic_type\": \"\",\n        \"description\": \"\"\n      }\n    },\n    {\n      \"column\": \"AGE\",\n      \"properties\": {\n        \"dtype\": \"number\",\n        \"std\": 22,\n        \"min\": 0,\n        \"max\": 80,\n        \"num_unique_values\": 50,\n        \"samples\": [\n          4,\n          30,\n          23\n        ],\n        \"semantic_type\": \"\",\n        \"description\": \"\"\n      }\n    },\n    {\n      \"column\": \"DISTANCE_BUS\",\n      \"properties\": {\n        \"dtype\": \"number\",\n        \"std\": 8914.419489739192,\n        \"min\": 1000.0,\n        \"max\": 35000.0,\n        \"num_unique_values\": 34,\n        \"samples\": [\n          24000.0,\n          12000.0,\n          29000.0\n        ],\n        \"semantic_type\": \"\",\n        \"description\": \"\"\n      }\n    },\n    {\n      \"column\": \"DISTANCE_INTERSTATE\",\n      \"properties\": {\n        \"dtype\": \"number\",\n        \"std\": 8987.079209165831,\n        \"min\": 1000.0,\n        \"max\": 34000.0,\n        \"num_unique_values\": 34,\n        \"samples\": [\n          28000.0,\n          31000.0,\n          18000.0\n        ],\n        \"semantic_type\": \"\",\n        \"description\": \"\"\n      }\n    },\n    {\n      \"column\": \"PRICE\",\n      \"properties\": {\n        \"dtype\": \"number\",\n        \"std\": 41639.18044117699,\n        \"min\": 31000.0,\n        \"max\": 300000.0,\n        \"num_unique_values\": 174,\n        \"samples\": [\n          143000.0,\n          38500.0,\n          63000.0\n        ],\n        \"semantic_type\": \"\",\n        \"description\": \"\"\n      }\n    },\n    {\n      \"column\": \"ROOMS\",\n      \"properties\": {\n        \"dtype\": \"number\",\n        \"std\": 0,\n        \"min\": 4,\n        \"max\": 10,\n        \"num_unique_values\": 7,\n        \"samples\": [\n          7,\n          6,\n          10\n        ],\n        \"semantic_type\": \"\",\n        \"description\": \"\"\n      }\n    },\n    {\n      \"column\": \"AREA\",\n      \"properties\": {\n        \"dtype\": \"number\",\n        \"std\": 686,\n        \"min\": 735,\n        \"max\": 5136,\n        \"num_unique_values\": 253,\n        \"samples\": [\n          1556,\n          2464,\n          2510\n        ],\n        \"semantic_type\": \"\",\n        \"description\": \"\"\n      }\n    },\n    {\n      \"column\": \"LAND\",\n      \"properties\": {\n        \"dtype\": \"number\",\n        \"std\": 38190.7483087597,\n        \"min\": 1710.0,\n        \"max\": 544500.0,\n        \"num_unique_values\": 215,\n        \"samples\": [\n          42688.0,\n          5153.0,\n          44864.0\n        ],\n        \"semantic_type\": \"\",\n        \"description\": \"\"\n      }\n    },\n    {\n      \"column\": \"BATHS\",\n      \"properties\": {\n        \"dtype\": \"number\",\n        \"std\": 0,\n        \"min\": 1,\n        \"max\": 4,\n        \"num_unique_values\": 4,\n        \"samples\": [\n          3,\n          4,\n          2\n        ],\n        \"semantic_type\": \"\",\n        \"description\": \"\"\n      }\n    }\n  ]\n}"
            }
          },
          "metadata": {},
          "execution_count": 146
        }
      ]
    },
    {
      "cell_type": "code",
      "source": [
        "basedatos.info()"
      ],
      "metadata": {
        "colab": {
          "base_uri": "https://localhost:8080/"
        },
        "id": "cKD-Hf0Jh5oA",
        "outputId": "cdfbc2ea-6b22-4806-a9e9-4523ac8df82b"
      },
      "execution_count": 147,
      "outputs": [
        {
          "output_type": "stream",
          "name": "stdout",
          "text": [
            "<class 'pandas.core.frame.DataFrame'>\n",
            "RangeIndex: 353 entries, 0 to 352\n",
            "Data columns (total 9 columns):\n",
            " #   Column               Non-Null Count  Dtype  \n",
            "---  ------               --------------  -----  \n",
            " 0   YEAR                 353 non-null    int64  \n",
            " 1   AGE                  353 non-null    int64  \n",
            " 2   DISTANCE_BUS         353 non-null    float64\n",
            " 3   DISTANCE_INTERSTATE  353 non-null    float64\n",
            " 4   PRICE                283 non-null    float64\n",
            " 5   ROOMS                353 non-null    int64  \n",
            " 6   AREA                 353 non-null    int64  \n",
            " 7   LAND                 353 non-null    float64\n",
            " 8   BATHS                353 non-null    int64  \n",
            "dtypes: float64(4), int64(5)\n",
            "memory usage: 24.9 KB\n"
          ]
        }
      ]
    },
    {
      "cell_type": "code",
      "source": [
        "basedatos['YEAR'].unique()"
      ],
      "metadata": {
        "colab": {
          "base_uri": "https://localhost:8080/"
        },
        "id": "rFRbjC2SLpVi",
        "outputId": "12d3ba09-8b2d-4042-a9bf-adcbebf74689"
      },
      "execution_count": 148,
      "outputs": [
        {
          "output_type": "execute_result",
          "data": {
            "text/plain": [
              "array([1978, 1981,   81,   78])"
            ]
          },
          "metadata": {},
          "execution_count": 148
        }
      ]
    },
    {
      "cell_type": "code",
      "source": [
        "años = np.where(basedatos['YEAR'] < 100, 1900 + basedatos['YEAR'], basedatos['YEAR'])\n",
        "\n",
        "basedatos['YEAR'] = años"
      ],
      "metadata": {
        "id": "7BUWOUuoLqKq"
      },
      "execution_count": 149,
      "outputs": []
    },
    {
      "cell_type": "code",
      "source": [
        "basedatos['YEAR'].unique()"
      ],
      "metadata": {
        "colab": {
          "base_uri": "https://localhost:8080/"
        },
        "id": "oLsL5ZLOLtCh",
        "outputId": "e63159f2-d82d-42f1-df2a-2aff5f1068f9"
      },
      "execution_count": 150,
      "outputs": [
        {
          "output_type": "execute_result",
          "data": {
            "text/plain": [
              "array([1978, 1981])"
            ]
          },
          "metadata": {},
          "execution_count": 150
        }
      ]
    },
    {
      "cell_type": "code",
      "source": [
        "basedatos.isnull().sum()"
      ],
      "metadata": {
        "colab": {
          "base_uri": "https://localhost:8080/"
        },
        "id": "hzB-uJCgiBY1",
        "outputId": "83f3aff2-cf53-4c6b-f5ed-4453bb789135"
      },
      "execution_count": 151,
      "outputs": [
        {
          "output_type": "execute_result",
          "data": {
            "text/plain": [
              "YEAR                    0\n",
              "AGE                     0\n",
              "DISTANCE_BUS            0\n",
              "DISTANCE_INTERSTATE     0\n",
              "PRICE                  70\n",
              "ROOMS                   0\n",
              "AREA                    0\n",
              "LAND                    0\n",
              "BATHS                   0\n",
              "dtype: int64"
            ]
          },
          "metadata": {},
          "execution_count": 151
        }
      ]
    },
    {
      "cell_type": "code",
      "source": [
        "basedatos = basedatos.dropna()"
      ],
      "metadata": {
        "id": "rXfXwrAXiHsD"
      },
      "execution_count": 152,
      "outputs": []
    },
    {
      "cell_type": "code",
      "source": [
        "basedatos.isnull().sum()"
      ],
      "metadata": {
        "colab": {
          "base_uri": "https://localhost:8080/"
        },
        "id": "z7xJOTbwIUX1",
        "outputId": "f2480aee-cd65-45f4-8b9e-ccc12976732a"
      },
      "execution_count": 153,
      "outputs": [
        {
          "output_type": "execute_result",
          "data": {
            "text/plain": [
              "YEAR                   0\n",
              "AGE                    0\n",
              "DISTANCE_BUS           0\n",
              "DISTANCE_INTERSTATE    0\n",
              "PRICE                  0\n",
              "ROOMS                  0\n",
              "AREA                   0\n",
              "LAND                   0\n",
              "BATHS                  0\n",
              "dtype: int64"
            ]
          },
          "metadata": {},
          "execution_count": 153
        }
      ]
    },
    {
      "cell_type": "code",
      "source": [
        "basedatos.duplicated().sum()"
      ],
      "metadata": {
        "colab": {
          "base_uri": "https://localhost:8080/"
        },
        "id": "opqcCe31diKt",
        "outputId": "d083d09e-8da9-4667-9cea-36d768b9d635"
      },
      "execution_count": 154,
      "outputs": [
        {
          "output_type": "execute_result",
          "data": {
            "text/plain": [
              "21"
            ]
          },
          "metadata": {},
          "execution_count": 154
        }
      ]
    },
    {
      "cell_type": "code",
      "source": [
        "basedatos.drop_duplicates(inplace=True)\n",
        "basedatos.reset_index(drop=True, inplace=True)"
      ],
      "metadata": {
        "id": "XlVEpUOQdpRm"
      },
      "execution_count": 155,
      "outputs": []
    },
    {
      "cell_type": "code",
      "source": [
        "basedatos.duplicated().sum()"
      ],
      "metadata": {
        "colab": {
          "base_uri": "https://localhost:8080/"
        },
        "id": "WWwREy9ldvPr",
        "outputId": "25fa998a-c4f2-49c6-959e-1ac0111cc4fe"
      },
      "execution_count": 156,
      "outputs": [
        {
          "output_type": "execute_result",
          "data": {
            "text/plain": [
              "0"
            ]
          },
          "metadata": {},
          "execution_count": 156
        }
      ]
    },
    {
      "cell_type": "code",
      "source": [
        "basedatos.info()"
      ],
      "metadata": {
        "colab": {
          "base_uri": "https://localhost:8080/"
        },
        "id": "RGB8Xeqjir6E",
        "outputId": "cd380928-7696-4e39-df6f-b4c8a621172f"
      },
      "execution_count": 157,
      "outputs": [
        {
          "output_type": "stream",
          "name": "stdout",
          "text": [
            "<class 'pandas.core.frame.DataFrame'>\n",
            "RangeIndex: 262 entries, 0 to 261\n",
            "Data columns (total 9 columns):\n",
            " #   Column               Non-Null Count  Dtype  \n",
            "---  ------               --------------  -----  \n",
            " 0   YEAR                 262 non-null    int64  \n",
            " 1   AGE                  262 non-null    int64  \n",
            " 2   DISTANCE_BUS         262 non-null    float64\n",
            " 3   DISTANCE_INTERSTATE  262 non-null    float64\n",
            " 4   PRICE                262 non-null    float64\n",
            " 5   ROOMS                262 non-null    int64  \n",
            " 6   AREA                 262 non-null    int64  \n",
            " 7   LAND                 262 non-null    float64\n",
            " 8   BATHS                262 non-null    int64  \n",
            "dtypes: float64(4), int64(5)\n",
            "memory usage: 18.5 KB\n"
          ]
        }
      ]
    },
    {
      "cell_type": "code",
      "source": [
        "basedatos['DISTANCE_BUS'] = basedatos['DISTANCE_BUS'].astype('int64')\n",
        "basedatos['DISTANCE_INTERSTATE'] = basedatos['DISTANCE_INTERSTATE'].astype('int64')\n",
        "basedatos['LAND'] = basedatos['LAND'].astype('int64')\n",
        "basedatos['PRICE'] = basedatos['PRICE'].astype('int64')"
      ],
      "metadata": {
        "id": "LieOUbQDoRiT"
      },
      "execution_count": 158,
      "outputs": []
    },
    {
      "cell_type": "code",
      "source": [
        "basedatos.info()"
      ],
      "metadata": {
        "colab": {
          "base_uri": "https://localhost:8080/"
        },
        "id": "etZqTp0koXtR",
        "outputId": "c9fc63bd-1229-4a33-83e3-b0b77f7680ff"
      },
      "execution_count": 159,
      "outputs": [
        {
          "output_type": "stream",
          "name": "stdout",
          "text": [
            "<class 'pandas.core.frame.DataFrame'>\n",
            "RangeIndex: 262 entries, 0 to 261\n",
            "Data columns (total 9 columns):\n",
            " #   Column               Non-Null Count  Dtype\n",
            "---  ------               --------------  -----\n",
            " 0   YEAR                 262 non-null    int64\n",
            " 1   AGE                  262 non-null    int64\n",
            " 2   DISTANCE_BUS         262 non-null    int64\n",
            " 3   DISTANCE_INTERSTATE  262 non-null    int64\n",
            " 4   PRICE                262 non-null    int64\n",
            " 5   ROOMS                262 non-null    int64\n",
            " 6   AREA                 262 non-null    int64\n",
            " 7   LAND                 262 non-null    int64\n",
            " 8   BATHS                262 non-null    int64\n",
            "dtypes: int64(9)\n",
            "memory usage: 18.5 KB\n"
          ]
        }
      ]
    },
    {
      "cell_type": "code",
      "source": [
        "basedatos.describe()"
      ],
      "metadata": {
        "colab": {
          "base_uri": "https://localhost:8080/",
          "height": 320
        },
        "id": "ia9UhtUcKLnh",
        "outputId": "458058d2-ed89-4dc8-88f1-9d9c572b904f"
      },
      "execution_count": 160,
      "outputs": [
        {
          "output_type": "execute_result",
          "data": {
            "text/plain": [
              "              YEAR         AGE  DISTANCE_BUS  DISTANCE_INTERSTATE  \\\n",
              "count   262.000000  262.000000    262.000000           262.000000   \n",
              "mean   1979.351145   16.278626  15645.038168         16274.809160   \n",
              "std       1.495452   23.777437   9038.018582          9116.994728   \n",
              "min    1978.000000    0.000000   1000.000000          1000.000000   \n",
              "25%    1978.000000    0.000000   8000.000000          8000.000000   \n",
              "50%    1978.000000    4.000000  14000.000000         16000.000000   \n",
              "75%    1981.000000   22.750000  23000.000000         24000.000000   \n",
              "max    1981.000000   80.000000  35000.000000         34000.000000   \n",
              "\n",
              "               PRICE       ROOMS         AREA           LAND       BATHS  \n",
              "count     262.000000  262.000000   262.000000     262.000000  262.000000  \n",
              "mean    95595.435115    6.587786  2129.774809   39456.709924    2.332061  \n",
              "std     42329.089484    0.917019   702.769022   41562.700083    0.758378  \n",
              "min     31000.000000    4.000000   912.000000    1710.000000    1.000000  \n",
              "25%     65000.000000    6.000000  1578.000000   15292.250000    2.000000  \n",
              "50%     85250.000000    7.000000  2054.000000   43560.000000    2.000000  \n",
              "75%    120000.000000    7.000000  2572.750000   45914.250000    3.000000  \n",
              "max    300000.000000   10.000000  5136.000000  544500.000000    4.000000  "
            ],
            "text/html": [
              "\n",
              "  <div id=\"df-f02f2cdd-da93-4252-a833-a2355e6ace8d\" class=\"colab-df-container\">\n",
              "    <div>\n",
              "<style scoped>\n",
              "    .dataframe tbody tr th:only-of-type {\n",
              "        vertical-align: middle;\n",
              "    }\n",
              "\n",
              "    .dataframe tbody tr th {\n",
              "        vertical-align: top;\n",
              "    }\n",
              "\n",
              "    .dataframe thead th {\n",
              "        text-align: right;\n",
              "    }\n",
              "</style>\n",
              "<table border=\"1\" class=\"dataframe\">\n",
              "  <thead>\n",
              "    <tr style=\"text-align: right;\">\n",
              "      <th></th>\n",
              "      <th>YEAR</th>\n",
              "      <th>AGE</th>\n",
              "      <th>DISTANCE_BUS</th>\n",
              "      <th>DISTANCE_INTERSTATE</th>\n",
              "      <th>PRICE</th>\n",
              "      <th>ROOMS</th>\n",
              "      <th>AREA</th>\n",
              "      <th>LAND</th>\n",
              "      <th>BATHS</th>\n",
              "    </tr>\n",
              "  </thead>\n",
              "  <tbody>\n",
              "    <tr>\n",
              "      <th>count</th>\n",
              "      <td>262.000000</td>\n",
              "      <td>262.000000</td>\n",
              "      <td>262.000000</td>\n",
              "      <td>262.000000</td>\n",
              "      <td>262.000000</td>\n",
              "      <td>262.000000</td>\n",
              "      <td>262.000000</td>\n",
              "      <td>262.000000</td>\n",
              "      <td>262.000000</td>\n",
              "    </tr>\n",
              "    <tr>\n",
              "      <th>mean</th>\n",
              "      <td>1979.351145</td>\n",
              "      <td>16.278626</td>\n",
              "      <td>15645.038168</td>\n",
              "      <td>16274.809160</td>\n",
              "      <td>95595.435115</td>\n",
              "      <td>6.587786</td>\n",
              "      <td>2129.774809</td>\n",
              "      <td>39456.709924</td>\n",
              "      <td>2.332061</td>\n",
              "    </tr>\n",
              "    <tr>\n",
              "      <th>std</th>\n",
              "      <td>1.495452</td>\n",
              "      <td>23.777437</td>\n",
              "      <td>9038.018582</td>\n",
              "      <td>9116.994728</td>\n",
              "      <td>42329.089484</td>\n",
              "      <td>0.917019</td>\n",
              "      <td>702.769022</td>\n",
              "      <td>41562.700083</td>\n",
              "      <td>0.758378</td>\n",
              "    </tr>\n",
              "    <tr>\n",
              "      <th>min</th>\n",
              "      <td>1978.000000</td>\n",
              "      <td>0.000000</td>\n",
              "      <td>1000.000000</td>\n",
              "      <td>1000.000000</td>\n",
              "      <td>31000.000000</td>\n",
              "      <td>4.000000</td>\n",
              "      <td>912.000000</td>\n",
              "      <td>1710.000000</td>\n",
              "      <td>1.000000</td>\n",
              "    </tr>\n",
              "    <tr>\n",
              "      <th>25%</th>\n",
              "      <td>1978.000000</td>\n",
              "      <td>0.000000</td>\n",
              "      <td>8000.000000</td>\n",
              "      <td>8000.000000</td>\n",
              "      <td>65000.000000</td>\n",
              "      <td>6.000000</td>\n",
              "      <td>1578.000000</td>\n",
              "      <td>15292.250000</td>\n",
              "      <td>2.000000</td>\n",
              "    </tr>\n",
              "    <tr>\n",
              "      <th>50%</th>\n",
              "      <td>1978.000000</td>\n",
              "      <td>4.000000</td>\n",
              "      <td>14000.000000</td>\n",
              "      <td>16000.000000</td>\n",
              "      <td>85250.000000</td>\n",
              "      <td>7.000000</td>\n",
              "      <td>2054.000000</td>\n",
              "      <td>43560.000000</td>\n",
              "      <td>2.000000</td>\n",
              "    </tr>\n",
              "    <tr>\n",
              "      <th>75%</th>\n",
              "      <td>1981.000000</td>\n",
              "      <td>22.750000</td>\n",
              "      <td>23000.000000</td>\n",
              "      <td>24000.000000</td>\n",
              "      <td>120000.000000</td>\n",
              "      <td>7.000000</td>\n",
              "      <td>2572.750000</td>\n",
              "      <td>45914.250000</td>\n",
              "      <td>3.000000</td>\n",
              "    </tr>\n",
              "    <tr>\n",
              "      <th>max</th>\n",
              "      <td>1981.000000</td>\n",
              "      <td>80.000000</td>\n",
              "      <td>35000.000000</td>\n",
              "      <td>34000.000000</td>\n",
              "      <td>300000.000000</td>\n",
              "      <td>10.000000</td>\n",
              "      <td>5136.000000</td>\n",
              "      <td>544500.000000</td>\n",
              "      <td>4.000000</td>\n",
              "    </tr>\n",
              "  </tbody>\n",
              "</table>\n",
              "</div>\n",
              "    <div class=\"colab-df-buttons\">\n",
              "\n",
              "  <div class=\"colab-df-container\">\n",
              "    <button class=\"colab-df-convert\" onclick=\"convertToInteractive('df-f02f2cdd-da93-4252-a833-a2355e6ace8d')\"\n",
              "            title=\"Convert this dataframe to an interactive table.\"\n",
              "            style=\"display:none;\">\n",
              "\n",
              "  <svg xmlns=\"http://www.w3.org/2000/svg\" height=\"24px\" viewBox=\"0 -960 960 960\">\n",
              "    <path d=\"M120-120v-720h720v720H120Zm60-500h600v-160H180v160Zm220 220h160v-160H400v160Zm0 220h160v-160H400v160ZM180-400h160v-160H180v160Zm440 0h160v-160H620v160ZM180-180h160v-160H180v160Zm440 0h160v-160H620v160Z\"/>\n",
              "  </svg>\n",
              "    </button>\n",
              "\n",
              "  <style>\n",
              "    .colab-df-container {\n",
              "      display:flex;\n",
              "      gap: 12px;\n",
              "    }\n",
              "\n",
              "    .colab-df-convert {\n",
              "      background-color: #E8F0FE;\n",
              "      border: none;\n",
              "      border-radius: 50%;\n",
              "      cursor: pointer;\n",
              "      display: none;\n",
              "      fill: #1967D2;\n",
              "      height: 32px;\n",
              "      padding: 0 0 0 0;\n",
              "      width: 32px;\n",
              "    }\n",
              "\n",
              "    .colab-df-convert:hover {\n",
              "      background-color: #E2EBFA;\n",
              "      box-shadow: 0px 1px 2px rgba(60, 64, 67, 0.3), 0px 1px 3px 1px rgba(60, 64, 67, 0.15);\n",
              "      fill: #174EA6;\n",
              "    }\n",
              "\n",
              "    .colab-df-buttons div {\n",
              "      margin-bottom: 4px;\n",
              "    }\n",
              "\n",
              "    [theme=dark] .colab-df-convert {\n",
              "      background-color: #3B4455;\n",
              "      fill: #D2E3FC;\n",
              "    }\n",
              "\n",
              "    [theme=dark] .colab-df-convert:hover {\n",
              "      background-color: #434B5C;\n",
              "      box-shadow: 0px 1px 3px 1px rgba(0, 0, 0, 0.15);\n",
              "      filter: drop-shadow(0px 1px 2px rgba(0, 0, 0, 0.3));\n",
              "      fill: #FFFFFF;\n",
              "    }\n",
              "  </style>\n",
              "\n",
              "    <script>\n",
              "      const buttonEl =\n",
              "        document.querySelector('#df-f02f2cdd-da93-4252-a833-a2355e6ace8d button.colab-df-convert');\n",
              "      buttonEl.style.display =\n",
              "        google.colab.kernel.accessAllowed ? 'block' : 'none';\n",
              "\n",
              "      async function convertToInteractive(key) {\n",
              "        const element = document.querySelector('#df-f02f2cdd-da93-4252-a833-a2355e6ace8d');\n",
              "        const dataTable =\n",
              "          await google.colab.kernel.invokeFunction('convertToInteractive',\n",
              "                                                    [key], {});\n",
              "        if (!dataTable) return;\n",
              "\n",
              "        const docLinkHtml = 'Like what you see? Visit the ' +\n",
              "          '<a target=\"_blank\" href=https://colab.research.google.com/notebooks/data_table.ipynb>data table notebook</a>'\n",
              "          + ' to learn more about interactive tables.';\n",
              "        element.innerHTML = '';\n",
              "        dataTable['output_type'] = 'display_data';\n",
              "        await google.colab.output.renderOutput(dataTable, element);\n",
              "        const docLink = document.createElement('div');\n",
              "        docLink.innerHTML = docLinkHtml;\n",
              "        element.appendChild(docLink);\n",
              "      }\n",
              "    </script>\n",
              "  </div>\n",
              "\n",
              "\n",
              "<div id=\"df-5540cd5b-3e88-4c15-a673-eea22fd39d98\">\n",
              "  <button class=\"colab-df-quickchart\" onclick=\"quickchart('df-5540cd5b-3e88-4c15-a673-eea22fd39d98')\"\n",
              "            title=\"Suggest charts\"\n",
              "            style=\"display:none;\">\n",
              "\n",
              "<svg xmlns=\"http://www.w3.org/2000/svg\" height=\"24px\"viewBox=\"0 0 24 24\"\n",
              "     width=\"24px\">\n",
              "    <g>\n",
              "        <path d=\"M19 3H5c-1.1 0-2 .9-2 2v14c0 1.1.9 2 2 2h14c1.1 0 2-.9 2-2V5c0-1.1-.9-2-2-2zM9 17H7v-7h2v7zm4 0h-2V7h2v10zm4 0h-2v-4h2v4z\"/>\n",
              "    </g>\n",
              "</svg>\n",
              "  </button>\n",
              "\n",
              "<style>\n",
              "  .colab-df-quickchart {\n",
              "      --bg-color: #E8F0FE;\n",
              "      --fill-color: #1967D2;\n",
              "      --hover-bg-color: #E2EBFA;\n",
              "      --hover-fill-color: #174EA6;\n",
              "      --disabled-fill-color: #AAA;\n",
              "      --disabled-bg-color: #DDD;\n",
              "  }\n",
              "\n",
              "  [theme=dark] .colab-df-quickchart {\n",
              "      --bg-color: #3B4455;\n",
              "      --fill-color: #D2E3FC;\n",
              "      --hover-bg-color: #434B5C;\n",
              "      --hover-fill-color: #FFFFFF;\n",
              "      --disabled-bg-color: #3B4455;\n",
              "      --disabled-fill-color: #666;\n",
              "  }\n",
              "\n",
              "  .colab-df-quickchart {\n",
              "    background-color: var(--bg-color);\n",
              "    border: none;\n",
              "    border-radius: 50%;\n",
              "    cursor: pointer;\n",
              "    display: none;\n",
              "    fill: var(--fill-color);\n",
              "    height: 32px;\n",
              "    padding: 0;\n",
              "    width: 32px;\n",
              "  }\n",
              "\n",
              "  .colab-df-quickchart:hover {\n",
              "    background-color: var(--hover-bg-color);\n",
              "    box-shadow: 0 1px 2px rgba(60, 64, 67, 0.3), 0 1px 3px 1px rgba(60, 64, 67, 0.15);\n",
              "    fill: var(--button-hover-fill-color);\n",
              "  }\n",
              "\n",
              "  .colab-df-quickchart-complete:disabled,\n",
              "  .colab-df-quickchart-complete:disabled:hover {\n",
              "    background-color: var(--disabled-bg-color);\n",
              "    fill: var(--disabled-fill-color);\n",
              "    box-shadow: none;\n",
              "  }\n",
              "\n",
              "  .colab-df-spinner {\n",
              "    border: 2px solid var(--fill-color);\n",
              "    border-color: transparent;\n",
              "    border-bottom-color: var(--fill-color);\n",
              "    animation:\n",
              "      spin 1s steps(1) infinite;\n",
              "  }\n",
              "\n",
              "  @keyframes spin {\n",
              "    0% {\n",
              "      border-color: transparent;\n",
              "      border-bottom-color: var(--fill-color);\n",
              "      border-left-color: var(--fill-color);\n",
              "    }\n",
              "    20% {\n",
              "      border-color: transparent;\n",
              "      border-left-color: var(--fill-color);\n",
              "      border-top-color: var(--fill-color);\n",
              "    }\n",
              "    30% {\n",
              "      border-color: transparent;\n",
              "      border-left-color: var(--fill-color);\n",
              "      border-top-color: var(--fill-color);\n",
              "      border-right-color: var(--fill-color);\n",
              "    }\n",
              "    40% {\n",
              "      border-color: transparent;\n",
              "      border-right-color: var(--fill-color);\n",
              "      border-top-color: var(--fill-color);\n",
              "    }\n",
              "    60% {\n",
              "      border-color: transparent;\n",
              "      border-right-color: var(--fill-color);\n",
              "    }\n",
              "    80% {\n",
              "      border-color: transparent;\n",
              "      border-right-color: var(--fill-color);\n",
              "      border-bottom-color: var(--fill-color);\n",
              "    }\n",
              "    90% {\n",
              "      border-color: transparent;\n",
              "      border-bottom-color: var(--fill-color);\n",
              "    }\n",
              "  }\n",
              "</style>\n",
              "\n",
              "  <script>\n",
              "    async function quickchart(key) {\n",
              "      const quickchartButtonEl =\n",
              "        document.querySelector('#' + key + ' button');\n",
              "      quickchartButtonEl.disabled = true;  // To prevent multiple clicks.\n",
              "      quickchartButtonEl.classList.add('colab-df-spinner');\n",
              "      try {\n",
              "        const charts = await google.colab.kernel.invokeFunction(\n",
              "            'suggestCharts', [key], {});\n",
              "      } catch (error) {\n",
              "        console.error('Error during call to suggestCharts:', error);\n",
              "      }\n",
              "      quickchartButtonEl.classList.remove('colab-df-spinner');\n",
              "      quickchartButtonEl.classList.add('colab-df-quickchart-complete');\n",
              "    }\n",
              "    (() => {\n",
              "      let quickchartButtonEl =\n",
              "        document.querySelector('#df-5540cd5b-3e88-4c15-a673-eea22fd39d98 button');\n",
              "      quickchartButtonEl.style.display =\n",
              "        google.colab.kernel.accessAllowed ? 'block' : 'none';\n",
              "    })();\n",
              "  </script>\n",
              "</div>\n",
              "\n",
              "    </div>\n",
              "  </div>\n"
            ],
            "application/vnd.google.colaboratory.intrinsic+json": {
              "type": "dataframe",
              "summary": "{\n  \"name\": \"basedatos\",\n  \"rows\": 8,\n  \"fields\": [\n    {\n      \"column\": \"YEAR\",\n      \"properties\": {\n        \"dtype\": \"number\",\n        \"std\": 858.0460861839923,\n        \"min\": 1.49545243796284,\n        \"max\": 1981.0,\n        \"num_unique_values\": 5,\n        \"samples\": [\n          1979.351145038168,\n          1981.0,\n          1.49545243796284\n        ],\n        \"semantic_type\": \"\",\n        \"description\": \"\"\n      }\n    },\n    {\n      \"column\": \"AGE\",\n      \"properties\": {\n        \"dtype\": \"number\",\n        \"std\": 89.05666176237052,\n        \"min\": 0.0,\n        \"max\": 262.0,\n        \"num_unique_values\": 7,\n        \"samples\": [\n          262.0,\n          16.278625954198475,\n          22.75\n        ],\n        \"semantic_type\": \"\",\n        \"description\": \"\"\n      }\n    },\n    {\n      \"column\": \"DISTANCE_BUS\",\n      \"properties\": {\n        \"dtype\": \"number\",\n        \"std\": 11578.781467770437,\n        \"min\": 262.0,\n        \"max\": 35000.0,\n        \"num_unique_values\": 8,\n        \"samples\": [\n          15645.038167938932,\n          14000.0,\n          262.0\n        ],\n        \"semantic_type\": \"\",\n        \"description\": \"\"\n      }\n    },\n    {\n      \"column\": \"DISTANCE_INTERSTATE\",\n      \"properties\": {\n        \"dtype\": \"number\",\n        \"std\": 11497.524656871212,\n        \"min\": 262.0,\n        \"max\": 34000.0,\n        \"num_unique_values\": 8,\n        \"samples\": [\n          16274.809160305344,\n          16000.0,\n          262.0\n        ],\n        \"semantic_type\": \"\",\n        \"description\": \"\"\n      }\n    },\n    {\n      \"column\": \"PRICE\",\n      \"properties\": {\n        \"dtype\": \"number\",\n        \"std\": 92147.45437651502,\n        \"min\": 262.0,\n        \"max\": 300000.0,\n        \"num_unique_values\": 8,\n        \"samples\": [\n          95595.43511450382,\n          85250.0,\n          262.0\n        ],\n        \"semantic_type\": \"\",\n        \"description\": \"\"\n      }\n    },\n    {\n      \"column\": \"ROOMS\",\n      \"properties\": {\n        \"dtype\": \"number\",\n        \"std\": 90.5726575201579,\n        \"min\": 0.9170185657474003,\n        \"max\": 262.0,\n        \"num_unique_values\": 7,\n        \"samples\": [\n          262.0,\n          6.587786259541985,\n          7.0\n        ],\n        \"semantic_type\": \"\",\n        \"description\": \"\"\n      }\n    },\n    {\n      \"column\": \"AREA\",\n      \"properties\": {\n        \"dtype\": \"number\",\n        \"std\": 1521.0110879156005,\n        \"min\": 262.0,\n        \"max\": 5136.0,\n        \"num_unique_values\": 8,\n        \"samples\": [\n          2129.7748091603053,\n          2054.0,\n          262.0\n        ],\n        \"semantic_type\": \"\",\n        \"description\": \"\"\n      }\n    },\n    {\n      \"column\": \"LAND\",\n      \"properties\": {\n        \"dtype\": \"number\",\n        \"std\": 183996.02936607774,\n        \"min\": 262.0,\n        \"max\": 544500.0,\n        \"num_unique_values\": 8,\n        \"samples\": [\n          39456.70992366412,\n          43560.0,\n          262.0\n        ],\n        \"semantic_type\": \"\",\n        \"description\": \"\"\n      }\n    },\n    {\n      \"column\": \"BATHS\",\n      \"properties\": {\n        \"dtype\": \"number\",\n        \"std\": 91.87462321680742,\n        \"min\": 0.7583776973833742,\n        \"max\": 262.0,\n        \"num_unique_values\": 7,\n        \"samples\": [\n          262.0,\n          2.33206106870229,\n          3.0\n        ],\n        \"semantic_type\": \"\",\n        \"description\": \"\"\n      }\n    }\n  ]\n}"
            }
          },
          "metadata": {},
          "execution_count": 160
        }
      ]
    },
    {
      "cell_type": "code",
      "source": [
        "basedatos['AGE'].unique()"
      ],
      "metadata": {
        "colab": {
          "base_uri": "https://localhost:8080/"
        },
        "id": "KXtqOIOfNkPz",
        "outputId": "9a7c0ada-e3fb-49ac-b2ac-c209b0f1d573"
      },
      "execution_count": 161,
      "outputs": [
        {
          "output_type": "execute_result",
          "data": {
            "text/plain": [
              "array([ 1,  7, 31,  0,  8, 20, 19, 28, 68, 11, 17,  4, 10, 41,  9, 12, 21,\n",
              "       25, 56, 80,  2,  3, 26, 70, 58, 78, 15, 13, 39, 23, 38, 22,  6, 48,\n",
              "       51, 18,  5, 30, 14, 42, 36, 59, 71, 65, 32, 29])"
            ]
          },
          "metadata": {},
          "execution_count": 161
        }
      ]
    },
    {
      "cell_type": "code",
      "source": [
        "basedatos['DISTANCE_BUS'].unique()"
      ],
      "metadata": {
        "colab": {
          "base_uri": "https://localhost:8080/"
        },
        "id": "3EFOls2KPLsB",
        "outputId": "904273a7-a8d5-42fa-e39f-127fb60df44a"
      },
      "execution_count": 162,
      "outputs": [
        {
          "output_type": "execute_result",
          "data": {
            "text/plain": [
              "array([30000, 22000,  3000, 10000, 25000, 17000, 21000,  7000,  5000,\n",
              "       14000, 23000, 15000,  4000, 11000, 27000, 24000,  2000, 12000,\n",
              "       16000, 31000,  9000, 26000, 18000, 19000,  6000,  8000, 29000,\n",
              "       20000, 13000, 32000, 28000, 33000,  1000, 35000])"
            ]
          },
          "metadata": {},
          "execution_count": 162
        }
      ]
    },
    {
      "cell_type": "code",
      "source": [
        "basedatos['DISTANCE_INTERSTATE'].unique()"
      ],
      "metadata": {
        "colab": {
          "base_uri": "https://localhost:8080/"
        },
        "id": "_zZ7Qy-FPey0",
        "outputId": "b17615b8-a4c4-4459-95eb-02bbfb944b47"
      },
      "execution_count": 163,
      "outputs": [
        {
          "output_type": "execute_result",
          "data": {
            "text/plain": [
              "array([30000, 22000,  2000, 13000, 25000, 17000, 21000,  7000, 24000,\n",
              "        4000,  6000, 15000, 23000, 10000, 28000, 26000, 16000, 31000,\n",
              "        5000,  1000, 12000, 19000, 32000,  3000, 14000,  9000,  8000,\n",
              "       18000, 20000, 11000, 29000, 33000, 34000, 27000])"
            ]
          },
          "metadata": {},
          "execution_count": 163
        }
      ]
    },
    {
      "cell_type": "code",
      "source": [
        "basedatos['PRICE'].unique()"
      ],
      "metadata": {
        "colab": {
          "base_uri": "https://localhost:8080/"
        },
        "id": "vMJYV23SPhTu",
        "outputId": "8efef7a9-be87-4e96-c718-ba2abf1c3503"
      },
      "execution_count": 164,
      "outputs": [
        {
          "output_type": "execute_result",
          "data": {
            "text/plain": [
              "array([ 75900, 140000,  68000, 216000, 125000,  95920,  85000,  86000,\n",
              "       119600,  73900,  53000,  49000,  84211, 153000,  65000, 110000,\n",
              "        91000, 143500,  73000, 135900, 194000, 100000,  54000, 120000,\n",
              "       130500,  61000,  71500,  40000, 189857,  32000, 113500, 109900,\n",
              "        85500, 148000,  59000,  34000,  66479,  48000,  46000,  75000,\n",
              "        44900,  77500,  96900,  83000, 145000,  79900, 103900, 169000,\n",
              "        62500, 107900,  47000,  89912, 142000,  80000,  56900,  75500,\n",
              "        90000, 121000,  53500,  94900, 160000,  96750,  64000,  70400,\n",
              "        79000,  77000,  84900,  36000,  62000, 150000,  43500, 131500,\n",
              "        52900, 115000,  95900, 128000,  87000,  66900,  76900, 130000,\n",
              "       141000,  37500,  97000,  98000, 124500, 129900, 123000,  63900,\n",
              "       118000, 167950, 135000, 117500,  61900, 204080, 106000,  97900,\n",
              "       117000,  46500, 162000,  94376,  63400,  63000,  90500,  74000,\n",
              "       106500,  89500,  82000,  72900, 132000,  90400, 119900, 133500,\n",
              "        78400,  72500,  60000, 175000,  95000, 109500, 180000, 156500,\n",
              "        70500,  60500,  94000,  68500,  87500, 102000,  67000,  93000,\n",
              "       155500, 155000,  66500,  49500,  50000,  44000,  62400,  74500,\n",
              "        83900, 105000,  85900, 185000, 101100,  41000,  80900,  92900,\n",
              "        38500,  88000, 172267, 168000, 144500,  70000,  56000,  52000,\n",
              "       300000,  50900,  31000, 143000, 182095,  66100, 177755, 156900,\n",
              "       220000,  83500,  66000,  67500, 173500,  84300,  55000,  79500,\n",
              "       234552,  57000, 169900, 158000,  64900,  58000])"
            ]
          },
          "metadata": {},
          "execution_count": 164
        }
      ]
    },
    {
      "cell_type": "code",
      "source": [
        "basedatos['ROOMS'].unique()"
      ],
      "metadata": {
        "colab": {
          "base_uri": "https://localhost:8080/"
        },
        "id": "jJcgo2Q6PiNj",
        "outputId": "33a0f00f-1a0a-4cf2-c542-7a69aebd2064"
      },
      "execution_count": 165,
      "outputs": [
        {
          "output_type": "execute_result",
          "data": {
            "text/plain": [
              "array([ 7,  6,  8,  5,  9, 10,  4])"
            ]
          },
          "metadata": {},
          "execution_count": 165
        }
      ]
    },
    {
      "cell_type": "code",
      "source": [
        "basedatos['AREA'].unique()"
      ],
      "metadata": {
        "colab": {
          "base_uri": "https://localhost:8080/"
        },
        "id": "FUxSTBX4Pi8e",
        "outputId": "7025152c-4a9f-4385-f282-789ea6de947b"
      },
      "execution_count": 166,
      "outputs": [
        {
          "output_type": "execute_result",
          "data": {
            "text/plain": [
              "array([1836, 1800, 3304, 2548, 2208, 2464, 2004, 1425, 2701, 1592, 1875,\n",
              "       2756, 2656, 2727, 2204, 2263, 2144, 1390, 2377, 3170, 2252, 1700,\n",
              "       3030, 2330, 2106, 1928,  912, 1867, 1554, 3396, 2112, 2171, 2000,\n",
              "       1855, 2632, 2544, 2736, 2458, 1144, 1104, 1038, 1261, 1537, 1780,\n",
              "        960, 1998, 2952, 2574, 1182, 1570, 2569, 1540, 1910, 1978, 3292,\n",
              "       3460, 1456, 2576, 3726, 3861, 1838, 1684, 2032, 1344, 1728, 1820,\n",
              "       2052, 2510, 1333, 2384, 3152, 2738, 2092, 1242, 1764, 1342, 1792,\n",
              "       5136, 1360, 2082, 2071, 1318, 2528, 2612, 3132, 1490, 2598, 1716,\n",
              "       1199, 1848, 2450, 1920, 1750, 2644, 1080, 2920, 1464, 2346, 2136,\n",
              "       3792, 3398, 2056, 2872, 1136, 1991, 2472, 1476, 2016, 1411, 2794,\n",
              "       2261, 2502, 1633, 2836, 1226, 1296, 3232, 2800, 1357, 1587, 2878,\n",
              "       1235, 2240, 1964, 2080, 2796, 2650, 2258, 1421, 1731, 2648, 1862,\n",
              "       1482, 1388, 3055, 2238, 4056, 2780, 2744, 1232, 1148, 1842, 1560,\n",
              "       1642, 2290, 1377, 3256, 3798,  990,  970, 2514, 2610, 2688, 1166,\n",
              "       1100, 2248, 1399, 1536, 1869, 2036, 2364, 1818, 1962, 2400, 2089,\n",
              "       2996, 1660, 2276, 1531, 5078, 1924, 1197, 2856, 1746,  936, 2370,\n",
              "       1556, 2327, 2826, 2486, 3140, 1830, 1454, 2352, 1575, 3770,  930,\n",
              "       2128, 1215,  925, 1868, 1274, 1566, 3074, 1760, 3040, 1290, 2038,\n",
              "       1844, 1358, 2900, 2104, 1443, 2216, 3252, 1320, 1410, 2436, 2832,\n",
              "       2627, 1140, 1356])"
            ]
          },
          "metadata": {},
          "execution_count": 166
        }
      ]
    },
    {
      "cell_type": "code",
      "source": [
        "basedatos['LAND'].unique()"
      ],
      "metadata": {
        "colab": {
          "base_uri": "https://localhost:8080/"
        },
        "id": "H5Tnnfj_XJ1Q",
        "outputId": "2aceae6a-2b04-41c2-ab7b-7862fa3d81ad"
      },
      "execution_count": 167,
      "outputs": [
        {
          "output_type": "execute_result",
          "data": {
            "text/plain": [
              "array([ 45738,  44867,  18731,  46174,  48269,  44080,  19550,  48787,\n",
              "        13068,  12700,   9790,  27205,  43996,  45302,  10019,  12806,\n",
              "        46100,  43560,  44000,   7500,  47916,  43995,  13030,  13370,\n",
              "       157252,  12005,   5000,   6790,  31412,  12500,  44064,  43569,\n",
              "        50965,  64904,  26726,   9400,  15512,  15431,  10000,  48352,\n",
              "         9500,  51690, 147668,  41463,  44247,   8790,  20909,  35121,\n",
              "        11421,  18215,  12568,  43935,  35284,  51062,   9249,  81273,\n",
              "        10993,  78408,  31915,  11883,  51835,  47045,  23087,  86249,\n",
              "         8500,  43561,  45106,  43910,  43958,   9665,  20550,  44431,\n",
              "         8370,  26136,  45500,  54450,  46300,  50808,  44260,  12516,\n",
              "        52272,  29129,  35942,  63260,  65340, 104544,  12632,  52708,\n",
              "        34879,  15664,  44900,  15246,  45465,  34666,  17728,  46609,\n",
              "        37046,  32255,  94961,  25380,  69260,  54014,   5957,  95832,\n",
              "        25182,  25000,  43757,  21120,  14810,  53000,  25265,  25690,\n",
              "        69465,  59790,  77101,  31215,  30945,  45000,  44182,  29130,\n",
              "        44864,   7000,  25250,  12877,  50045,   1710,  11104,  28688,\n",
              "         9770,  38768,  49829,  10491,  51836,  55321,  67954,  56392,\n",
              "        44465,  16935,   4578,   3049, 132422,  29955,  13504,   8276,\n",
              "        49737,   3870,  35538,  46598,  30808,  31059,  13939,   5500,\n",
              "        26890,  10878,   3485, 282704,   8185,  44174,   4585,   7858,\n",
              "        10938,  49223,  25159,  32670,  46600,  45973,  43908,  29621,\n",
              "        12538,  30894,  42688,  92783,  44775,  68689,   7950,  29671,\n",
              "        64033,   4500,  29226,  46422,  13945, 544500])"
            ]
          },
          "metadata": {},
          "execution_count": 167
        }
      ]
    },
    {
      "cell_type": "code",
      "source": [
        "basedatos['BATHS'].unique()"
      ],
      "metadata": {
        "colab": {
          "base_uri": "https://localhost:8080/"
        },
        "id": "4T7FvQZLXLhw",
        "outputId": "af2f3d97-6fdb-4517-e403-92774cb8c50c"
      },
      "execution_count": 168,
      "outputs": [
        {
          "output_type": "execute_result",
          "data": {
            "text/plain": [
              "array([2, 3, 1, 4])"
            ]
          },
          "metadata": {},
          "execution_count": 168
        }
      ]
    },
    {
      "cell_type": "code",
      "source": [
        "basedatos"
      ],
      "metadata": {
        "colab": {
          "base_uri": "https://localhost:8080/",
          "height": 424
        },
        "id": "dq5TMJYXQOsk",
        "outputId": "282f1d19-2e65-42ec-e1a9-6b047537c028"
      },
      "execution_count": 169,
      "outputs": [
        {
          "output_type": "execute_result",
          "data": {
            "text/plain": [
              "     YEAR  AGE  DISTANCE_BUS  DISTANCE_INTERSTATE   PRICE  ROOMS  AREA  \\\n",
              "0    1978    1         30000                30000   75900      7  1836   \n",
              "1    1981    7         22000                22000  140000      6  1800   \n",
              "2    1981   31          3000                 2000   68000      6  3304   \n",
              "3    1981    0         10000                13000  216000      7  2548   \n",
              "4    1981    0         25000                25000  125000      7  2208   \n",
              "..    ...  ...           ...                  ...     ...    ...   ...   \n",
              "257  1981    2         20000                20000  158000      7  2627   \n",
              "258  1981   51          2000                 5000   50000      5  1140   \n",
              "259  1981    1         22000                24000  162000      7  2656   \n",
              "260  1978    3         12000                12000   64900      7  2856   \n",
              "261  1978   26         20000                22000   58000      6  1356   \n",
              "\n",
              "       LAND  BATHS  \n",
              "0     45738      2  \n",
              "1     44867      3  \n",
              "2     18731      2  \n",
              "3     46174      3  \n",
              "4     45738      3  \n",
              "..      ...    ...  \n",
              "257   43560      3  \n",
              "258   13945      1  \n",
              "259   45302      3  \n",
              "260   29955      2  \n",
              "261  544500      2  \n",
              "\n",
              "[262 rows x 9 columns]"
            ],
            "text/html": [
              "\n",
              "  <div id=\"df-9f7fb72e-f730-4def-b073-1876760dc1aa\" class=\"colab-df-container\">\n",
              "    <div>\n",
              "<style scoped>\n",
              "    .dataframe tbody tr th:only-of-type {\n",
              "        vertical-align: middle;\n",
              "    }\n",
              "\n",
              "    .dataframe tbody tr th {\n",
              "        vertical-align: top;\n",
              "    }\n",
              "\n",
              "    .dataframe thead th {\n",
              "        text-align: right;\n",
              "    }\n",
              "</style>\n",
              "<table border=\"1\" class=\"dataframe\">\n",
              "  <thead>\n",
              "    <tr style=\"text-align: right;\">\n",
              "      <th></th>\n",
              "      <th>YEAR</th>\n",
              "      <th>AGE</th>\n",
              "      <th>DISTANCE_BUS</th>\n",
              "      <th>DISTANCE_INTERSTATE</th>\n",
              "      <th>PRICE</th>\n",
              "      <th>ROOMS</th>\n",
              "      <th>AREA</th>\n",
              "      <th>LAND</th>\n",
              "      <th>BATHS</th>\n",
              "    </tr>\n",
              "  </thead>\n",
              "  <tbody>\n",
              "    <tr>\n",
              "      <th>0</th>\n",
              "      <td>1978</td>\n",
              "      <td>1</td>\n",
              "      <td>30000</td>\n",
              "      <td>30000</td>\n",
              "      <td>75900</td>\n",
              "      <td>7</td>\n",
              "      <td>1836</td>\n",
              "      <td>45738</td>\n",
              "      <td>2</td>\n",
              "    </tr>\n",
              "    <tr>\n",
              "      <th>1</th>\n",
              "      <td>1981</td>\n",
              "      <td>7</td>\n",
              "      <td>22000</td>\n",
              "      <td>22000</td>\n",
              "      <td>140000</td>\n",
              "      <td>6</td>\n",
              "      <td>1800</td>\n",
              "      <td>44867</td>\n",
              "      <td>3</td>\n",
              "    </tr>\n",
              "    <tr>\n",
              "      <th>2</th>\n",
              "      <td>1981</td>\n",
              "      <td>31</td>\n",
              "      <td>3000</td>\n",
              "      <td>2000</td>\n",
              "      <td>68000</td>\n",
              "      <td>6</td>\n",
              "      <td>3304</td>\n",
              "      <td>18731</td>\n",
              "      <td>2</td>\n",
              "    </tr>\n",
              "    <tr>\n",
              "      <th>3</th>\n",
              "      <td>1981</td>\n",
              "      <td>0</td>\n",
              "      <td>10000</td>\n",
              "      <td>13000</td>\n",
              "      <td>216000</td>\n",
              "      <td>7</td>\n",
              "      <td>2548</td>\n",
              "      <td>46174</td>\n",
              "      <td>3</td>\n",
              "    </tr>\n",
              "    <tr>\n",
              "      <th>4</th>\n",
              "      <td>1981</td>\n",
              "      <td>0</td>\n",
              "      <td>25000</td>\n",
              "      <td>25000</td>\n",
              "      <td>125000</td>\n",
              "      <td>7</td>\n",
              "      <td>2208</td>\n",
              "      <td>45738</td>\n",
              "      <td>3</td>\n",
              "    </tr>\n",
              "    <tr>\n",
              "      <th>...</th>\n",
              "      <td>...</td>\n",
              "      <td>...</td>\n",
              "      <td>...</td>\n",
              "      <td>...</td>\n",
              "      <td>...</td>\n",
              "      <td>...</td>\n",
              "      <td>...</td>\n",
              "      <td>...</td>\n",
              "      <td>...</td>\n",
              "    </tr>\n",
              "    <tr>\n",
              "      <th>257</th>\n",
              "      <td>1981</td>\n",
              "      <td>2</td>\n",
              "      <td>20000</td>\n",
              "      <td>20000</td>\n",
              "      <td>158000</td>\n",
              "      <td>7</td>\n",
              "      <td>2627</td>\n",
              "      <td>43560</td>\n",
              "      <td>3</td>\n",
              "    </tr>\n",
              "    <tr>\n",
              "      <th>258</th>\n",
              "      <td>1981</td>\n",
              "      <td>51</td>\n",
              "      <td>2000</td>\n",
              "      <td>5000</td>\n",
              "      <td>50000</td>\n",
              "      <td>5</td>\n",
              "      <td>1140</td>\n",
              "      <td>13945</td>\n",
              "      <td>1</td>\n",
              "    </tr>\n",
              "    <tr>\n",
              "      <th>259</th>\n",
              "      <td>1981</td>\n",
              "      <td>1</td>\n",
              "      <td>22000</td>\n",
              "      <td>24000</td>\n",
              "      <td>162000</td>\n",
              "      <td>7</td>\n",
              "      <td>2656</td>\n",
              "      <td>45302</td>\n",
              "      <td>3</td>\n",
              "    </tr>\n",
              "    <tr>\n",
              "      <th>260</th>\n",
              "      <td>1978</td>\n",
              "      <td>3</td>\n",
              "      <td>12000</td>\n",
              "      <td>12000</td>\n",
              "      <td>64900</td>\n",
              "      <td>7</td>\n",
              "      <td>2856</td>\n",
              "      <td>29955</td>\n",
              "      <td>2</td>\n",
              "    </tr>\n",
              "    <tr>\n",
              "      <th>261</th>\n",
              "      <td>1978</td>\n",
              "      <td>26</td>\n",
              "      <td>20000</td>\n",
              "      <td>22000</td>\n",
              "      <td>58000</td>\n",
              "      <td>6</td>\n",
              "      <td>1356</td>\n",
              "      <td>544500</td>\n",
              "      <td>2</td>\n",
              "    </tr>\n",
              "  </tbody>\n",
              "</table>\n",
              "<p>262 rows × 9 columns</p>\n",
              "</div>\n",
              "    <div class=\"colab-df-buttons\">\n",
              "\n",
              "  <div class=\"colab-df-container\">\n",
              "    <button class=\"colab-df-convert\" onclick=\"convertToInteractive('df-9f7fb72e-f730-4def-b073-1876760dc1aa')\"\n",
              "            title=\"Convert this dataframe to an interactive table.\"\n",
              "            style=\"display:none;\">\n",
              "\n",
              "  <svg xmlns=\"http://www.w3.org/2000/svg\" height=\"24px\" viewBox=\"0 -960 960 960\">\n",
              "    <path d=\"M120-120v-720h720v720H120Zm60-500h600v-160H180v160Zm220 220h160v-160H400v160Zm0 220h160v-160H400v160ZM180-400h160v-160H180v160Zm440 0h160v-160H620v160ZM180-180h160v-160H180v160Zm440 0h160v-160H620v160Z\"/>\n",
              "  </svg>\n",
              "    </button>\n",
              "\n",
              "  <style>\n",
              "    .colab-df-container {\n",
              "      display:flex;\n",
              "      gap: 12px;\n",
              "    }\n",
              "\n",
              "    .colab-df-convert {\n",
              "      background-color: #E8F0FE;\n",
              "      border: none;\n",
              "      border-radius: 50%;\n",
              "      cursor: pointer;\n",
              "      display: none;\n",
              "      fill: #1967D2;\n",
              "      height: 32px;\n",
              "      padding: 0 0 0 0;\n",
              "      width: 32px;\n",
              "    }\n",
              "\n",
              "    .colab-df-convert:hover {\n",
              "      background-color: #E2EBFA;\n",
              "      box-shadow: 0px 1px 2px rgba(60, 64, 67, 0.3), 0px 1px 3px 1px rgba(60, 64, 67, 0.15);\n",
              "      fill: #174EA6;\n",
              "    }\n",
              "\n",
              "    .colab-df-buttons div {\n",
              "      margin-bottom: 4px;\n",
              "    }\n",
              "\n",
              "    [theme=dark] .colab-df-convert {\n",
              "      background-color: #3B4455;\n",
              "      fill: #D2E3FC;\n",
              "    }\n",
              "\n",
              "    [theme=dark] .colab-df-convert:hover {\n",
              "      background-color: #434B5C;\n",
              "      box-shadow: 0px 1px 3px 1px rgba(0, 0, 0, 0.15);\n",
              "      filter: drop-shadow(0px 1px 2px rgba(0, 0, 0, 0.3));\n",
              "      fill: #FFFFFF;\n",
              "    }\n",
              "  </style>\n",
              "\n",
              "    <script>\n",
              "      const buttonEl =\n",
              "        document.querySelector('#df-9f7fb72e-f730-4def-b073-1876760dc1aa button.colab-df-convert');\n",
              "      buttonEl.style.display =\n",
              "        google.colab.kernel.accessAllowed ? 'block' : 'none';\n",
              "\n",
              "      async function convertToInteractive(key) {\n",
              "        const element = document.querySelector('#df-9f7fb72e-f730-4def-b073-1876760dc1aa');\n",
              "        const dataTable =\n",
              "          await google.colab.kernel.invokeFunction('convertToInteractive',\n",
              "                                                    [key], {});\n",
              "        if (!dataTable) return;\n",
              "\n",
              "        const docLinkHtml = 'Like what you see? Visit the ' +\n",
              "          '<a target=\"_blank\" href=https://colab.research.google.com/notebooks/data_table.ipynb>data table notebook</a>'\n",
              "          + ' to learn more about interactive tables.';\n",
              "        element.innerHTML = '';\n",
              "        dataTable['output_type'] = 'display_data';\n",
              "        await google.colab.output.renderOutput(dataTable, element);\n",
              "        const docLink = document.createElement('div');\n",
              "        docLink.innerHTML = docLinkHtml;\n",
              "        element.appendChild(docLink);\n",
              "      }\n",
              "    </script>\n",
              "  </div>\n",
              "\n",
              "\n",
              "<div id=\"df-54901a4f-6f59-4064-9ea7-de5f7236e7cd\">\n",
              "  <button class=\"colab-df-quickchart\" onclick=\"quickchart('df-54901a4f-6f59-4064-9ea7-de5f7236e7cd')\"\n",
              "            title=\"Suggest charts\"\n",
              "            style=\"display:none;\">\n",
              "\n",
              "<svg xmlns=\"http://www.w3.org/2000/svg\" height=\"24px\"viewBox=\"0 0 24 24\"\n",
              "     width=\"24px\">\n",
              "    <g>\n",
              "        <path d=\"M19 3H5c-1.1 0-2 .9-2 2v14c0 1.1.9 2 2 2h14c1.1 0 2-.9 2-2V5c0-1.1-.9-2-2-2zM9 17H7v-7h2v7zm4 0h-2V7h2v10zm4 0h-2v-4h2v4z\"/>\n",
              "    </g>\n",
              "</svg>\n",
              "  </button>\n",
              "\n",
              "<style>\n",
              "  .colab-df-quickchart {\n",
              "      --bg-color: #E8F0FE;\n",
              "      --fill-color: #1967D2;\n",
              "      --hover-bg-color: #E2EBFA;\n",
              "      --hover-fill-color: #174EA6;\n",
              "      --disabled-fill-color: #AAA;\n",
              "      --disabled-bg-color: #DDD;\n",
              "  }\n",
              "\n",
              "  [theme=dark] .colab-df-quickchart {\n",
              "      --bg-color: #3B4455;\n",
              "      --fill-color: #D2E3FC;\n",
              "      --hover-bg-color: #434B5C;\n",
              "      --hover-fill-color: #FFFFFF;\n",
              "      --disabled-bg-color: #3B4455;\n",
              "      --disabled-fill-color: #666;\n",
              "  }\n",
              "\n",
              "  .colab-df-quickchart {\n",
              "    background-color: var(--bg-color);\n",
              "    border: none;\n",
              "    border-radius: 50%;\n",
              "    cursor: pointer;\n",
              "    display: none;\n",
              "    fill: var(--fill-color);\n",
              "    height: 32px;\n",
              "    padding: 0;\n",
              "    width: 32px;\n",
              "  }\n",
              "\n",
              "  .colab-df-quickchart:hover {\n",
              "    background-color: var(--hover-bg-color);\n",
              "    box-shadow: 0 1px 2px rgba(60, 64, 67, 0.3), 0 1px 3px 1px rgba(60, 64, 67, 0.15);\n",
              "    fill: var(--button-hover-fill-color);\n",
              "  }\n",
              "\n",
              "  .colab-df-quickchart-complete:disabled,\n",
              "  .colab-df-quickchart-complete:disabled:hover {\n",
              "    background-color: var(--disabled-bg-color);\n",
              "    fill: var(--disabled-fill-color);\n",
              "    box-shadow: none;\n",
              "  }\n",
              "\n",
              "  .colab-df-spinner {\n",
              "    border: 2px solid var(--fill-color);\n",
              "    border-color: transparent;\n",
              "    border-bottom-color: var(--fill-color);\n",
              "    animation:\n",
              "      spin 1s steps(1) infinite;\n",
              "  }\n",
              "\n",
              "  @keyframes spin {\n",
              "    0% {\n",
              "      border-color: transparent;\n",
              "      border-bottom-color: var(--fill-color);\n",
              "      border-left-color: var(--fill-color);\n",
              "    }\n",
              "    20% {\n",
              "      border-color: transparent;\n",
              "      border-left-color: var(--fill-color);\n",
              "      border-top-color: var(--fill-color);\n",
              "    }\n",
              "    30% {\n",
              "      border-color: transparent;\n",
              "      border-left-color: var(--fill-color);\n",
              "      border-top-color: var(--fill-color);\n",
              "      border-right-color: var(--fill-color);\n",
              "    }\n",
              "    40% {\n",
              "      border-color: transparent;\n",
              "      border-right-color: var(--fill-color);\n",
              "      border-top-color: var(--fill-color);\n",
              "    }\n",
              "    60% {\n",
              "      border-color: transparent;\n",
              "      border-right-color: var(--fill-color);\n",
              "    }\n",
              "    80% {\n",
              "      border-color: transparent;\n",
              "      border-right-color: var(--fill-color);\n",
              "      border-bottom-color: var(--fill-color);\n",
              "    }\n",
              "    90% {\n",
              "      border-color: transparent;\n",
              "      border-bottom-color: var(--fill-color);\n",
              "    }\n",
              "  }\n",
              "</style>\n",
              "\n",
              "  <script>\n",
              "    async function quickchart(key) {\n",
              "      const quickchartButtonEl =\n",
              "        document.querySelector('#' + key + ' button');\n",
              "      quickchartButtonEl.disabled = true;  // To prevent multiple clicks.\n",
              "      quickchartButtonEl.classList.add('colab-df-spinner');\n",
              "      try {\n",
              "        const charts = await google.colab.kernel.invokeFunction(\n",
              "            'suggestCharts', [key], {});\n",
              "      } catch (error) {\n",
              "        console.error('Error during call to suggestCharts:', error);\n",
              "      }\n",
              "      quickchartButtonEl.classList.remove('colab-df-spinner');\n",
              "      quickchartButtonEl.classList.add('colab-df-quickchart-complete');\n",
              "    }\n",
              "    (() => {\n",
              "      let quickchartButtonEl =\n",
              "        document.querySelector('#df-54901a4f-6f59-4064-9ea7-de5f7236e7cd button');\n",
              "      quickchartButtonEl.style.display =\n",
              "        google.colab.kernel.accessAllowed ? 'block' : 'none';\n",
              "    })();\n",
              "  </script>\n",
              "</div>\n",
              "\n",
              "  <div id=\"id_3b6d2d8f-cc24-4d81-b528-068bfe9966f0\">\n",
              "    <style>\n",
              "      .colab-df-generate {\n",
              "        background-color: #E8F0FE;\n",
              "        border: none;\n",
              "        border-radius: 50%;\n",
              "        cursor: pointer;\n",
              "        display: none;\n",
              "        fill: #1967D2;\n",
              "        height: 32px;\n",
              "        padding: 0 0 0 0;\n",
              "        width: 32px;\n",
              "      }\n",
              "\n",
              "      .colab-df-generate:hover {\n",
              "        background-color: #E2EBFA;\n",
              "        box-shadow: 0px 1px 2px rgba(60, 64, 67, 0.3), 0px 1px 3px 1px rgba(60, 64, 67, 0.15);\n",
              "        fill: #174EA6;\n",
              "      }\n",
              "\n",
              "      [theme=dark] .colab-df-generate {\n",
              "        background-color: #3B4455;\n",
              "        fill: #D2E3FC;\n",
              "      }\n",
              "\n",
              "      [theme=dark] .colab-df-generate:hover {\n",
              "        background-color: #434B5C;\n",
              "        box-shadow: 0px 1px 3px 1px rgba(0, 0, 0, 0.15);\n",
              "        filter: drop-shadow(0px 1px 2px rgba(0, 0, 0, 0.3));\n",
              "        fill: #FFFFFF;\n",
              "      }\n",
              "    </style>\n",
              "    <button class=\"colab-df-generate\" onclick=\"generateWithVariable('basedatos')\"\n",
              "            title=\"Generate code using this dataframe.\"\n",
              "            style=\"display:none;\">\n",
              "\n",
              "  <svg xmlns=\"http://www.w3.org/2000/svg\" height=\"24px\"viewBox=\"0 0 24 24\"\n",
              "       width=\"24px\">\n",
              "    <path d=\"M7,19H8.4L18.45,9,17,7.55,7,17.6ZM5,21V16.75L18.45,3.32a2,2,0,0,1,2.83,0l1.4,1.43a1.91,1.91,0,0,1,.58,1.4,1.91,1.91,0,0,1-.58,1.4L9.25,21ZM18.45,9,17,7.55Zm-12,3A5.31,5.31,0,0,0,4.9,8.1,5.31,5.31,0,0,0,1,6.5,5.31,5.31,0,0,0,4.9,4.9,5.31,5.31,0,0,0,6.5,1,5.31,5.31,0,0,0,8.1,4.9,5.31,5.31,0,0,0,12,6.5,5.46,5.46,0,0,0,6.5,12Z\"/>\n",
              "  </svg>\n",
              "    </button>\n",
              "    <script>\n",
              "      (() => {\n",
              "      const buttonEl =\n",
              "        document.querySelector('#id_3b6d2d8f-cc24-4d81-b528-068bfe9966f0 button.colab-df-generate');\n",
              "      buttonEl.style.display =\n",
              "        google.colab.kernel.accessAllowed ? 'block' : 'none';\n",
              "\n",
              "      buttonEl.onclick = () => {\n",
              "        google.colab.notebook.generateWithVariable('basedatos');\n",
              "      }\n",
              "      })();\n",
              "    </script>\n",
              "  </div>\n",
              "\n",
              "    </div>\n",
              "  </div>\n"
            ],
            "application/vnd.google.colaboratory.intrinsic+json": {
              "type": "dataframe",
              "variable_name": "basedatos",
              "summary": "{\n  \"name\": \"basedatos\",\n  \"rows\": 262,\n  \"fields\": [\n    {\n      \"column\": \"YEAR\",\n      \"properties\": {\n        \"dtype\": \"number\",\n        \"std\": 1,\n        \"min\": 1978,\n        \"max\": 1981,\n        \"num_unique_values\": 2,\n        \"samples\": [\n          1981,\n          1978\n        ],\n        \"semantic_type\": \"\",\n        \"description\": \"\"\n      }\n    },\n    {\n      \"column\": \"AGE\",\n      \"properties\": {\n        \"dtype\": \"number\",\n        \"std\": 23,\n        \"min\": 0,\n        \"max\": 80,\n        \"num_unique_values\": 46,\n        \"samples\": [\n          42,\n          78\n        ],\n        \"semantic_type\": \"\",\n        \"description\": \"\"\n      }\n    },\n    {\n      \"column\": \"DISTANCE_BUS\",\n      \"properties\": {\n        \"dtype\": \"number\",\n        \"std\": 9038,\n        \"min\": 1000,\n        \"max\": 35000,\n        \"num_unique_values\": 34,\n        \"samples\": [\n          24000,\n          31000\n        ],\n        \"semantic_type\": \"\",\n        \"description\": \"\"\n      }\n    },\n    {\n      \"column\": \"DISTANCE_INTERSTATE\",\n      \"properties\": {\n        \"dtype\": \"number\",\n        \"std\": 9116,\n        \"min\": 1000,\n        \"max\": 34000,\n        \"num_unique_values\": 34,\n        \"samples\": [\n          26000,\n          1000\n        ],\n        \"semantic_type\": \"\",\n        \"description\": \"\"\n      }\n    },\n    {\n      \"column\": \"PRICE\",\n      \"properties\": {\n        \"dtype\": \"number\",\n        \"std\": 42329,\n        \"min\": 31000,\n        \"max\": 300000,\n        \"num_unique_values\": 174,\n        \"samples\": [\n          143000,\n          38500\n        ],\n        \"semantic_type\": \"\",\n        \"description\": \"\"\n      }\n    },\n    {\n      \"column\": \"ROOMS\",\n      \"properties\": {\n        \"dtype\": \"number\",\n        \"std\": 0,\n        \"min\": 4,\n        \"max\": 10,\n        \"num_unique_values\": 7,\n        \"samples\": [\n          7,\n          6\n        ],\n        \"semantic_type\": \"\",\n        \"description\": \"\"\n      }\n    },\n    {\n      \"column\": \"AREA\",\n      \"properties\": {\n        \"dtype\": \"number\",\n        \"std\": 702,\n        \"min\": 912,\n        \"max\": 5136,\n        \"num_unique_values\": 212,\n        \"samples\": [\n          2112,\n          1746\n        ],\n        \"semantic_type\": \"\",\n        \"description\": \"\"\n      }\n    },\n    {\n      \"column\": \"LAND\",\n      \"properties\": {\n        \"dtype\": \"number\",\n        \"std\": 41562,\n        \"min\": 1710,\n        \"max\": 544500,\n        \"num_unique_values\": 182,\n        \"samples\": [\n          7500,\n          147668\n        ],\n        \"semantic_type\": \"\",\n        \"description\": \"\"\n      }\n    },\n    {\n      \"column\": \"BATHS\",\n      \"properties\": {\n        \"dtype\": \"number\",\n        \"std\": 0,\n        \"min\": 1,\n        \"max\": 4,\n        \"num_unique_values\": 4,\n        \"samples\": [\n          3,\n          4\n        ],\n        \"semantic_type\": \"\",\n        \"description\": \"\"\n      }\n    }\n  ]\n}"
            }
          },
          "metadata": {},
          "execution_count": 169
        }
      ]
    },
    {
      "cell_type": "code",
      "source": [
        "datos_agrupados = basedatos.groupby('YEAR')"
      ],
      "metadata": {
        "id": "LpDnkIB8bdbE"
      },
      "execution_count": 170,
      "outputs": []
    },
    {
      "cell_type": "code",
      "source": [
        "datos_agrupados['PRICE'].hist(figsize=(10, 5))\n",
        "plt.title('Distribución de precios por año')\n",
        "plt.xlabel('Precio')\n",
        "plt.ylabel('Cantidad de viviendas')\n",
        "plt.show()"
      ],
      "metadata": {
        "colab": {
          "base_uri": "https://localhost:8080/",
          "height": 488
        },
        "id": "0fshf4i2bk0G",
        "outputId": "044e412e-3fcd-4947-a032-05564c69a323"
      },
      "execution_count": 171,
      "outputs": [
        {
          "output_type": "display_data",
          "data": {
            "text/plain": [
              "<Figure size 1000x500 with 1 Axes>"
            ],
            "image/png": "[encoded data removed]"
          },
          "metadata": {}
        }
      ]
    },
    {
      "cell_type": "code",
      "source": [
        "basedatos.hist()\n",
        "plt.tight_layout()"
      ],
      "metadata": {
        "colab": {
          "base_uri": "https://localhost:8080/",
          "height": 487
        },
        "id": "XKDpPYYjdui8",
        "outputId": "d6824a1f-d23f-4527-e63b-dda36b4f8467"
      },
      "execution_count": 177,
      "outputs": [
        {
          "output_type": "display_data",
          "data": {
            "text/plain": [
              "<Figure size 640x480 with 9 Axes>"
            ],
            "image/png": "[encoded data removed]"
          },
          "metadata": {}
        }
      ]
    },
    {
      "cell_type": "code",
      "source": [
        "sns.histplot(x=basedatos['BATHS'])"
      ],
      "metadata": {
        "colab": {
          "base_uri": "https://localhost:8080/",
          "height": 466
        },
        "id": "q4zPUBsYXqN_",
        "outputId": "cdb0b403-a796-4617-ae7e-91d062136313"
      },
      "execution_count": 206,
      "outputs": [
        {
          "output_type": "execute_result",
          "data": {
            "text/plain": [
              "<Axes: xlabel='BATHS', ylabel='Count'>"
            ]
          },
          "metadata": {},
          "execution_count": 206
        },
        {
          "output_type": "display_data",
          "data": {
            "text/plain": [
              "<Figure size 640x480 with 1 Axes>"
            ],
            "image/png": "[encoded data removed]"
          },
          "metadata": {}
        }
      ]
    },
    {
      "cell_type": "code",
      "source": [
        "sns.histplot(x=basedatos['YEAR'])"
      ],
      "metadata": {
        "colab": {
          "base_uri": "https://localhost:8080/",
          "height": 466
        },
        "id": "wEHydpfpU64_",
        "outputId": "c34d7750-cd3a-4770-b4d5-20ca91c708fb"
      },
      "execution_count": 208,
      "outputs": [
        {
          "output_type": "execute_result",
          "data": {
            "text/plain": [
              "<Axes: xlabel='YEAR', ylabel='Count'>"
            ]
          },
          "metadata": {},
          "execution_count": 208
        },
        {
          "output_type": "display_data",
          "data": {
            "text/plain": [
              "<Figure size 640x480 with 1 Axes>"
            ],
            "image/png": "[encoded data removed]"
          },
          "metadata": {}
        }
      ]
    },
    {
      "cell_type": "code",
      "source": [
        "sns.histplot(x=basedatos['ROOMS'])"
      ],
      "metadata": {
        "colab": {
          "base_uri": "https://localhost:8080/",
          "height": 466
        },
        "id": "cGcTebDZXwCW",
        "outputId": "00ad8fb6-79fb-4bbc-a05d-58402cd66c43"
      },
      "execution_count": 207,
      "outputs": [
        {
          "output_type": "execute_result",
          "data": {
            "text/plain": [
              "<Axes: xlabel='ROOMS', ylabel='Count'>"
            ]
          },
          "metadata": {},
          "execution_count": 207
        },
        {
          "output_type": "display_data",
          "data": {
            "text/plain": [
              "<Figure size 640x480 with 1 Axes>"
            ],
            "image/png": "[encoded data removed]"
          },
          "metadata": {}
        }
      ]
    },
    {
      "cell_type": "code",
      "source": [
        "sns.boxplot(data=basedatos, y='BATHS')"
      ],
      "metadata": {
        "colab": {
          "base_uri": "https://localhost:8080/",
          "height": 428
        },
        "id": "YiB5sQnSUcvQ",
        "outputId": "68b48c30-e432-40ee-9702-2667dbd5f409"
      },
      "execution_count": 204,
      "outputs": [
        {
          "output_type": "execute_result",
          "data": {
            "text/plain": [
              "<Axes: ylabel='BATHS'>"
            ]
          },
          "metadata": {},
          "execution_count": 204
        },
        {
          "output_type": "display_data",
          "data": {
            "text/plain": [
              "<Figure size 640x480 with 1 Axes>"
            ],
            "image/png": "[encoded data removed]"
          },
          "metadata": {}
        }
      ]
    },
    {
      "cell_type": "code",
      "source": [
        "sns.boxplot(data=basedatos, y='ROOMS')"
      ],
      "metadata": {
        "colab": {
          "base_uri": "https://localhost:8080/",
          "height": 428
        },
        "id": "JQgXF2H5WGkm",
        "outputId": "928368df-1669-46f5-a6b0-3a7820c1b861"
      },
      "execution_count": 205,
      "outputs": [
        {
          "output_type": "execute_result",
          "data": {
            "text/plain": [
              "<Axes: ylabel='ROOMS'>"
            ]
          },
          "metadata": {},
          "execution_count": 205
        },
        {
          "output_type": "display_data",
          "data": {
            "text/plain": [
              "<Figure size 640x480 with 1 Axes>"
            ],
            "image/png": "[encoded data removed]"
          },
          "metadata": {}
        }
      ]
    },
    {
      "cell_type": "code",
      "source": [
        "sns.jointplot(y=basedatos['PRICE'],x=basedatos['BATHS'])"
      ],
      "metadata": {
        "colab": {
          "base_uri": "https://localhost:8080/",
          "height": 624
        },
        "id": "0iZqyE3YZSHV",
        "outputId": "edccf39e-8321-47ab-be61-a4f0851b5f72"
      },
      "execution_count": 210,
      "outputs": [
        {
          "output_type": "execute_result",
          "data": {
            "text/plain": [
              "<seaborn.axisgrid.JointGrid at 0x7a00b1defd90>"
            ]
          },
          "metadata": {},
          "execution_count": 210
        },
        {
          "output_type": "display_data",
          "data": {
            "text/plain": [
              "<Figure size 600x600 with 3 Axes>"
            ],
            "image/png": "[encoded data removed]"
          },
          "metadata": {}
        }
      ]
    },
    {
      "cell_type": "code",
      "source": [
        "sns.jointplot(y=basedatos['PRICE'],x=basedatos['ROOMS'])"
      ],
      "metadata": {
        "colab": {
          "base_uri": "https://localhost:8080/",
          "height": 624
        },
        "id": "htf5Uv8ZZfp1",
        "outputId": "21487512-9216-4138-9b5f-915d6300082e"
      },
      "execution_count": 211,
      "outputs": [
        {
          "output_type": "execute_result",
          "data": {
            "text/plain": [
              "<seaborn.axisgrid.JointGrid at 0x7a00ae9ff070>"
            ]
          },
          "metadata": {},
          "execution_count": 211
        },
        {
          "output_type": "display_data",
          "data": {
            "text/plain": [
              "<Figure size 600x600 with 3 Axes>"
            ],
            "image/png": "[encoded data removed]"
          },
          "metadata": {}
        }
      ]
    }
  ]
}
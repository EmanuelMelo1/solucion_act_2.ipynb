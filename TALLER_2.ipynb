{
  "nbformat": 4,
  "nbformat_minor": 0,
  "metadata": {
    "colab": {
      "provenance": []
    },
    "kernelspec": {
      "name": "python3",
      "display_name": "Python 3"
    },
    "language_info": {
      "name": "python"
    }
  },
  "cells": [
    {
      "cell_type": "code",
      "source": [
        "import pandas as pd"
      ],
      "metadata": {
        "id": "XkhwO08dRbYl"
      },
      "execution_count": 1,
      "outputs": []
    },
    {
      "cell_type": "code",
      "source": [
        "pd.read_csv"
      ],
      "metadata": {
        "id": "0b5DsYkvTdPd"
      },
      "execution_count": null,
      "outputs": []
    },
    {
      "cell_type": "code",
      "source": [
        "pip install wooldridge"
      ],
      "metadata": {
        "id": "pvY3hLaJT7O7",
        "colab": {
          "base_uri": "https://localhost:8080/"
        },
        "outputId": "2242c56e-3a81-41ad-8ac6-d664146ef2cc"
      },
      "execution_count": 3,
      "outputs": [
        {
          "output_type": "stream",
          "name": "stdout",
          "text": [
            "Installing collected packages: wooldridge\n",
            "Successfully installed wooldridge-0.4.4\n"
          ]
        }
      ]
    },
    {
      "cell_type": "code",
      "source": [
        "import pandas as pd\n",
        "import wooldridge as wd\n",
        "import numpy as np"
      ],
      "metadata": {
        "id": "YNcVmWbLUBqU"
      },
      "execution_count": 4,
      "outputs": []
    },
    {
      "cell_type": "code",
      "source": [
        "basedatos= pd.read_csv('/content/activity_2_ml.csv')"
      ],
      "metadata": {
        "id": "nolOfkrLVceU"
      },
      "execution_count": 5,
      "outputs": []
    },
    {
      "cell_type": "code",
      "source": [
        "basedatos.head()"
      ],
      "metadata": {
        "colab": {
          "base_uri": "https://localhost:8080/",
          "height": 206
        },
        "id": "cvtzE3j-Zax1",
        "outputId": "b9d99605-e6b9-4628-c752-37b7fe003bac"
      },
      "execution_count": 100,
      "outputs": [
        {
          "output_type": "execute_result",
          "data": {
            "text/plain": [
              "   YEAR  AGE  DISTANCE_BUS  DISTANCE_INTERSTATE   PRICE  ROOMS  AREA   LAND  \\\n",
              "0  1978    1         30000                30000   75900      7  1836  45738   \n",
              "1  1981    7         22000                22000  140000      6  1800  44867   \n",
              "2  1981   31          3000                 2000   68000      6  3304  18731   \n",
              "3  1981    0         10000                13000  216000      7  2548  46174   \n",
              "4  1981    0         25000                25000  125000      7  2208  45738   \n",
              "\n",
              "   BATHS  \n",
              "0      2  \n",
              "1      3  \n",
              "2      2  \n",
              "3      3  \n",
              "4      3  "
            ],
            "text/html": [
              "\n",
              "  <div id=\"df-82cc29ec-6632-4774-b778-1b6282db2879\" class=\"colab-df-container\">\n",
              "    <div>\n",
              "<style scoped>\n",
              "    .dataframe tbody tr th:only-of-type {\n",
              "        vertical-align: middle;\n",
              "    }\n",
              "\n",
              "    .dataframe tbody tr th {\n",
              "        vertical-align: top;\n",
              "    }\n",
              "\n",
              "    .dataframe thead th {\n",
              "        text-align: right;\n",
              "    }\n",
              "</style>\n",
              "<table border=\"1\" class=\"dataframe\">\n",
              "  <thead>\n",
              "    <tr style=\"text-align: right;\">\n",
              "      <th></th>\n",
              "      <th>YEAR</th>\n",
              "      <th>AGE</th>\n",
              "      <th>DISTANCE_BUS</th>\n",
              "      <th>DISTANCE_INTERSTATE</th>\n",
              "      <th>PRICE</th>\n",
              "      <th>ROOMS</th>\n",
              "      <th>AREA</th>\n",
              "      <th>LAND</th>\n",
              "      <th>BATHS</th>\n",
              "    </tr>\n",
              "  </thead>\n",
              "  <tbody>\n",
              "    <tr>\n",
              "      <th>0</th>\n",
              "      <td>1978</td>\n",
              "      <td>1</td>\n",
              "      <td>30000</td>\n",
              "      <td>30000</td>\n",
              "      <td>75900</td>\n",
              "      <td>7</td>\n",
              "      <td>1836</td>\n",
              "      <td>45738</td>\n",
              "      <td>2</td>\n",
              "    </tr>\n",
              "    <tr>\n",
              "      <th>1</th>\n",
              "      <td>1981</td>\n",
              "      <td>7</td>\n",
              "      <td>22000</td>\n",
              "      <td>22000</td>\n",
              "      <td>140000</td>\n",
              "      <td>6</td>\n",
              "      <td>1800</td>\n",
              "      <td>44867</td>\n",
              "      <td>3</td>\n",
              "    </tr>\n",
              "    <tr>\n",
              "      <th>2</th>\n",
              "      <td>1981</td>\n",
              "      <td>31</td>\n",
              "      <td>3000</td>\n",
              "      <td>2000</td>\n",
              "      <td>68000</td>\n",
              "      <td>6</td>\n",
              "      <td>3304</td>\n",
              "      <td>18731</td>\n",
              "      <td>2</td>\n",
              "    </tr>\n",
              "    <tr>\n",
              "      <th>3</th>\n",
              "      <td>1981</td>\n",
              "      <td>0</td>\n",
              "      <td>10000</td>\n",
              "      <td>13000</td>\n",
              "      <td>216000</td>\n",
              "      <td>7</td>\n",
              "      <td>2548</td>\n",
              "      <td>46174</td>\n",
              "      <td>3</td>\n",
              "    </tr>\n",
              "    <tr>\n",
              "      <th>4</th>\n",
              "      <td>1981</td>\n",
              "      <td>0</td>\n",
              "      <td>25000</td>\n",
              "      <td>25000</td>\n",
              "      <td>125000</td>\n",
              "      <td>7</td>\n",
              "      <td>2208</td>\n",
              "      <td>45738</td>\n",
              "      <td>3</td>\n",
              "    </tr>\n",
              "  </tbody>\n",
              "</table>\n",
              "</div>\n",
              "    <div class=\"colab-df-buttons\">\n",
              "\n",
              "  <div class=\"colab-df-container\">\n",
              "    <button class=\"colab-df-convert\" onclick=\"convertToInteractive('df-82cc29ec-6632-4774-b778-1b6282db2879')\"\n",
              "            title=\"Convert this dataframe to an interactive table.\"\n",
              "            style=\"display:none;\">\n",
              "\n",
              "  <svg xmlns=\"http://www.w3.org/2000/svg\" height=\"24px\" viewBox=\"0 -960 960 960\">\n",
              "    <path d=\"M120-120v-720h720v720H120Zm60-500h600v-160H180v160Zm220 220h160v-160H400v160Zm0 220h160v-160H400v160ZM180-400h160v-160H180v160Zm440 0h160v-160H620v160ZM180-180h160v-160H180v160Zm440 0h160v-160H620v160Z\"/>\n",
              "  </svg>\n",
              "    </button>\n",
              "\n",
              "  <style>\n",
              "    .colab-df-container {\n",
              "      display:flex;\n",
              "      gap: 12px;\n",
              "    }\n",
              "\n",
              "    .colab-df-convert {\n",
              "      background-color: #E8F0FE;\n",
              "      border: none;\n",
              "      border-radius: 50%;\n",
              "      cursor: pointer;\n",
              "      display: none;\n",
              "      fill: #1967D2;\n",
              "      height: 32px;\n",
              "      padding: 0 0 0 0;\n",
              "      width: 32px;\n",
              "    }\n",
              "\n",
              "    .colab-df-convert:hover {\n",
              "      background-color: #E2EBFA;\n",
              "      box-shadow: 0px 1px 2px rgba(60, 64, 67, 0.3), 0px 1px 3px 1px rgba(60, 64, 67, 0.15);\n",
              "      fill: #174EA6;\n",
              "    }\n",
              "\n",
              "    .colab-df-buttons div {\n",
              "      margin-bottom: 4px;\n",
              "    }\n",
              "\n",
              "    [theme=dark] .colab-df-convert {\n",
              "      background-color: #3B4455;\n",
              "      fill: #D2E3FC;\n",
              "    }\n",
              "\n",
              "    [theme=dark] .colab-df-convert:hover {\n",
              "      background-color: #434B5C;\n",
              "      box-shadow: 0px 1px 3px 1px rgba(0, 0, 0, 0.15);\n",
              "      filter: drop-shadow(0px 1px 2px rgba(0, 0, 0, 0.3));\n",
              "      fill: #FFFFFF;\n",
              "    }\n",
              "  </style>\n",
              "\n",
              "    <script>\n",
              "      const buttonEl =\n",
              "        document.querySelector('#df-82cc29ec-6632-4774-b778-1b6282db2879 button.colab-df-convert');\n",
              "      buttonEl.style.display =\n",
              "        google.colab.kernel.accessAllowed ? 'block' : 'none';\n",
              "\n",
              "      async function convertToInteractive(key) {\n",
              "        const element = document.querySelector('#df-82cc29ec-6632-4774-b778-1b6282db2879');\n",
              "        const dataTable =\n",
              "          await google.colab.kernel.invokeFunction('convertToInteractive',\n",
              "                                                    [key], {});\n",
              "        if (!dataTable) return;\n",
              "\n",
              "        const docLinkHtml = 'Like what you see? Visit the ' +\n",
              "          '<a target=\"_blank\" href=https://colab.research.google.com/notebooks/data_table.ipynb>data table notebook</a>'\n",
              "          + ' to learn more about interactive tables.';\n",
              "        element.innerHTML = '';\n",
              "        dataTable['output_type'] = 'display_data';\n",
              "        await google.colab.output.renderOutput(dataTable, element);\n",
              "        const docLink = document.createElement('div');\n",
              "        docLink.innerHTML = docLinkHtml;\n",
              "        element.appendChild(docLink);\n",
              "      }\n",
              "    </script>\n",
              "  </div>\n",
              "\n",
              "\n",
              "<div id=\"df-d96043ed-be6b-4fea-b90d-2fafea42e83e\">\n",
              "  <button class=\"colab-df-quickchart\" onclick=\"quickchart('df-d96043ed-be6b-4fea-b90d-2fafea42e83e')\"\n",
              "            title=\"Suggest charts\"\n",
              "            style=\"display:none;\">\n",
              "\n",
              "<svg xmlns=\"http://www.w3.org/2000/svg\" height=\"24px\"viewBox=\"0 0 24 24\"\n",
              "     width=\"24px\">\n",
              "    <g>\n",
              "        <path d=\"M19 3H5c-1.1 0-2 .9-2 2v14c0 1.1.9 2 2 2h14c1.1 0 2-.9 2-2V5c0-1.1-.9-2-2-2zM9 17H7v-7h2v7zm4 0h-2V7h2v10zm4 0h-2v-4h2v4z\"/>\n",
              "    </g>\n",
              "</svg>\n",
              "  </button>\n",
              "\n",
              "<style>\n",
              "  .colab-df-quickchart {\n",
              "      --bg-color: #E8F0FE;\n",
              "      --fill-color: #1967D2;\n",
              "      --hover-bg-color: #E2EBFA;\n",
              "      --hover-fill-color: #174EA6;\n",
              "      --disabled-fill-color: #AAA;\n",
              "      --disabled-bg-color: #DDD;\n",
              "  }\n",
              "\n",
              "  [theme=dark] .colab-df-quickchart {\n",
              "      --bg-color: #3B4455;\n",
              "      --fill-color: #D2E3FC;\n",
              "      --hover-bg-color: #434B5C;\n",
              "      --hover-fill-color: #FFFFFF;\n",
              "      --disabled-bg-color: #3B4455;\n",
              "      --disabled-fill-color: #666;\n",
              "  }\n",
              "\n",
              "  .colab-df-quickchart {\n",
              "    background-color: var(--bg-color);\n",
              "    border: none;\n",
              "    border-radius: 50%;\n",
              "    cursor: pointer;\n",
              "    display: none;\n",
              "    fill: var(--fill-color);\n",
              "    height: 32px;\n",
              "    padding: 0;\n",
              "    width: 32px;\n",
              "  }\n",
              "\n",
              "  .colab-df-quickchart:hover {\n",
              "    background-color: var(--hover-bg-color);\n",
              "    box-shadow: 0 1px 2px rgba(60, 64, 67, 0.3), 0 1px 3px 1px rgba(60, 64, 67, 0.15);\n",
              "    fill: var(--button-hover-fill-color);\n",
              "  }\n",
              "\n",
              "  .colab-df-quickchart-complete:disabled,\n",
              "  .colab-df-quickchart-complete:disabled:hover {\n",
              "    background-color: var(--disabled-bg-color);\n",
              "    fill: var(--disabled-fill-color);\n",
              "    box-shadow: none;\n",
              "  }\n",
              "\n",
              "  .colab-df-spinner {\n",
              "    border: 2px solid var(--fill-color);\n",
              "    border-color: transparent;\n",
              "    border-bottom-color: var(--fill-color);\n",
              "    animation:\n",
              "      spin 1s steps(1) infinite;\n",
              "  }\n",
              "\n",
              "  @keyframes spin {\n",
              "    0% {\n",
              "      border-color: transparent;\n",
              "      border-bottom-color: var(--fill-color);\n",
              "      border-left-color: var(--fill-color);\n",
              "    }\n",
              "    20% {\n",
              "      border-color: transparent;\n",
              "      border-left-color: var(--fill-color);\n",
              "      border-top-color: var(--fill-color);\n",
              "    }\n",
              "    30% {\n",
              "      border-color: transparent;\n",
              "      border-left-color: var(--fill-color);\n",
              "      border-top-color: var(--fill-color);\n",
              "      border-right-color: var(--fill-color);\n",
              "    }\n",
              "    40% {\n",
              "      border-color: transparent;\n",
              "      border-right-color: var(--fill-color);\n",
              "      border-top-color: var(--fill-color);\n",
              "    }\n",
              "    60% {\n",
              "      border-color: transparent;\n",
              "      border-right-color: var(--fill-color);\n",
              "    }\n",
              "    80% {\n",
              "      border-color: transparent;\n",
              "      border-right-color: var(--fill-color);\n",
              "      border-bottom-color: var(--fill-color);\n",
              "    }\n",
              "    90% {\n",
              "      border-color: transparent;\n",
              "      border-bottom-color: var(--fill-color);\n",
              "    }\n",
              "  }\n",
              "</style>\n",
              "\n",
              "  <script>\n",
              "    async function quickchart(key) {\n",
              "      const quickchartButtonEl =\n",
              "        document.querySelector('#' + key + ' button');\n",
              "      quickchartButtonEl.disabled = true;  // To prevent multiple clicks.\n",
              "      quickchartButtonEl.classList.add('colab-df-spinner');\n",
              "      try {\n",
              "        const charts = await google.colab.kernel.invokeFunction(\n",
              "            'suggestCharts', [key], {});\n",
              "      } catch (error) {\n",
              "        console.error('Error during call to suggestCharts:', error);\n",
              "      }\n",
              "      quickchartButtonEl.classList.remove('colab-df-spinner');\n",
              "      quickchartButtonEl.classList.add('colab-df-quickchart-complete');\n",
              "    }\n",
              "    (() => {\n",
              "      let quickchartButtonEl =\n",
              "        document.querySelector('#df-d96043ed-be6b-4fea-b90d-2fafea42e83e button');\n",
              "      quickchartButtonEl.style.display =\n",
              "        google.colab.kernel.accessAllowed ? 'block' : 'none';\n",
              "    })();\n",
              "  </script>\n",
              "</div>\n",
              "\n",
              "    </div>\n",
              "  </div>\n"
            ],
            "application/vnd.google.colaboratory.intrinsic+json": {
              "type": "dataframe",
              "variable_name": "basedatos",
              "summary": "{\n  \"name\": \"basedatos\",\n  \"rows\": 271,\n  \"fields\": [\n    {\n      \"column\": \"YEAR\",\n      \"properties\": {\n        \"dtype\": \"number\",\n        \"std\": 1,\n        \"min\": 1978,\n        \"max\": 1981,\n        \"num_unique_values\": 2,\n        \"samples\": [\n          1981,\n          1978\n        ],\n        \"semantic_type\": \"\",\n        \"description\": \"\"\n      }\n    },\n    {\n      \"column\": \"AGE\",\n      \"properties\": {\n        \"dtype\": \"number\",\n        \"std\": 23,\n        \"min\": 0,\n        \"max\": 80,\n        \"num_unique_values\": 46,\n        \"samples\": [\n          42,\n          78\n        ],\n        \"semantic_type\": \"\",\n        \"description\": \"\"\n      }\n    },\n    {\n      \"column\": \"DISTANCE_BUS\",\n      \"properties\": {\n        \"dtype\": \"number\",\n        \"std\": 9027,\n        \"min\": 1000,\n        \"max\": 35000,\n        \"num_unique_values\": 34,\n        \"samples\": [\n          24000,\n          31000\n        ],\n        \"semantic_type\": \"\",\n        \"description\": \"\"\n      }\n    },\n    {\n      \"column\": \"DISTANCE_INTERSTATE\",\n      \"properties\": {\n        \"dtype\": \"number\",\n        \"std\": 9115,\n        \"min\": 1000,\n        \"max\": 34000,\n        \"num_unique_values\": 34,\n        \"samples\": [\n          26000,\n          1000\n        ],\n        \"semantic_type\": \"\",\n        \"description\": \"\"\n      }\n    },\n    {\n      \"column\": \"PRICE\",\n      \"properties\": {\n        \"dtype\": \"number\",\n        \"std\": 41891,\n        \"min\": 31000,\n        \"max\": 300000,\n        \"num_unique_values\": 174,\n        \"samples\": [\n          143000,\n          38500\n        ],\n        \"semantic_type\": \"\",\n        \"description\": \"\"\n      }\n    },\n    {\n      \"column\": \"ROOMS\",\n      \"properties\": {\n        \"dtype\": \"number\",\n        \"std\": 0,\n        \"min\": 4,\n        \"max\": 10,\n        \"num_unique_values\": 7,\n        \"samples\": [\n          7,\n          6\n        ],\n        \"semantic_type\": \"\",\n        \"description\": \"\"\n      }\n    },\n    {\n      \"column\": \"AREA\",\n      \"properties\": {\n        \"dtype\": \"number\",\n        \"std\": 697,\n        \"min\": 912,\n        \"max\": 5136,\n        \"num_unique_values\": 212,\n        \"samples\": [\n          2112,\n          1746\n        ],\n        \"semantic_type\": \"\",\n        \"description\": \"\"\n      }\n    },\n    {\n      \"column\": \"LAND\",\n      \"properties\": {\n        \"dtype\": \"number\",\n        \"std\": 40920,\n        \"min\": 1710,\n        \"max\": 544500,\n        \"num_unique_values\": 182,\n        \"samples\": [\n          7500,\n          147668\n        ],\n        \"semantic_type\": \"\",\n        \"description\": \"\"\n      }\n    },\n    {\n      \"column\": \"BATHS\",\n      \"properties\": {\n        \"dtype\": \"number\",\n        \"std\": 0,\n        \"min\": 1,\n        \"max\": 4,\n        \"num_unique_values\": 4,\n        \"samples\": [\n          3,\n          4\n        ],\n        \"semantic_type\": \"\",\n        \"description\": \"\"\n      }\n    }\n  ]\n}"
            }
          },
          "metadata": {},
          "execution_count": 100
        }
      ]
    },
    {
      "cell_type": "code",
      "source": [
        "basedatos.info()"
      ],
      "metadata": {
        "colab": {
          "base_uri": "https://localhost:8080/"
        },
        "id": "cKD-Hf0Jh5oA",
        "outputId": "ec1053a4-be29-4c82-8343-c7a25d4934bd"
      },
      "execution_count": 7,
      "outputs": [
        {
          "output_type": "stream",
          "name": "stdout",
          "text": [
            "<class 'pandas.core.frame.DataFrame'>\n",
            "RangeIndex: 353 entries, 0 to 352\n",
            "Data columns (total 9 columns):\n",
            " #   Column               Non-Null Count  Dtype  \n",
            "---  ------               --------------  -----  \n",
            " 0   YEAR                 353 non-null    int64  \n",
            " 1   AGE                  353 non-null    int64  \n",
            " 2   DISTANCE_BUS         353 non-null    float64\n",
            " 3   DISTANCE_INTERSTATE  353 non-null    float64\n",
            " 4   PRICE                283 non-null    float64\n",
            " 5   ROOMS                353 non-null    int64  \n",
            " 6   AREA                 353 non-null    int64  \n",
            " 7   LAND                 353 non-null    float64\n",
            " 8   BATHS                353 non-null    int64  \n",
            "dtypes: float64(4), int64(5)\n",
            "memory usage: 24.9 KB\n"
          ]
        }
      ]
    },
    {
      "cell_type": "code",
      "source": [
        "basedatos.isnull().sum()"
      ],
      "metadata": {
        "colab": {
          "base_uri": "https://localhost:8080/"
        },
        "id": "hzB-uJCgiBY1",
        "outputId": "8ea5fb9c-f409-497f-afe8-d808db2af66a"
      },
      "execution_count": 8,
      "outputs": [
        {
          "output_type": "execute_result",
          "data": {
            "text/plain": [
              "YEAR                    0\n",
              "AGE                     0\n",
              "DISTANCE_BUS            0\n",
              "DISTANCE_INTERSTATE     0\n",
              "PRICE                  70\n",
              "ROOMS                   0\n",
              "AREA                    0\n",
              "LAND                    0\n",
              "BATHS                   0\n",
              "dtype: int64"
            ]
          },
          "metadata": {},
          "execution_count": 8
        }
      ]
    },
    {
      "cell_type": "code",
      "source": [
        "basedatos = basedatos.dropna()"
      ],
      "metadata": {
        "id": "rXfXwrAXiHsD"
      },
      "execution_count": 9,
      "outputs": []
    },
    {
      "cell_type": "code",
      "source": [
        "basedatos.isnull().sum()"
      ],
      "metadata": {
        "colab": {
          "base_uri": "https://localhost:8080/"
        },
        "id": "z7xJOTbwIUX1",
        "outputId": "ef65fcb9-8398-4772-b678-2deafcf6c273"
      },
      "execution_count": 11,
      "outputs": [
        {
          "output_type": "execute_result",
          "data": {
            "text/plain": [
              "YEAR                   0\n",
              "AGE                    0\n",
              "DISTANCE_BUS           0\n",
              "DISTANCE_INTERSTATE    0\n",
              "PRICE                  0\n",
              "ROOMS                  0\n",
              "AREA                   0\n",
              "LAND                   0\n",
              "BATHS                  0\n",
              "dtype: int64"
            ]
          },
          "metadata": {},
          "execution_count": 11
        }
      ]
    },
    {
      "cell_type": "code",
      "source": [
        "basedatos.duplicated().sum()"
      ],
      "metadata": {
        "colab": {
          "base_uri": "https://localhost:8080/"
        },
        "id": "opqcCe31diKt",
        "outputId": "541f71cd-9a14-420c-af9a-69f51356ba16"
      },
      "execution_count": 10,
      "outputs": [
        {
          "output_type": "execute_result",
          "data": {
            "text/plain": [
              "12"
            ]
          },
          "metadata": {},
          "execution_count": 10
        }
      ]
    },
    {
      "cell_type": "code",
      "source": [
        "basedatos.drop_duplicates(inplace=True)\n",
        "basedatos.reset_index(drop=True, inplace=True)"
      ],
      "metadata": {
        "id": "XlVEpUOQdpRm"
      },
      "execution_count": 12,
      "outputs": []
    },
    {
      "cell_type": "code",
      "source": [
        "basedatos.duplicated().sum()"
      ],
      "metadata": {
        "colab": {
          "base_uri": "https://localhost:8080/"
        },
        "id": "WWwREy9ldvPr",
        "outputId": "11f87b1b-36e3-4a97-cf8f-5ab82b677f7e"
      },
      "execution_count": 13,
      "outputs": [
        {
          "output_type": "execute_result",
          "data": {
            "text/plain": [
              "0"
            ]
          },
          "metadata": {},
          "execution_count": 13
        }
      ]
    },
    {
      "cell_type": "code",
      "source": [
        "basedatos.info()"
      ],
      "metadata": {
        "colab": {
          "base_uri": "https://localhost:8080/"
        },
        "id": "RGB8Xeqjir6E",
        "outputId": "4ba250ab-7769-48c8-c6a8-df13267b7862"
      },
      "execution_count": 14,
      "outputs": [
        {
          "output_type": "stream",
          "name": "stdout",
          "text": [
            "<class 'pandas.core.frame.DataFrame'>\n",
            "RangeIndex: 271 entries, 0 to 270\n",
            "Data columns (total 9 columns):\n",
            " #   Column               Non-Null Count  Dtype  \n",
            "---  ------               --------------  -----  \n",
            " 0   YEAR                 271 non-null    int64  \n",
            " 1   AGE                  271 non-null    int64  \n",
            " 2   DISTANCE_BUS         271 non-null    float64\n",
            " 3   DISTANCE_INTERSTATE  271 non-null    float64\n",
            " 4   PRICE                271 non-null    float64\n",
            " 5   ROOMS                271 non-null    int64  \n",
            " 6   AREA                 271 non-null    int64  \n",
            " 7   LAND                 271 non-null    float64\n",
            " 8   BATHS                271 non-null    int64  \n",
            "dtypes: float64(4), int64(5)\n",
            "memory usage: 19.2 KB\n"
          ]
        }
      ]
    },
    {
      "cell_type": "code",
      "source": [
        "basedatos['DISTANCE_BUS'] = basedatos['DISTANCE_BUS'].astype('int64')\n",
        "basedatos['DISTANCE_INTERSTATE'] = basedatos['DISTANCE_INTERSTATE'].astype('int64')\n",
        "basedatos['LAND'] = basedatos['LAND'].astype('int64')\n",
        "basedatos['PRICE'] = basedatos['PRICE'].astype('int64')"
      ],
      "metadata": {
        "id": "LieOUbQDoRiT"
      },
      "execution_count": 15,
      "outputs": []
    },
    {
      "cell_type": "code",
      "source": [
        "basedatos.info()"
      ],
      "metadata": {
        "colab": {
          "base_uri": "https://localhost:8080/"
        },
        "id": "etZqTp0koXtR",
        "outputId": "0191e7c1-5980-4be3-dafe-6350fe4fd0fe"
      },
      "execution_count": 16,
      "outputs": [
        {
          "output_type": "stream",
          "name": "stdout",
          "text": [
            "<class 'pandas.core.frame.DataFrame'>\n",
            "RangeIndex: 271 entries, 0 to 270\n",
            "Data columns (total 9 columns):\n",
            " #   Column               Non-Null Count  Dtype\n",
            "---  ------               --------------  -----\n",
            " 0   YEAR                 271 non-null    int64\n",
            " 1   AGE                  271 non-null    int64\n",
            " 2   DISTANCE_BUS         271 non-null    int64\n",
            " 3   DISTANCE_INTERSTATE  271 non-null    int64\n",
            " 4   PRICE                271 non-null    int64\n",
            " 5   ROOMS                271 non-null    int64\n",
            " 6   AREA                 271 non-null    int64\n",
            " 7   LAND                 271 non-null    int64\n",
            " 8   BATHS                271 non-null    int64\n",
            "dtypes: int64(9)\n",
            "memory usage: 19.2 KB\n"
          ]
        }
      ]
    },
    {
      "cell_type": "code",
      "source": [
        "basedatos.describe()"
      ],
      "metadata": {
        "colab": {
          "base_uri": "https://localhost:8080/",
          "height": 320
        },
        "id": "ia9UhtUcKLnh",
        "outputId": "349192c6-36c7-440d-df9b-f4a0d1bef244"
      },
      "execution_count": 17,
      "outputs": [
        {
          "output_type": "execute_result",
          "data": {
            "text/plain": [
              "              YEAR         AGE  DISTANCE_BUS  DISTANCE_INTERSTATE  \\\n",
              "count   271.000000  271.000000    271.000000           271.000000   \n",
              "mean   1495.564576   15.874539  15830.258303         16453.874539   \n",
              "std     829.192540   23.523962   9027.569273          9115.142759   \n",
              "min      78.000000    0.000000   1000.000000          1000.000000   \n",
              "25%      81.000000    0.000000   9000.000000          8000.000000   \n",
              "50%    1978.000000    4.000000  15000.000000         16000.000000   \n",
              "75%    1981.000000   22.000000  23000.000000         24000.000000   \n",
              "max    1981.000000   80.000000  35000.000000         34000.000000   \n",
              "\n",
              "               PRICE       ROOMS         AREA           LAND       BATHS  \n",
              "count     271.000000  271.000000   271.000000     271.000000  271.000000  \n",
              "mean    95369.678967    6.597786  2124.206642   39520.900369    2.343173  \n",
              "std     41891.511394    0.921269   697.018583   40920.026894    0.757884  \n",
              "min     31000.000000    4.000000   912.000000    1710.000000    1.000000  \n",
              "25%     65500.000000    6.000000  1581.000000   15512.000000    2.000000  \n",
              "50%     85500.000000    7.000000  2052.000000   43560.000000    2.000000  \n",
              "75%    120000.000000    7.000000  2558.500000   46137.000000    3.000000  \n",
              "max    300000.000000   10.000000  5136.000000  544500.000000    4.000000  "
            ],
            "text/html": [
              "\n",
              "  <div id=\"df-51d80f66-4438-4354-981b-37b31a0c53fd\" class=\"colab-df-container\">\n",
              "    <div>\n",
              "<style scoped>\n",
              "    .dataframe tbody tr th:only-of-type {\n",
              "        vertical-align: middle;\n",
              "    }\n",
              "\n",
              "    .dataframe tbody tr th {\n",
              "        vertical-align: top;\n",
              "    }\n",
              "\n",
              "    .dataframe thead th {\n",
              "        text-align: right;\n",
              "    }\n",
              "</style>\n",
              "<table border=\"1\" class=\"dataframe\">\n",
              "  <thead>\n",
              "    <tr style=\"text-align: right;\">\n",
              "      <th></th>\n",
              "      <th>YEAR</th>\n",
              "      <th>AGE</th>\n",
              "      <th>DISTANCE_BUS</th>\n",
              "      <th>DISTANCE_INTERSTATE</th>\n",
              "      <th>PRICE</th>\n",
              "      <th>ROOMS</th>\n",
              "      <th>AREA</th>\n",
              "      <th>LAND</th>\n",
              "      <th>BATHS</th>\n",
              "    </tr>\n",
              "  </thead>\n",
              "  <tbody>\n",
              "    <tr>\n",
              "      <th>count</th>\n",
              "      <td>271.000000</td>\n",
              "      <td>271.000000</td>\n",
              "      <td>271.000000</td>\n",
              "      <td>271.000000</td>\n",
              "      <td>271.000000</td>\n",
              "      <td>271.000000</td>\n",
              "      <td>271.000000</td>\n",
              "      <td>271.000000</td>\n",
              "      <td>271.000000</td>\n",
              "    </tr>\n",
              "    <tr>\n",
              "      <th>mean</th>\n",
              "      <td>1495.564576</td>\n",
              "      <td>15.874539</td>\n",
              "      <td>15830.258303</td>\n",
              "      <td>16453.874539</td>\n",
              "      <td>95369.678967</td>\n",
              "      <td>6.597786</td>\n",
              "      <td>2124.206642</td>\n",
              "      <td>39520.900369</td>\n",
              "      <td>2.343173</td>\n",
              "    </tr>\n",
              "    <tr>\n",
              "      <th>std</th>\n",
              "      <td>829.192540</td>\n",
              "      <td>23.523962</td>\n",
              "      <td>9027.569273</td>\n",
              "      <td>9115.142759</td>\n",
              "      <td>41891.511394</td>\n",
              "      <td>0.921269</td>\n",
              "      <td>697.018583</td>\n",
              "      <td>40920.026894</td>\n",
              "      <td>0.757884</td>\n",
              "    </tr>\n",
              "    <tr>\n",
              "      <th>min</th>\n",
              "      <td>78.000000</td>\n",
              "      <td>0.000000</td>\n",
              "      <td>1000.000000</td>\n",
              "      <td>1000.000000</td>\n",
              "      <td>31000.000000</td>\n",
              "      <td>4.000000</td>\n",
              "      <td>912.000000</td>\n",
              "      <td>1710.000000</td>\n",
              "      <td>1.000000</td>\n",
              "    </tr>\n",
              "    <tr>\n",
              "      <th>25%</th>\n",
              "      <td>81.000000</td>\n",
              "      <td>0.000000</td>\n",
              "      <td>9000.000000</td>\n",
              "      <td>8000.000000</td>\n",
              "      <td>65500.000000</td>\n",
              "      <td>6.000000</td>\n",
              "      <td>1581.000000</td>\n",
              "      <td>15512.000000</td>\n",
              "      <td>2.000000</td>\n",
              "    </tr>\n",
              "    <tr>\n",
              "      <th>50%</th>\n",
              "      <td>1978.000000</td>\n",
              "      <td>4.000000</td>\n",
              "      <td>15000.000000</td>\n",
              "      <td>16000.000000</td>\n",
              "      <td>85500.000000</td>\n",
              "      <td>7.000000</td>\n",
              "      <td>2052.000000</td>\n",
              "      <td>43560.000000</td>\n",
              "      <td>2.000000</td>\n",
              "    </tr>\n",
              "    <tr>\n",
              "      <th>75%</th>\n",
              "      <td>1981.000000</td>\n",
              "      <td>22.000000</td>\n",
              "      <td>23000.000000</td>\n",
              "      <td>24000.000000</td>\n",
              "      <td>120000.000000</td>\n",
              "      <td>7.000000</td>\n",
              "      <td>2558.500000</td>\n",
              "      <td>46137.000000</td>\n",
              "      <td>3.000000</td>\n",
              "    </tr>\n",
              "    <tr>\n",
              "      <th>max</th>\n",
              "      <td>1981.000000</td>\n",
              "      <td>80.000000</td>\n",
              "      <td>35000.000000</td>\n",
              "      <td>34000.000000</td>\n",
              "      <td>300000.000000</td>\n",
              "      <td>10.000000</td>\n",
              "      <td>5136.000000</td>\n",
              "      <td>544500.000000</td>\n",
              "      <td>4.000000</td>\n",
              "    </tr>\n",
              "  </tbody>\n",
              "</table>\n",
              "</div>\n",
              "    <div class=\"colab-df-buttons\">\n",
              "\n",
              "  <div class=\"colab-df-container\">\n",
              "    <button class=\"colab-df-convert\" onclick=\"convertToInteractive('df-51d80f66-4438-4354-981b-37b31a0c53fd')\"\n",
              "            title=\"Convert this dataframe to an interactive table.\"\n",
              "            style=\"display:none;\">\n",
              "\n",
              "  <svg xmlns=\"http://www.w3.org/2000/svg\" height=\"24px\" viewBox=\"0 -960 960 960\">\n",
              "    <path d=\"M120-120v-720h720v720H120Zm60-500h600v-160H180v160Zm220 220h160v-160H400v160Zm0 220h160v-160H400v160ZM180-400h160v-160H180v160Zm440 0h160v-160H620v160ZM180-180h160v-160H180v160Zm440 0h160v-160H620v160Z\"/>\n",
              "  </svg>\n",
              "    </button>\n",
              "\n",
              "  <style>\n",
              "    .colab-df-container {\n",
              "      display:flex;\n",
              "      gap: 12px;\n",
              "    }\n",
              "\n",
              "    .colab-df-convert {\n",
              "      background-color: #E8F0FE;\n",
              "      border: none;\n",
              "      border-radius: 50%;\n",
              "      cursor: pointer;\n",
              "      display: none;\n",
              "      fill: #1967D2;\n",
              "      height: 32px;\n",
              "      padding: 0 0 0 0;\n",
              "      width: 32px;\n",
              "    }\n",
              "\n",
              "    .colab-df-convert:hover {\n",
              "      background-color: #E2EBFA;\n",
              "      box-shadow: 0px 1px 2px rgba(60, 64, 67, 0.3), 0px 1px 3px 1px rgba(60, 64, 67, 0.15);\n",
              "      fill: #174EA6;\n",
              "    }\n",
              "\n",
              "    .colab-df-buttons div {\n",
              "      margin-bottom: 4px;\n",
              "    }\n",
              "\n",
              "    [theme=dark] .colab-df-convert {\n",
              "      background-color: #3B4455;\n",
              "      fill: #D2E3FC;\n",
              "    }\n",
              "\n",
              "    [theme=dark] .colab-df-convert:hover {\n",
              "      background-color: #434B5C;\n",
              "      box-shadow: 0px 1px 3px 1px rgba(0, 0, 0, 0.15);\n",
              "      filter: drop-shadow(0px 1px 2px rgba(0, 0, 0, 0.3));\n",
              "      fill: #FFFFFF;\n",
              "    }\n",
              "  </style>\n",
              "\n",
              "    <script>\n",
              "      const buttonEl =\n",
              "        document.querySelector('#df-51d80f66-4438-4354-981b-37b31a0c53fd button.colab-df-convert');\n",
              "      buttonEl.style.display =\n",
              "        google.colab.kernel.accessAllowed ? 'block' : 'none';\n",
              "\n",
              "      async function convertToInteractive(key) {\n",
              "        const element = document.querySelector('#df-51d80f66-4438-4354-981b-37b31a0c53fd');\n",
              "        const dataTable =\n",
              "          await google.colab.kernel.invokeFunction('convertToInteractive',\n",
              "                                                    [key], {});\n",
              "        if (!dataTable) return;\n",
              "\n",
              "        const docLinkHtml = 'Like what you see? Visit the ' +\n",
              "          '<a target=\"_blank\" href=https://colab.research.google.com/notebooks/data_table.ipynb>data table notebook</a>'\n",
              "          + ' to learn more about interactive tables.';\n",
              "        element.innerHTML = '';\n",
              "        dataTable['output_type'] = 'display_data';\n",
              "        await google.colab.output.renderOutput(dataTable, element);\n",
              "        const docLink = document.createElement('div');\n",
              "        docLink.innerHTML = docLinkHtml;\n",
              "        element.appendChild(docLink);\n",
              "      }\n",
              "    </script>\n",
              "  </div>\n",
              "\n",
              "\n",
              "<div id=\"df-30d0d920-6091-48d2-9d4a-b8c788e27d24\">\n",
              "  <button class=\"colab-df-quickchart\" onclick=\"quickchart('df-30d0d920-6091-48d2-9d4a-b8c788e27d24')\"\n",
              "            title=\"Suggest charts\"\n",
              "            style=\"display:none;\">\n",
              "\n",
              "<svg xmlns=\"http://www.w3.org/2000/svg\" height=\"24px\"viewBox=\"0 0 24 24\"\n",
              "     width=\"24px\">\n",
              "    <g>\n",
              "        <path d=\"M19 3H5c-1.1 0-2 .9-2 2v14c0 1.1.9 2 2 2h14c1.1 0 2-.9 2-2V5c0-1.1-.9-2-2-2zM9 17H7v-7h2v7zm4 0h-2V7h2v10zm4 0h-2v-4h2v4z\"/>\n",
              "    </g>\n",
              "</svg>\n",
              "  </button>\n",
              "\n",
              "<style>\n",
              "  .colab-df-quickchart {\n",
              "      --bg-color: #E8F0FE;\n",
              "      --fill-color: #1967D2;\n",
              "      --hover-bg-color: #E2EBFA;\n",
              "      --hover-fill-color: #174EA6;\n",
              "      --disabled-fill-color: #AAA;\n",
              "      --disabled-bg-color: #DDD;\n",
              "  }\n",
              "\n",
              "  [theme=dark] .colab-df-quickchart {\n",
              "      --bg-color: #3B4455;\n",
              "      --fill-color: #D2E3FC;\n",
              "      --hover-bg-color: #434B5C;\n",
              "      --hover-fill-color: #FFFFFF;\n",
              "      --disabled-bg-color: #3B4455;\n",
              "      --disabled-fill-color: #666;\n",
              "  }\n",
              "\n",
              "  .colab-df-quickchart {\n",
              "    background-color: var(--bg-color);\n",
              "    border: none;\n",
              "    border-radius: 50%;\n",
              "    cursor: pointer;\n",
              "    display: none;\n",
              "    fill: var(--fill-color);\n",
              "    height: 32px;\n",
              "    padding: 0;\n",
              "    width: 32px;\n",
              "  }\n",
              "\n",
              "  .colab-df-quickchart:hover {\n",
              "    background-color: var(--hover-bg-color);\n",
              "    box-shadow: 0 1px 2px rgba(60, 64, 67, 0.3), 0 1px 3px 1px rgba(60, 64, 67, 0.15);\n",
              "    fill: var(--button-hover-fill-color);\n",
              "  }\n",
              "\n",
              "  .colab-df-quickchart-complete:disabled,\n",
              "  .colab-df-quickchart-complete:disabled:hover {\n",
              "    background-color: var(--disabled-bg-color);\n",
              "    fill: var(--disabled-fill-color);\n",
              "    box-shadow: none;\n",
              "  }\n",
              "\n",
              "  .colab-df-spinner {\n",
              "    border: 2px solid var(--fill-color);\n",
              "    border-color: transparent;\n",
              "    border-bottom-color: var(--fill-color);\n",
              "    animation:\n",
              "      spin 1s steps(1) infinite;\n",
              "  }\n",
              "\n",
              "  @keyframes spin {\n",
              "    0% {\n",
              "      border-color: transparent;\n",
              "      border-bottom-color: var(--fill-color);\n",
              "      border-left-color: var(--fill-color);\n",
              "    }\n",
              "    20% {\n",
              "      border-color: transparent;\n",
              "      border-left-color: var(--fill-color);\n",
              "      border-top-color: var(--fill-color);\n",
              "    }\n",
              "    30% {\n",
              "      border-color: transparent;\n",
              "      border-left-color: var(--fill-color);\n",
              "      border-top-color: var(--fill-color);\n",
              "      border-right-color: var(--fill-color);\n",
              "    }\n",
              "    40% {\n",
              "      border-color: transparent;\n",
              "      border-right-color: var(--fill-color);\n",
              "      border-top-color: var(--fill-color);\n",
              "    }\n",
              "    60% {\n",
              "      border-color: transparent;\n",
              "      border-right-color: var(--fill-color);\n",
              "    }\n",
              "    80% {\n",
              "      border-color: transparent;\n",
              "      border-right-color: var(--fill-color);\n",
              "      border-bottom-color: var(--fill-color);\n",
              "    }\n",
              "    90% {\n",
              "      border-color: transparent;\n",
              "      border-bottom-color: var(--fill-color);\n",
              "    }\n",
              "  }\n",
              "</style>\n",
              "\n",
              "  <script>\n",
              "    async function quickchart(key) {\n",
              "      const quickchartButtonEl =\n",
              "        document.querySelector('#' + key + ' button');\n",
              "      quickchartButtonEl.disabled = true;  // To prevent multiple clicks.\n",
              "      quickchartButtonEl.classList.add('colab-df-spinner');\n",
              "      try {\n",
              "        const charts = await google.colab.kernel.invokeFunction(\n",
              "            'suggestCharts', [key], {});\n",
              "      } catch (error) {\n",
              "        console.error('Error during call to suggestCharts:', error);\n",
              "      }\n",
              "      quickchartButtonEl.classList.remove('colab-df-spinner');\n",
              "      quickchartButtonEl.classList.add('colab-df-quickchart-complete');\n",
              "    }\n",
              "    (() => {\n",
              "      let quickchartButtonEl =\n",
              "        document.querySelector('#df-30d0d920-6091-48d2-9d4a-b8c788e27d24 button');\n",
              "      quickchartButtonEl.style.display =\n",
              "        google.colab.kernel.accessAllowed ? 'block' : 'none';\n",
              "    })();\n",
              "  </script>\n",
              "</div>\n",
              "\n",
              "    </div>\n",
              "  </div>\n"
            ],
            "application/vnd.google.colaboratory.intrinsic+json": {
              "type": "dataframe",
              "summary": "{\n  \"name\": \"basedatos\",\n  \"rows\": 8,\n  \"fields\": [\n    {\n      \"column\": \"YEAR\",\n      \"properties\": {\n        \"dtype\": \"number\",\n        \"std\": 871.9203359442242,\n        \"min\": 78.0,\n        \"max\": 1981.0,\n        \"num_unique_values\": 7,\n        \"samples\": [\n          271.0,\n          1495.5645756457563,\n          1978.0\n        ],\n        \"semantic_type\": \"\",\n        \"description\": \"\"\n      }\n    },\n    {\n      \"column\": \"AGE\",\n      \"properties\": {\n        \"dtype\": \"number\",\n        \"std\": 92.17445713265785,\n        \"min\": 0.0,\n        \"max\": 271.0,\n        \"num_unique_values\": 7,\n        \"samples\": [\n          271.0,\n          15.874538745387454,\n          22.0\n        ],\n        \"semantic_type\": \"\",\n        \"description\": \"\"\n      }\n    },\n    {\n      \"column\": \"DISTANCE_BUS\",\n      \"properties\": {\n        \"dtype\": \"number\",\n        \"std\": 11536.817503731814,\n        \"min\": 271.0,\n        \"max\": 35000.0,\n        \"num_unique_values\": 8,\n        \"samples\": [\n          15830.258302583026,\n          15000.0,\n          271.0\n        ],\n        \"semantic_type\": \"\",\n        \"description\": \"\"\n      }\n    },\n    {\n      \"column\": \"DISTANCE_INTERSTATE\",\n      \"properties\": {\n        \"dtype\": \"number\",\n        \"std\": 11502.301540984236,\n        \"min\": 271.0,\n        \"max\": 34000.0,\n        \"num_unique_values\": 8,\n        \"samples\": [\n          16453.87453874539,\n          16000.0,\n          271.0\n        ],\n        \"semantic_type\": \"\",\n        \"description\": \"\"\n      }\n    },\n    {\n      \"column\": \"PRICE\",\n      \"properties\": {\n        \"dtype\": \"number\",\n        \"std\": 92155.43179214261,\n        \"min\": 271.0,\n        \"max\": 300000.0,\n        \"num_unique_values\": 8,\n        \"samples\": [\n          95369.67896678967,\n          85500.0,\n          271.0\n        ],\n        \"semantic_type\": \"\",\n        \"description\": \"\"\n      }\n    },\n    {\n      \"column\": \"ROOMS\",\n      \"properties\": {\n        \"dtype\": \"number\",\n        \"std\": 93.75260726423028,\n        \"min\": 0.9212685931320683,\n        \"max\": 271.0,\n        \"num_unique_values\": 7,\n        \"samples\": [\n          271.0,\n          6.597785977859779,\n          7.0\n        ],\n        \"semantic_type\": \"\",\n        \"description\": \"\"\n      }\n    },\n    {\n      \"column\": \"AREA\",\n      \"properties\": {\n        \"dtype\": \"number\",\n        \"std\": 1519.1742219144808,\n        \"min\": 271.0,\n        \"max\": 5136.0,\n        \"num_unique_values\": 8,\n        \"samples\": [\n          2124.2066420664205,\n          2052.0,\n          271.0\n        ],\n        \"semantic_type\": \"\",\n        \"description\": \"\"\n      }\n    },\n    {\n      \"column\": \"LAND\",\n      \"properties\": {\n        \"dtype\": \"number\",\n        \"std\": 183997.03195939248,\n        \"min\": 271.0,\n        \"max\": 544500.0,\n        \"num_unique_values\": 8,\n        \"samples\": [\n          39520.90036900369,\n          43560.0,\n          271.0\n        ],\n        \"semantic_type\": \"\",\n        \"description\": \"\"\n      }\n    },\n    {\n      \"column\": \"BATHS\",\n      \"properties\": {\n        \"dtype\": \"number\",\n        \"std\": 95.05587676673898,\n        \"min\": 0.7578841669745926,\n        \"max\": 271.0,\n        \"num_unique_values\": 7,\n        \"samples\": [\n          271.0,\n          2.3431734317343174,\n          3.0\n        ],\n        \"semantic_type\": \"\",\n        \"description\": \"\"\n      }\n    }\n  ]\n}"
            }
          },
          "metadata": {},
          "execution_count": 17
        }
      ]
    },
    {
      "cell_type": "code",
      "source": [
        "basedatos['YEAR'].unique()"
      ],
      "metadata": {
        "colab": {
          "base_uri": "https://localhost:8080/"
        },
        "id": "OXlCNvRyNQya",
        "outputId": "889d874f-3c11-49bb-8afd-39cc0af07b19"
      },
      "execution_count": 55,
      "outputs": [
        {
          "output_type": "execute_result",
          "data": {
            "text/plain": [
              "array([1978, 1981,   81,   78])"
            ]
          },
          "metadata": {},
          "execution_count": 55
        }
      ]
    },
    {
      "cell_type": "code",
      "source": [
        "años = np.where(basedatos['YEAR'] < 100, 1900 + basedatos['YEAR'], basedatos['YEAR'])\n",
        "\n",
        "basedatos['YEAR'] = años"
      ],
      "metadata": {
        "id": "V-h_TT9BT6il"
      },
      "execution_count": 63,
      "outputs": []
    },
    {
      "cell_type": "code",
      "source": [
        "basedatos['YEAR'].unique()"
      ],
      "metadata": {
        "colab": {
          "base_uri": "https://localhost:8080/"
        },
        "id": "vqn-P0ytUem0",
        "outputId": "21920940-11b7-428d-ec1a-0edee2107aef"
      },
      "execution_count": 64,
      "outputs": [
        {
          "output_type": "execute_result",
          "data": {
            "text/plain": [
              "array([1978, 1981])"
            ]
          },
          "metadata": {},
          "execution_count": 64
        }
      ]
    },
    {
      "cell_type": "code",
      "source": [
        "basedatos['AGE'].unique()"
      ],
      "metadata": {
        "colab": {
          "base_uri": "https://localhost:8080/"
        },
        "id": "KXtqOIOfNkPz",
        "outputId": "a35d8019-d380-4248-8262-a2a3b015fb76"
      },
      "execution_count": 66,
      "outputs": [
        {
          "output_type": "execute_result",
          "data": {
            "text/plain": [
              "array([ 1,  7, 31,  0,  8, 20, 19, 28, 68, 11, 17,  4, 10, 41,  9, 12, 21,\n",
              "       25, 56, 80,  2,  3, 26, 70, 58, 78, 15, 13, 39, 23, 38, 22,  6, 48,\n",
              "       51, 18,  5, 30, 14, 42, 36, 59, 71, 65, 32, 29])"
            ]
          },
          "metadata": {},
          "execution_count": 66
        }
      ]
    },
    {
      "cell_type": "code",
      "source": [
        "basedatos['DISTANCE_BUS'].unique()"
      ],
      "metadata": {
        "colab": {
          "base_uri": "https://localhost:8080/"
        },
        "id": "3EFOls2KPLsB",
        "outputId": "8f03bfb3-e95a-45d4-c8be-ad31c99203a7"
      },
      "execution_count": 67,
      "outputs": [
        {
          "output_type": "execute_result",
          "data": {
            "text/plain": [
              "array([30000, 22000,  3000, 10000, 25000, 17000, 21000,  7000,  5000,\n",
              "       14000, 23000, 15000,  4000, 11000, 27000, 24000,  2000, 12000,\n",
              "       16000, 31000,  9000, 26000, 18000, 19000,  6000,  8000, 29000,\n",
              "       20000, 13000, 32000, 28000, 33000,  1000, 35000])"
            ]
          },
          "metadata": {},
          "execution_count": 67
        }
      ]
    },
    {
      "cell_type": "code",
      "source": [
        "basedatos['DISTANCE_INTERSTATE'].unique()"
      ],
      "metadata": {
        "colab": {
          "base_uri": "https://localhost:8080/"
        },
        "id": "_zZ7Qy-FPey0",
        "outputId": "40344a3e-64bb-4d75-f20e-3f5294b11ecc"
      },
      "execution_count": 68,
      "outputs": [
        {
          "output_type": "execute_result",
          "data": {
            "text/plain": [
              "array([30000, 22000,  2000, 13000, 25000, 17000, 21000,  7000, 24000,\n",
              "        4000,  6000, 15000, 23000, 10000, 28000, 26000, 16000, 31000,\n",
              "        5000,  1000, 12000, 19000, 32000,  3000, 14000,  9000,  8000,\n",
              "       18000, 20000, 11000, 29000, 33000, 34000, 27000])"
            ]
          },
          "metadata": {},
          "execution_count": 68
        }
      ]
    },
    {
      "cell_type": "code",
      "source": [
        "basedatos['PRICE'].unique()"
      ],
      "metadata": {
        "colab": {
          "base_uri": "https://localhost:8080/"
        },
        "id": "vMJYV23SPhTu",
        "outputId": "0309a84d-e6fe-4a19-dafc-79c397986363"
      },
      "execution_count": 74,
      "outputs": [
        {
          "output_type": "execute_result",
          "data": {
            "text/plain": [
              "array([ 75900, 140000,  68000, 216000, 125000,  95920,  85000,  86000,\n",
              "       119600,  73900,  53000,  49000,  84211, 153000,  65000, 110000,\n",
              "        91000, 143500,  73000, 135900, 194000, 100000,  54000, 120000,\n",
              "       130500,  61000,  71500,  40000, 189857,  32000, 113500, 109900,\n",
              "        85500, 148000,  59000,  34000,  66479,  48000,  46000,  75000,\n",
              "        44900,  77500,  96900,  83000, 145000,  79900, 103900, 169000,\n",
              "        62500, 107900,  47000,  89912, 142000,  80000,  56900,  75500,\n",
              "        90000, 121000,  53500,  94900, 160000,  96750,  64000,  70400,\n",
              "        79000,  77000,  84900,  36000,  62000, 150000,  43500, 131500,\n",
              "        52900, 115000,  95900, 128000,  87000,  66900,  76900, 130000,\n",
              "       141000,  37500,  97000,  98000, 124500, 129900, 123000,  63900,\n",
              "       118000, 167950, 135000, 117500,  61900, 204080, 106000,  97900,\n",
              "       117000,  46500, 162000,  94376,  63400,  63000,  90500,  74000,\n",
              "       106500,  89500,  82000,  72900, 132000,  90400, 119900, 133500,\n",
              "        78400,  72500,  60000, 175000,  95000, 109500, 180000, 156500,\n",
              "        70500,  60500,  94000,  68500,  87500, 102000,  67000,  93000,\n",
              "       155500, 155000,  66500,  49500,  50000,  44000,  62400,  74500,\n",
              "        83900, 105000,  85900, 185000, 101100,  41000,  80900,  92900,\n",
              "        38500,  88000, 172267, 168000, 144500,  70000,  56000,  52000,\n",
              "       300000,  50900,  31000, 143000, 182095,  66100, 177755, 156900,\n",
              "       220000,  83500,  66000,  67500, 173500,  84300,  55000,  79500,\n",
              "       234552,  57000, 169900, 158000,  64900,  58000])"
            ]
          },
          "metadata": {},
          "execution_count": 74
        }
      ]
    },
    {
      "cell_type": "code",
      "source": [
        "basedatos['ROOMS'].unique()"
      ],
      "metadata": {
        "colab": {
          "base_uri": "https://localhost:8080/"
        },
        "id": "jJcgo2Q6PiNj",
        "outputId": "af5ad95c-7c5b-4b74-aa18-ae49f2091ec3"
      },
      "execution_count": 70,
      "outputs": [
        {
          "output_type": "execute_result",
          "data": {
            "text/plain": [
              "array([ 7,  6,  8,  5,  9, 10,  4])"
            ]
          },
          "metadata": {},
          "execution_count": 70
        }
      ]
    },
    {
      "cell_type": "code",
      "source": [
        "basedatos['AREA'].unique()"
      ],
      "metadata": {
        "colab": {
          "base_uri": "https://localhost:8080/"
        },
        "id": "FUxSTBX4Pi8e",
        "outputId": "66b02eb7-e7cf-4713-bdff-3bc93060ef6a"
      },
      "execution_count": 73,
      "outputs": [
        {
          "output_type": "execute_result",
          "data": {
            "text/plain": [
              "array([1836, 1800, 3304, 2548, 2208, 2464, 2004, 1425, 2701, 1592, 1875,\n",
              "       2756, 2656, 2727, 2204, 2263, 2144, 1390, 2377, 3170, 2252, 1700,\n",
              "       3030, 2330, 2106, 1928,  912, 1867, 1554, 3396, 2112, 2171, 2000,\n",
              "       1855, 2632, 2544, 2736, 2458, 1144, 1104, 1038, 1261, 1537, 1780,\n",
              "        960, 1998, 2952, 2574, 1182, 1570, 2569, 1540, 1910, 1978, 3292,\n",
              "       3460, 1456, 2576, 3726, 3861, 1838, 1684, 2032, 1344, 1728, 1820,\n",
              "       2052, 2510, 1333, 2384, 3152, 2738, 2092, 1242, 1764, 1342, 1792,\n",
              "       5136, 1360, 2082, 2071, 1318, 2528, 2612, 3132, 1490, 2598, 1716,\n",
              "       1199, 1848, 2450, 1920, 1750, 2644, 1080, 2920, 1464, 2346, 2136,\n",
              "       3792, 3398, 2056, 2872, 1136, 1991, 2472, 1476, 2016, 1411, 2794,\n",
              "       2261, 2502, 1633, 2836, 1226, 1296, 3232, 2800, 1357, 1587, 2878,\n",
              "       1235, 2240, 1964, 2080, 2796, 2650, 2258, 1421, 1731, 2648, 1862,\n",
              "       1482, 1388, 3055, 2238, 4056, 2780, 2744, 1232, 1148, 1842, 1560,\n",
              "       1642, 2290, 1377, 3256, 3798,  990,  970, 2514, 2610, 2688, 1166,\n",
              "       1100, 2248, 1399, 1536, 1869, 2036, 2364, 1818, 1962, 2400, 2089,\n",
              "       2996, 1660, 2276, 1531, 5078, 1924, 1197, 2856, 1746,  936, 2370,\n",
              "       1556, 2327, 2826, 2486, 3140, 1830, 1454, 2352, 1575, 3770,  930,\n",
              "       2128, 1215,  925, 1868, 1274, 1566, 3074, 1760, 3040, 1290, 2038,\n",
              "       1844, 1358, 2900, 2104, 1443, 2216, 3252, 1320, 1410, 2436, 2832,\n",
              "       2627, 1140, 1356])"
            ]
          },
          "metadata": {},
          "execution_count": 73
        }
      ]
    },
    {
      "cell_type": "code",
      "source": [
        "basedatos['LAND'].unique()"
      ],
      "metadata": {
        "colab": {
          "base_uri": "https://localhost:8080/"
        },
        "id": "H5Tnnfj_XJ1Q",
        "outputId": "6a8f2260-1a67-4244-f656-8b80f286b260"
      },
      "execution_count": 75,
      "outputs": [
        {
          "output_type": "execute_result",
          "data": {
            "text/plain": [
              "array([ 45738,  44867,  18731,  46174,  48269,  44080,  19550,  48787,\n",
              "        13068,  12700,   9790,  27205,  43996,  45302,  10019,  12806,\n",
              "        46100,  43560,  44000,   7500,  47916,  43995,  13030,  13370,\n",
              "       157252,  12005,   5000,   6790,  31412,  12500,  44064,  43569,\n",
              "        50965,  64904,  26726,   9400,  15512,  15431,  10000,  48352,\n",
              "         9500,  51690, 147668,  41463,  44247,   8790,  20909,  35121,\n",
              "        11421,  18215,  12568,  43935,  35284,  51062,   9249,  81273,\n",
              "        10993,  78408,  31915,  11883,  51835,  47045,  23087,  86249,\n",
              "         8500,  43561,  45106,  43910,  43958,   9665,  20550,  44431,\n",
              "         8370,  26136,  45500,  54450,  46300,  50808,  44260,  12516,\n",
              "        52272,  29129,  35942,  63260,  65340, 104544,  12632,  52708,\n",
              "        34879,  15664,  44900,  15246,  45465,  34666,  17728,  46609,\n",
              "        37046,  32255,  94961,  25380,  69260,  54014,   5957,  95832,\n",
              "        25182,  25000,  43757,  21120,  14810,  53000,  25265,  25690,\n",
              "        69465,  59790,  77101,  31215,  30945,  45000,  44182,  29130,\n",
              "        44864,   7000,  25250,  12877,  50045,   1710,  11104,  28688,\n",
              "         9770,  38768,  49829,  10491,  51836,  55321,  67954,  56392,\n",
              "        44465,  16935,   4578,   3049, 132422,  29955,  13504,   8276,\n",
              "        49737,   3870,  35538,  46598,  30808,  31059,  13939,   5500,\n",
              "        26890,  10878,   3485, 282704,   8185,  44174,   4585,   7858,\n",
              "        10938,  49223,  25159,  32670,  46600,  45973,  43908,  29621,\n",
              "        12538,  30894,  42688,  92783,  44775,  68689,   7950,  29671,\n",
              "        64033,   4500,  29226,  46422,  13945, 544500])"
            ]
          },
          "metadata": {},
          "execution_count": 75
        }
      ]
    },
    {
      "cell_type": "code",
      "source": [
        "basedatos['BATHS'].unique()"
      ],
      "metadata": {
        "colab": {
          "base_uri": "https://localhost:8080/"
        },
        "id": "4T7FvQZLXLhw",
        "outputId": "53ed6bc1-a0fb-415d-dcff-7656a8137419"
      },
      "execution_count": 76,
      "outputs": [
        {
          "output_type": "execute_result",
          "data": {
            "text/plain": [
              "array([2, 3, 1, 4])"
            ]
          },
          "metadata": {},
          "execution_count": 76
        }
      ]
    },
    {
      "cell_type": "code",
      "source": [
        "basedatos"
      ],
      "metadata": {
        "colab": {
          "base_uri": "https://localhost:8080/",
          "height": 424
        },
        "id": "dq5TMJYXQOsk",
        "outputId": "9a52c6c6-6d6a-4de4-eb3a-f2d3761a7f82"
      },
      "execution_count": 77,
      "outputs": [
        {
          "output_type": "execute_result",
          "data": {
            "text/plain": [
              "     YEAR  AGE  DISTANCE_BUS  DISTANCE_INTERSTATE   PRICE  ROOMS  AREA  \\\n",
              "0    1978    1         30000                30000   75900      7  1836   \n",
              "1    1981    7         22000                22000  140000      6  1800   \n",
              "2    1981   31          3000                 2000   68000      6  3304   \n",
              "3    1981    0         10000                13000  216000      7  2548   \n",
              "4    1981    0         25000                25000  125000      7  2208   \n",
              "..    ...  ...           ...                  ...     ...    ...   ...   \n",
              "266  1981    2         20000                20000  158000      7  2627   \n",
              "267  1981   51          2000                 5000   50000      5  1140   \n",
              "268  1981    1         22000                24000  162000      7  2656   \n",
              "269  1978    3         12000                12000   64900      7  2856   \n",
              "270  1978   26         20000                22000   58000      6  1356   \n",
              "\n",
              "       LAND  BATHS  \n",
              "0     45738      2  \n",
              "1     44867      3  \n",
              "2     18731      2  \n",
              "3     46174      3  \n",
              "4     45738      3  \n",
              "..      ...    ...  \n",
              "266   43560      3  \n",
              "267   13945      1  \n",
              "268   45302      3  \n",
              "269   29955      2  \n",
              "270  544500      2  \n",
              "\n",
              "[271 rows x 9 columns]"
            ],
            "text/html": [
              "\n",
              "  <div id=\"df-71aec426-2386-4b47-bab5-13b7193a5192\" class=\"colab-df-container\">\n",
              "    <div>\n",
              "<style scoped>\n",
              "    .dataframe tbody tr th:only-of-type {\n",
              "        vertical-align: middle;\n",
              "    }\n",
              "\n",
              "    .dataframe tbody tr th {\n",
              "        vertical-align: top;\n",
              "    }\n",
              "\n",
              "    .dataframe thead th {\n",
              "        text-align: right;\n",
              "    }\n",
              "</style>\n",
              "<table border=\"1\" class=\"dataframe\">\n",
              "  <thead>\n",
              "    <tr style=\"text-align: right;\">\n",
              "      <th></th>\n",
              "      <th>YEAR</th>\n",
              "      <th>AGE</th>\n",
              "      <th>DISTANCE_BUS</th>\n",
              "      <th>DISTANCE_INTERSTATE</th>\n",
              "      <th>PRICE</th>\n",
              "      <th>ROOMS</th>\n",
              "      <th>AREA</th>\n",
              "      <th>LAND</th>\n",
              "      <th>BATHS</th>\n",
              "    </tr>\n",
              "  </thead>\n",
              "  <tbody>\n",
              "    <tr>\n",
              "      <th>0</th>\n",
              "      <td>1978</td>\n",
              "      <td>1</td>\n",
              "      <td>30000</td>\n",
              "      <td>30000</td>\n",
              "      <td>75900</td>\n",
              "      <td>7</td>\n",
              "      <td>1836</td>\n",
              "      <td>45738</td>\n",
              "      <td>2</td>\n",
              "    </tr>\n",
              "    <tr>\n",
              "      <th>1</th>\n",
              "      <td>1981</td>\n",
              "      <td>7</td>\n",
              "      <td>22000</td>\n",
              "      <td>22000</td>\n",
              "      <td>140000</td>\n",
              "      <td>6</td>\n",
              "      <td>1800</td>\n",
              "      <td>44867</td>\n",
              "      <td>3</td>\n",
              "    </tr>\n",
              "    <tr>\n",
              "      <th>2</th>\n",
              "      <td>1981</td>\n",
              "      <td>31</td>\n",
              "      <td>3000</td>\n",
              "      <td>2000</td>\n",
              "      <td>68000</td>\n",
              "      <td>6</td>\n",
              "      <td>3304</td>\n",
              "      <td>18731</td>\n",
              "      <td>2</td>\n",
              "    </tr>\n",
              "    <tr>\n",
              "      <th>3</th>\n",
              "      <td>1981</td>\n",
              "      <td>0</td>\n",
              "      <td>10000</td>\n",
              "      <td>13000</td>\n",
              "      <td>216000</td>\n",
              "      <td>7</td>\n",
              "      <td>2548</td>\n",
              "      <td>46174</td>\n",
              "      <td>3</td>\n",
              "    </tr>\n",
              "    <tr>\n",
              "      <th>4</th>\n",
              "      <td>1981</td>\n",
              "      <td>0</td>\n",
              "      <td>25000</td>\n",
              "      <td>25000</td>\n",
              "      <td>125000</td>\n",
              "      <td>7</td>\n",
              "      <td>2208</td>\n",
              "      <td>45738</td>\n",
              "      <td>3</td>\n",
              "    </tr>\n",
              "    <tr>\n",
              "      <th>...</th>\n",
              "      <td>...</td>\n",
              "      <td>...</td>\n",
              "      <td>...</td>\n",
              "      <td>...</td>\n",
              "      <td>...</td>\n",
              "      <td>...</td>\n",
              "      <td>...</td>\n",
              "      <td>...</td>\n",
              "      <td>...</td>\n",
              "    </tr>\n",
              "    <tr>\n",
              "      <th>266</th>\n",
              "      <td>1981</td>\n",
              "      <td>2</td>\n",
              "      <td>20000</td>\n",
              "      <td>20000</td>\n",
              "      <td>158000</td>\n",
              "      <td>7</td>\n",
              "      <td>2627</td>\n",
              "      <td>43560</td>\n",
              "      <td>3</td>\n",
              "    </tr>\n",
              "    <tr>\n",
              "      <th>267</th>\n",
              "      <td>1981</td>\n",
              "      <td>51</td>\n",
              "      <td>2000</td>\n",
              "      <td>5000</td>\n",
              "      <td>50000</td>\n",
              "      <td>5</td>\n",
              "      <td>1140</td>\n",
              "      <td>13945</td>\n",
              "      <td>1</td>\n",
              "    </tr>\n",
              "    <tr>\n",
              "      <th>268</th>\n",
              "      <td>1981</td>\n",
              "      <td>1</td>\n",
              "      <td>22000</td>\n",
              "      <td>24000</td>\n",
              "      <td>162000</td>\n",
              "      <td>7</td>\n",
              "      <td>2656</td>\n",
              "      <td>45302</td>\n",
              "      <td>3</td>\n",
              "    </tr>\n",
              "    <tr>\n",
              "      <th>269</th>\n",
              "      <td>1978</td>\n",
              "      <td>3</td>\n",
              "      <td>12000</td>\n",
              "      <td>12000</td>\n",
              "      <td>64900</td>\n",
              "      <td>7</td>\n",
              "      <td>2856</td>\n",
              "      <td>29955</td>\n",
              "      <td>2</td>\n",
              "    </tr>\n",
              "    <tr>\n",
              "      <th>270</th>\n",
              "      <td>1978</td>\n",
              "      <td>26</td>\n",
              "      <td>20000</td>\n",
              "      <td>22000</td>\n",
              "      <td>58000</td>\n",
              "      <td>6</td>\n",
              "      <td>1356</td>\n",
              "      <td>544500</td>\n",
              "      <td>2</td>\n",
              "    </tr>\n",
              "  </tbody>\n",
              "</table>\n",
              "<p>271 rows × 9 columns</p>\n",
              "</div>\n",
              "    <div class=\"colab-df-buttons\">\n",
              "\n",
              "  <div class=\"colab-df-container\">\n",
              "    <button class=\"colab-df-convert\" onclick=\"convertToInteractive('df-71aec426-2386-4b47-bab5-13b7193a5192')\"\n",
              "            title=\"Convert this dataframe to an interactive table.\"\n",
              "            style=\"display:none;\">\n",
              "\n",
              "  <svg xmlns=\"http://www.w3.org/2000/svg\" height=\"24px\" viewBox=\"0 -960 960 960\">\n",
              "    <path d=\"M120-120v-720h720v720H120Zm60-500h600v-160H180v160Zm220 220h160v-160H400v160Zm0 220h160v-160H400v160ZM180-400h160v-160H180v160Zm440 0h160v-160H620v160ZM180-180h160v-160H180v160Zm440 0h160v-160H620v160Z\"/>\n",
              "  </svg>\n",
              "    </button>\n",
              "\n",
              "  <style>\n",
              "    .colab-df-container {\n",
              "      display:flex;\n",
              "      gap: 12px;\n",
              "    }\n",
              "\n",
              "    .colab-df-convert {\n",
              "      background-color: #E8F0FE;\n",
              "      border: none;\n",
              "      border-radius: 50%;\n",
              "      cursor: pointer;\n",
              "      display: none;\n",
              "      fill: #1967D2;\n",
              "      height: 32px;\n",
              "      padding: 0 0 0 0;\n",
              "      width: 32px;\n",
              "    }\n",
              "\n",
              "    .colab-df-convert:hover {\n",
              "      background-color: #E2EBFA;\n",
              "      box-shadow: 0px 1px 2px rgba(60, 64, 67, 0.3), 0px 1px 3px 1px rgba(60, 64, 67, 0.15);\n",
              "      fill: #174EA6;\n",
              "    }\n",
              "\n",
              "    .colab-df-buttons div {\n",
              "      margin-bottom: 4px;\n",
              "    }\n",
              "\n",
              "    [theme=dark] .colab-df-convert {\n",
              "      background-color: #3B4455;\n",
              "      fill: #D2E3FC;\n",
              "    }\n",
              "\n",
              "    [theme=dark] .colab-df-convert:hover {\n",
              "      background-color: #434B5C;\n",
              "      box-shadow: 0px 1px 3px 1px rgba(0, 0, 0, 0.15);\n",
              "      filter: drop-shadow(0px 1px 2px rgba(0, 0, 0, 0.3));\n",
              "      fill: #FFFFFF;\n",
              "    }\n",
              "  </style>\n",
              "\n",
              "    <script>\n",
              "      const buttonEl =\n",
              "        document.querySelector('#df-71aec426-2386-4b47-bab5-13b7193a5192 button.colab-df-convert');\n",
              "      buttonEl.style.display =\n",
              "        google.colab.kernel.accessAllowed ? 'block' : 'none';\n",
              "\n",
              "      async function convertToInteractive(key) {\n",
              "        const element = document.querySelector('#df-71aec426-2386-4b47-bab5-13b7193a5192');\n",
              "        const dataTable =\n",
              "          await google.colab.kernel.invokeFunction('convertToInteractive',\n",
              "                                                    [key], {});\n",
              "        if (!dataTable) return;\n",
              "\n",
              "        const docLinkHtml = 'Like what you see? Visit the ' +\n",
              "          '<a target=\"_blank\" href=https://colab.research.google.com/notebooks/data_table.ipynb>data table notebook</a>'\n",
              "          + ' to learn more about interactive tables.';\n",
              "        element.innerHTML = '';\n",
              "        dataTable['output_type'] = 'display_data';\n",
              "        await google.colab.output.renderOutput(dataTable, element);\n",
              "        const docLink = document.createElement('div');\n",
              "        docLink.innerHTML = docLinkHtml;\n",
              "        element.appendChild(docLink);\n",
              "      }\n",
              "    </script>\n",
              "  </div>\n",
              "\n",
              "\n",
              "<div id=\"df-cece8237-fa89-4d69-9ce6-5a1537baa4f5\">\n",
              "  <button class=\"colab-df-quickchart\" onclick=\"quickchart('df-cece8237-fa89-4d69-9ce6-5a1537baa4f5')\"\n",
              "            title=\"Suggest charts\"\n",
              "            style=\"display:none;\">\n",
              "\n",
              "<svg xmlns=\"http://www.w3.org/2000/svg\" height=\"24px\"viewBox=\"0 0 24 24\"\n",
              "     width=\"24px\">\n",
              "    <g>\n",
              "        <path d=\"M19 3H5c-1.1 0-2 .9-2 2v14c0 1.1.9 2 2 2h14c1.1 0 2-.9 2-2V5c0-1.1-.9-2-2-2zM9 17H7v-7h2v7zm4 0h-2V7h2v10zm4 0h-2v-4h2v4z\"/>\n",
              "    </g>\n",
              "</svg>\n",
              "  </button>\n",
              "\n",
              "<style>\n",
              "  .colab-df-quickchart {\n",
              "      --bg-color: #E8F0FE;\n",
              "      --fill-color: #1967D2;\n",
              "      --hover-bg-color: #E2EBFA;\n",
              "      --hover-fill-color: #174EA6;\n",
              "      --disabled-fill-color: #AAA;\n",
              "      --disabled-bg-color: #DDD;\n",
              "  }\n",
              "\n",
              "  [theme=dark] .colab-df-quickchart {\n",
              "      --bg-color: #3B4455;\n",
              "      --fill-color: #D2E3FC;\n",
              "      --hover-bg-color: #434B5C;\n",
              "      --hover-fill-color: #FFFFFF;\n",
              "      --disabled-bg-color: #3B4455;\n",
              "      --disabled-fill-color: #666;\n",
              "  }\n",
              "\n",
              "  .colab-df-quickchart {\n",
              "    background-color: var(--bg-color);\n",
              "    border: none;\n",
              "    border-radius: 50%;\n",
              "    cursor: pointer;\n",
              "    display: none;\n",
              "    fill: var(--fill-color);\n",
              "    height: 32px;\n",
              "    padding: 0;\n",
              "    width: 32px;\n",
              "  }\n",
              "\n",
              "  .colab-df-quickchart:hover {\n",
              "    background-color: var(--hover-bg-color);\n",
              "    box-shadow: 0 1px 2px rgba(60, 64, 67, 0.3), 0 1px 3px 1px rgba(60, 64, 67, 0.15);\n",
              "    fill: var(--button-hover-fill-color);\n",
              "  }\n",
              "\n",
              "  .colab-df-quickchart-complete:disabled,\n",
              "  .colab-df-quickchart-complete:disabled:hover {\n",
              "    background-color: var(--disabled-bg-color);\n",
              "    fill: var(--disabled-fill-color);\n",
              "    box-shadow: none;\n",
              "  }\n",
              "\n",
              "  .colab-df-spinner {\n",
              "    border: 2px solid var(--fill-color);\n",
              "    border-color: transparent;\n",
              "    border-bottom-color: var(--fill-color);\n",
              "    animation:\n",
              "      spin 1s steps(1) infinite;\n",
              "  }\n",
              "\n",
              "  @keyframes spin {\n",
              "    0% {\n",
              "      border-color: transparent;\n",
              "      border-bottom-color: var(--fill-color);\n",
              "      border-left-color: var(--fill-color);\n",
              "    }\n",
              "    20% {\n",
              "      border-color: transparent;\n",
              "      border-left-color: var(--fill-color);\n",
              "      border-top-color: var(--fill-color);\n",
              "    }\n",
              "    30% {\n",
              "      border-color: transparent;\n",
              "      border-left-color: var(--fill-color);\n",
              "      border-top-color: var(--fill-color);\n",
              "      border-right-color: var(--fill-color);\n",
              "    }\n",
              "    40% {\n",
              "      border-color: transparent;\n",
              "      border-right-color: var(--fill-color);\n",
              "      border-top-color: var(--fill-color);\n",
              "    }\n",
              "    60% {\n",
              "      border-color: transparent;\n",
              "      border-right-color: var(--fill-color);\n",
              "    }\n",
              "    80% {\n",
              "      border-color: transparent;\n",
              "      border-right-color: var(--fill-color);\n",
              "      border-bottom-color: var(--fill-color);\n",
              "    }\n",
              "    90% {\n",
              "      border-color: transparent;\n",
              "      border-bottom-color: var(--fill-color);\n",
              "    }\n",
              "  }\n",
              "</style>\n",
              "\n",
              "  <script>\n",
              "    async function quickchart(key) {\n",
              "      const quickchartButtonEl =\n",
              "        document.querySelector('#' + key + ' button');\n",
              "      quickchartButtonEl.disabled = true;  // To prevent multiple clicks.\n",
              "      quickchartButtonEl.classList.add('colab-df-spinner');\n",
              "      try {\n",
              "        const charts = await google.colab.kernel.invokeFunction(\n",
              "            'suggestCharts', [key], {});\n",
              "      } catch (error) {\n",
              "        console.error('Error during call to suggestCharts:', error);\n",
              "      }\n",
              "      quickchartButtonEl.classList.remove('colab-df-spinner');\n",
              "      quickchartButtonEl.classList.add('colab-df-quickchart-complete');\n",
              "    }\n",
              "    (() => {\n",
              "      let quickchartButtonEl =\n",
              "        document.querySelector('#df-cece8237-fa89-4d69-9ce6-5a1537baa4f5 button');\n",
              "      quickchartButtonEl.style.display =\n",
              "        google.colab.kernel.accessAllowed ? 'block' : 'none';\n",
              "    })();\n",
              "  </script>\n",
              "</div>\n",
              "\n",
              "  <div id=\"id_e9092953-58c7-4b94-815e-25a5bfc07786\">\n",
              "    <style>\n",
              "      .colab-df-generate {\n",
              "        background-color: #E8F0FE;\n",
              "        border: none;\n",
              "        border-radius: 50%;\n",
              "        cursor: pointer;\n",
              "        display: none;\n",
              "        fill: #1967D2;\n",
              "        height: 32px;\n",
              "        padding: 0 0 0 0;\n",
              "        width: 32px;\n",
              "      }\n",
              "\n",
              "      .colab-df-generate:hover {\n",
              "        background-color: #E2EBFA;\n",
              "        box-shadow: 0px 1px 2px rgba(60, 64, 67, 0.3), 0px 1px 3px 1px rgba(60, 64, 67, 0.15);\n",
              "        fill: #174EA6;\n",
              "      }\n",
              "\n",
              "      [theme=dark] .colab-df-generate {\n",
              "        background-color: #3B4455;\n",
              "        fill: #D2E3FC;\n",
              "      }\n",
              "\n",
              "      [theme=dark] .colab-df-generate:hover {\n",
              "        background-color: #434B5C;\n",
              "        box-shadow: 0px 1px 3px 1px rgba(0, 0, 0, 0.15);\n",
              "        filter: drop-shadow(0px 1px 2px rgba(0, 0, 0, 0.3));\n",
              "        fill: #FFFFFF;\n",
              "      }\n",
              "    </style>\n",
              "    <button class=\"colab-df-generate\" onclick=\"generateWithVariable('basedatos')\"\n",
              "            title=\"Generate code using this dataframe.\"\n",
              "            style=\"display:none;\">\n",
              "\n",
              "  <svg xmlns=\"http://www.w3.org/2000/svg\" height=\"24px\"viewBox=\"0 0 24 24\"\n",
              "       width=\"24px\">\n",
              "    <path d=\"M7,19H8.4L18.45,9,17,7.55,7,17.6ZM5,21V16.75L18.45,3.32a2,2,0,0,1,2.83,0l1.4,1.43a1.91,1.91,0,0,1,.58,1.4,1.91,1.91,0,0,1-.58,1.4L9.25,21ZM18.45,9,17,7.55Zm-12,3A5.31,5.31,0,0,0,4.9,8.1,5.31,5.31,0,0,0,1,6.5,5.31,5.31,0,0,0,4.9,4.9,5.31,5.31,0,0,0,6.5,1,5.31,5.31,0,0,0,8.1,4.9,5.31,5.31,0,0,0,12,6.5,5.46,5.46,0,0,0,6.5,12Z\"/>\n",
              "  </svg>\n",
              "    </button>\n",
              "    <script>\n",
              "      (() => {\n",
              "      const buttonEl =\n",
              "        document.querySelector('#id_e9092953-58c7-4b94-815e-25a5bfc07786 button.colab-df-generate');\n",
              "      buttonEl.style.display =\n",
              "        google.colab.kernel.accessAllowed ? 'block' : 'none';\n",
              "\n",
              "      buttonEl.onclick = () => {\n",
              "        google.colab.notebook.generateWithVariable('basedatos');\n",
              "      }\n",
              "      })();\n",
              "    </script>\n",
              "  </div>\n",
              "\n",
              "    </div>\n",
              "  </div>\n"
            ],
            "application/vnd.google.colaboratory.intrinsic+json": {
              "type": "dataframe",
              "variable_name": "basedatos",
              "summary": "{\n  \"name\": \"basedatos\",\n  \"rows\": 271,\n  \"fields\": [\n    {\n      \"column\": \"YEAR\",\n      \"properties\": {\n        \"dtype\": \"number\",\n        \"std\": 1,\n        \"min\": 1978,\n        \"max\": 1981,\n        \"num_unique_values\": 2,\n        \"samples\": [\n          1981,\n          1978\n        ],\n        \"semantic_type\": \"\",\n        \"description\": \"\"\n      }\n    },\n    {\n      \"column\": \"AGE\",\n      \"properties\": {\n        \"dtype\": \"number\",\n        \"std\": 23,\n        \"min\": 0,\n        \"max\": 80,\n        \"num_unique_values\": 46,\n        \"samples\": [\n          42,\n          78\n        ],\n        \"semantic_type\": \"\",\n        \"description\": \"\"\n      }\n    },\n    {\n      \"column\": \"DISTANCE_BUS\",\n      \"properties\": {\n        \"dtype\": \"number\",\n        \"std\": 9027,\n        \"min\": 1000,\n        \"max\": 35000,\n        \"num_unique_values\": 34,\n        \"samples\": [\n          24000,\n          31000\n        ],\n        \"semantic_type\": \"\",\n        \"description\": \"\"\n      }\n    },\n    {\n      \"column\": \"DISTANCE_INTERSTATE\",\n      \"properties\": {\n        \"dtype\": \"number\",\n        \"std\": 9115,\n        \"min\": 1000,\n        \"max\": 34000,\n        \"num_unique_values\": 34,\n        \"samples\": [\n          26000,\n          1000\n        ],\n        \"semantic_type\": \"\",\n        \"description\": \"\"\n      }\n    },\n    {\n      \"column\": \"PRICE\",\n      \"properties\": {\n        \"dtype\": \"number\",\n        \"std\": 41891,\n        \"min\": 31000,\n        \"max\": 300000,\n        \"num_unique_values\": 174,\n        \"samples\": [\n          143000,\n          38500\n        ],\n        \"semantic_type\": \"\",\n        \"description\": \"\"\n      }\n    },\n    {\n      \"column\": \"ROOMS\",\n      \"properties\": {\n        \"dtype\": \"number\",\n        \"std\": 0,\n        \"min\": 4,\n        \"max\": 10,\n        \"num_unique_values\": 7,\n        \"samples\": [\n          7,\n          6\n        ],\n        \"semantic_type\": \"\",\n        \"description\": \"\"\n      }\n    },\n    {\n      \"column\": \"AREA\",\n      \"properties\": {\n        \"dtype\": \"number\",\n        \"std\": 697,\n        \"min\": 912,\n        \"max\": 5136,\n        \"num_unique_values\": 212,\n        \"samples\": [\n          2112,\n          1746\n        ],\n        \"semantic_type\": \"\",\n        \"description\": \"\"\n      }\n    },\n    {\n      \"column\": \"LAND\",\n      \"properties\": {\n        \"dtype\": \"number\",\n        \"std\": 40920,\n        \"min\": 1710,\n        \"max\": 544500,\n        \"num_unique_values\": 182,\n        \"samples\": [\n          7500,\n          147668\n        ],\n        \"semantic_type\": \"\",\n        \"description\": \"\"\n      }\n    },\n    {\n      \"column\": \"BATHS\",\n      \"properties\": {\n        \"dtype\": \"number\",\n        \"std\": 0,\n        \"min\": 1,\n        \"max\": 4,\n        \"num_unique_values\": 4,\n        \"samples\": [\n          3,\n          4\n        ],\n        \"semantic_type\": \"\",\n        \"description\": \"\"\n      }\n    }\n  ]\n}"
            }
          },
          "metadata": {},
          "execution_count": 77
        }
      ]
    },
    {
      "cell_type": "code",
      "source": [
        "import pandas as pd\n",
        "import matplotlib.pyplot as plt\n",
        "import seaborn as sns"
      ],
      "metadata": {
        "id": "q5sAcjt8Z67q"
      },
      "execution_count": 90,
      "outputs": []
    },
    {
      "cell_type": "code",
      "source": [
        "datos_agrupados = basedatos.groupby('YEAR')"
      ],
      "metadata": {
        "id": "LpDnkIB8bdbE"
      },
      "execution_count": 95,
      "outputs": []
    },
    {
      "cell_type": "code",
      "source": [
        "datos_agrupados['PRICE'].hist(figsize=(10, 5))\n",
        "plt.title('Distribución de precios por año')\n",
        "plt.xlabel('Precio')\n",
        "plt.ylabel('Cantidad de viviendas')\n",
        "plt.show()"
      ],
      "metadata": {
        "colab": {
          "base_uri": "https://localhost:8080/",
          "height": 488
        },
        "id": "0fshf4i2bk0G",
        "outputId": "264cafe6-edd7-421a-e082-b69283cade14"
      },
      "execution_count": 96,
      "outputs": [
        {
          "output_type": "display_data",
          "data": {
            "text/plain": [
              "<Figure size 1000x500 with 1 Axes>"
            ],
            "image/png": "[encoded data removed]"
          },
          "metadata": {}
        }
      ]
    },
    {
      "cell_type": "code",
      "source": [
        "basedatos.hist()"
      ],
      "metadata": {
        "colab": {
          "base_uri": "https://localhost:8080/",
          "height": 608
        },
        "id": "XKDpPYYjdui8",
        "outputId": "16dbe608-79a1-4125-c471-ce5fd953472f"
      },
      "execution_count": 101,
      "outputs": [
        {
          "output_type": "execute_result",
          "data": {
            "text/plain": [
              "array([[<Axes: title={'center': 'YEAR'}>,\n",
              "        <Axes: title={'center': 'AGE'}>,\n",
              "        <Axes: title={'center': 'DISTANCE_BUS'}>],\n",
              "       [<Axes: title={'center': 'DISTANCE_INTERSTATE'}>,\n",
              "        <Axes: title={'center': 'PRICE'}>,\n",
              "        <Axes: title={'center': 'ROOMS'}>],\n",
              "       [<Axes: title={'center': 'AREA'}>,\n",
              "        <Axes: title={'center': 'LAND'}>,\n",
              "        <Axes: title={'center': 'BATHS'}>]], dtype=object)"
            ]
          },
          "metadata": {},
          "execution_count": 101
        },
        {
          "output_type": "display_data",
          "data": {
            "text/plain": [
              "<Figure size 640x480 with 9 Axes>"
            ],
            "image/png": "[encoded data removed]"
          },
          "metadata": {}
        }
      ]
    },
    {
      "cell_type": "code",
      "source": [
        "basedatos.plot.scatter(x='YEAR', y='PRICE')\n",
        "plt.show()"
      ],
      "metadata": {
        "colab": {
          "base_uri": "https://localhost:8080/",
          "height": 449
        },
        "id": "09lxvXb5d8XC",
        "outputId": "a71f2c04-5221-4245-cef3-896d642de209"
      },
      "execution_count": 103,
      "outputs": [
        {
          "output_type": "display_data",
          "data": {
            "text/plain": [
              "<Figure size 640x480 with 1 Axes>"
            ],
            "image/png": "[encoded data removed]"
          },
          "metadata": {}
        }
      ]
    },
    {
      "cell_type": "code",
      "source": [
        "basedatos.boxplot()\n",
        "plt.show()"
      ],
      "metadata": {
        "colab": {
          "base_uri": "https://localhost:8080/",
          "height": 430
        },
        "id": "osU6MPHXeEzC",
        "outputId": "0b43320c-8807-4491-e6a8-3c6af79b3ee2"
      },
      "execution_count": 104,
      "outputs": [
        {
          "output_type": "display_data",
          "data": {
            "text/plain": [
              "<Figure size 640x480 with 1 Axes>"
            ],
            "image/png": "[encoded data removed]"
          },
          "metadata": {}
        }
      ]
    }
  ]
}